{
 "cells": [
  {
   "cell_type": "markdown",
   "id": "union-property",
   "metadata": {},
   "source": [
    "# Data wrangling and cleaning\n",
    "***"
   ]
  },
  {
   "cell_type": "markdown",
   "id": "respiratory-anderson",
   "metadata": {},
   "source": [
    "To prepare the data for our models, we will wrangle and clean the data as necessary.\n",
    "\n",
    "To view the initial data exploration please click [here](https://github.com/Caparisun/Linear_Regression_Project/blob/master/Notebooks_and_data/1.basic_data_exploration.ipynb)"
   ]
  },
  {
   "cell_type": "code",
   "execution_count": 1,
   "id": "inside-undergraduate",
   "metadata": {},
   "outputs": [],
   "source": [
    "#importing libraries\n",
    "import pandas as pd\n",
    "import numpy as np\n",
    "import matplotlib.pyplot as plt\n",
    "%matplotlib inline\n",
    "import seaborn as sns\n",
    "from sklearn import preprocessing\n",
    "import statsmodels.formula.api as sm"
   ]
  },
  {
   "cell_type": "code",
   "execution_count": 2,
   "id": "established-sacramento",
   "metadata": {},
   "outputs": [],
   "source": [
    "# define column header names in a list\n",
    "names=[\"id\", \"date\", \"bedrooms\", \"bathrooms\",\"sqft_living\", \"sqft_lot\", \"floors\", \"waterfront\", \"view\", \"condition\", \"grade\", \"sqft_above\", \"sqft_basement\", \"yr_built\", \"yr_renovated\", \"zipcode\", \"lat\", \"long\", \"sqft_living15\", \"sqft_lot15\", \"price\"]"
   ]
  },
  {
   "cell_type": "code",
   "execution_count": 3,
   "id": "killing-wings",
   "metadata": {},
   "outputs": [],
   "source": [
    "# Import data into pandas dataframe\n",
    "df = pd.read_csv('regression_data.csv',names=names )"
   ]
  },
  {
   "cell_type": "markdown",
   "id": "superb-radar",
   "metadata": {},
   "source": [
    "***"
   ]
  },
  {
   "cell_type": "code",
   "execution_count": 4,
   "id": "sixth-publicity",
   "metadata": {
    "scrolled": true
   },
   "outputs": [
    {
     "data": {
      "text/html": [
       "<div>\n",
       "<style scoped>\n",
       "    .dataframe tbody tr th:only-of-type {\n",
       "        vertical-align: middle;\n",
       "    }\n",
       "\n",
       "    .dataframe tbody tr th {\n",
       "        vertical-align: top;\n",
       "    }\n",
       "\n",
       "    .dataframe thead th {\n",
       "        text-align: right;\n",
       "    }\n",
       "</style>\n",
       "<table border=\"1\" class=\"dataframe\">\n",
       "  <thead>\n",
       "    <tr style=\"text-align: right;\">\n",
       "      <th></th>\n",
       "      <th>id</th>\n",
       "      <th>date</th>\n",
       "      <th>bedrooms</th>\n",
       "      <th>bathrooms</th>\n",
       "      <th>sqft_living</th>\n",
       "      <th>sqft_lot</th>\n",
       "      <th>floors</th>\n",
       "      <th>waterfront</th>\n",
       "      <th>view</th>\n",
       "      <th>condition</th>\n",
       "      <th>...</th>\n",
       "      <th>sqft_above</th>\n",
       "      <th>sqft_basement</th>\n",
       "      <th>yr_built</th>\n",
       "      <th>yr_renovated</th>\n",
       "      <th>zipcode</th>\n",
       "      <th>lat</th>\n",
       "      <th>long</th>\n",
       "      <th>sqft_living15</th>\n",
       "      <th>sqft_lot15</th>\n",
       "      <th>price</th>\n",
       "    </tr>\n",
       "  </thead>\n",
       "  <tbody>\n",
       "    <tr>\n",
       "      <th>0</th>\n",
       "      <td>7129300520</td>\n",
       "      <td>10/13/14</td>\n",
       "      <td>3</td>\n",
       "      <td>1.00</td>\n",
       "      <td>1180</td>\n",
       "      <td>5650</td>\n",
       "      <td>1.0</td>\n",
       "      <td>0</td>\n",
       "      <td>0</td>\n",
       "      <td>3</td>\n",
       "      <td>...</td>\n",
       "      <td>1180</td>\n",
       "      <td>0</td>\n",
       "      <td>1955</td>\n",
       "      <td>0</td>\n",
       "      <td>98178</td>\n",
       "      <td>47.5112</td>\n",
       "      <td>-122.257</td>\n",
       "      <td>1340</td>\n",
       "      <td>5650</td>\n",
       "      <td>221900</td>\n",
       "    </tr>\n",
       "    <tr>\n",
       "      <th>1</th>\n",
       "      <td>6414100192</td>\n",
       "      <td>12/9/14</td>\n",
       "      <td>3</td>\n",
       "      <td>2.25</td>\n",
       "      <td>2570</td>\n",
       "      <td>7242</td>\n",
       "      <td>2.0</td>\n",
       "      <td>0</td>\n",
       "      <td>0</td>\n",
       "      <td>3</td>\n",
       "      <td>...</td>\n",
       "      <td>2170</td>\n",
       "      <td>400</td>\n",
       "      <td>1951</td>\n",
       "      <td>1991</td>\n",
       "      <td>98125</td>\n",
       "      <td>47.7210</td>\n",
       "      <td>-122.319</td>\n",
       "      <td>1690</td>\n",
       "      <td>7639</td>\n",
       "      <td>538000</td>\n",
       "    </tr>\n",
       "    <tr>\n",
       "      <th>2</th>\n",
       "      <td>5631500400</td>\n",
       "      <td>2/25/15</td>\n",
       "      <td>2</td>\n",
       "      <td>1.00</td>\n",
       "      <td>770</td>\n",
       "      <td>10000</td>\n",
       "      <td>1.0</td>\n",
       "      <td>0</td>\n",
       "      <td>0</td>\n",
       "      <td>3</td>\n",
       "      <td>...</td>\n",
       "      <td>770</td>\n",
       "      <td>0</td>\n",
       "      <td>1933</td>\n",
       "      <td>0</td>\n",
       "      <td>98028</td>\n",
       "      <td>47.7379</td>\n",
       "      <td>-122.233</td>\n",
       "      <td>2720</td>\n",
       "      <td>8062</td>\n",
       "      <td>180000</td>\n",
       "    </tr>\n",
       "    <tr>\n",
       "      <th>3</th>\n",
       "      <td>2487200875</td>\n",
       "      <td>12/9/14</td>\n",
       "      <td>4</td>\n",
       "      <td>3.00</td>\n",
       "      <td>1960</td>\n",
       "      <td>5000</td>\n",
       "      <td>1.0</td>\n",
       "      <td>0</td>\n",
       "      <td>0</td>\n",
       "      <td>5</td>\n",
       "      <td>...</td>\n",
       "      <td>1050</td>\n",
       "      <td>910</td>\n",
       "      <td>1965</td>\n",
       "      <td>0</td>\n",
       "      <td>98136</td>\n",
       "      <td>47.5208</td>\n",
       "      <td>-122.393</td>\n",
       "      <td>1360</td>\n",
       "      <td>5000</td>\n",
       "      <td>604000</td>\n",
       "    </tr>\n",
       "    <tr>\n",
       "      <th>4</th>\n",
       "      <td>1954400510</td>\n",
       "      <td>2/18/15</td>\n",
       "      <td>3</td>\n",
       "      <td>2.00</td>\n",
       "      <td>1680</td>\n",
       "      <td>8080</td>\n",
       "      <td>1.0</td>\n",
       "      <td>0</td>\n",
       "      <td>0</td>\n",
       "      <td>3</td>\n",
       "      <td>...</td>\n",
       "      <td>1680</td>\n",
       "      <td>0</td>\n",
       "      <td>1987</td>\n",
       "      <td>0</td>\n",
       "      <td>98074</td>\n",
       "      <td>47.6168</td>\n",
       "      <td>-122.045</td>\n",
       "      <td>1800</td>\n",
       "      <td>7503</td>\n",
       "      <td>510000</td>\n",
       "    </tr>\n",
       "  </tbody>\n",
       "</table>\n",
       "<p>5 rows × 21 columns</p>\n",
       "</div>"
      ],
      "text/plain": [
       "           id      date  bedrooms  bathrooms  sqft_living  sqft_lot  floors  \\\n",
       "0  7129300520  10/13/14         3       1.00         1180      5650     1.0   \n",
       "1  6414100192   12/9/14         3       2.25         2570      7242     2.0   \n",
       "2  5631500400   2/25/15         2       1.00          770     10000     1.0   \n",
       "3  2487200875   12/9/14         4       3.00         1960      5000     1.0   \n",
       "4  1954400510   2/18/15         3       2.00         1680      8080     1.0   \n",
       "\n",
       "   waterfront  view  condition  ...  sqft_above  sqft_basement  yr_built  \\\n",
       "0           0     0          3  ...        1180              0      1955   \n",
       "1           0     0          3  ...        2170            400      1951   \n",
       "2           0     0          3  ...         770              0      1933   \n",
       "3           0     0          5  ...        1050            910      1965   \n",
       "4           0     0          3  ...        1680              0      1987   \n",
       "\n",
       "   yr_renovated  zipcode      lat     long  sqft_living15  sqft_lot15   price  \n",
       "0             0    98178  47.5112 -122.257           1340        5650  221900  \n",
       "1          1991    98125  47.7210 -122.319           1690        7639  538000  \n",
       "2             0    98028  47.7379 -122.233           2720        8062  180000  \n",
       "3             0    98136  47.5208 -122.393           1360        5000  604000  \n",
       "4             0    98074  47.6168 -122.045           1800        7503  510000  \n",
       "\n",
       "[5 rows x 21 columns]"
      ]
     },
     "execution_count": 4,
     "metadata": {},
     "output_type": "execute_result"
    }
   ],
   "source": [
    "# check if the import worked \n",
    "df.head()"
   ]
  },
  {
   "cell_type": "code",
   "execution_count": 5,
   "id": "advised-internship",
   "metadata": {},
   "outputs": [
    {
     "name": "stdout",
     "output_type": "stream",
     "text": [
      "<class 'pandas.core.frame.DataFrame'>\n",
      "RangeIndex: 21597 entries, 0 to 21596\n",
      "Data columns (total 21 columns):\n",
      " #   Column         Non-Null Count  Dtype  \n",
      "---  ------         --------------  -----  \n",
      " 0   id             21597 non-null  int64  \n",
      " 1   date           21597 non-null  object \n",
      " 2   bedrooms       21597 non-null  int64  \n",
      " 3   bathrooms      21597 non-null  float64\n",
      " 4   sqft_living    21597 non-null  int64  \n",
      " 5   sqft_lot       21597 non-null  int64  \n",
      " 6   floors         21597 non-null  float64\n",
      " 7   waterfront     21597 non-null  int64  \n",
      " 8   view           21597 non-null  int64  \n",
      " 9   condition      21597 non-null  int64  \n",
      " 10  grade          21597 non-null  int64  \n",
      " 11  sqft_above     21597 non-null  int64  \n",
      " 12  sqft_basement  21597 non-null  int64  \n",
      " 13  yr_built       21597 non-null  int64  \n",
      " 14  yr_renovated   21597 non-null  int64  \n",
      " 15  zipcode        21597 non-null  int64  \n",
      " 16  lat            21597 non-null  float64\n",
      " 17  long           21597 non-null  float64\n",
      " 18  sqft_living15  21597 non-null  int64  \n",
      " 19  sqft_lot15     21597 non-null  int64  \n",
      " 20  price          21597 non-null  int64  \n",
      "dtypes: float64(4), int64(16), object(1)\n",
      "memory usage: 3.5+ MB\n"
     ]
    }
   ],
   "source": [
    "df.info()"
   ]
  },
  {
   "cell_type": "code",
   "execution_count": 6,
   "id": "nutritional-welcome",
   "metadata": {},
   "outputs": [
    {
     "name": "stdout",
     "output_type": "stream",
     "text": [
      "id 21420\n",
      "date 372\n",
      "bedrooms 12\n",
      "bathrooms 29\n",
      "sqft_living 1034\n",
      "sqft_lot 9776\n",
      "floors 6\n",
      "waterfront 2\n",
      "view 5\n",
      "condition 5\n",
      "grade 11\n",
      "sqft_above 942\n",
      "sqft_basement 306\n",
      "yr_built 116\n",
      "yr_renovated 70\n",
      "zipcode 70\n",
      "lat 5033\n",
      "long 751\n",
      "sqft_living15 777\n",
      "sqft_lot15 8682\n",
      "price 3622\n"
     ]
    }
   ],
   "source": [
    "# now we look at the unique values for each row\n",
    "for c in df.columns.tolist():       #iterate over a list of the columns  \n",
    "    print(c, len(df[c].unique()))   #print the colum header and the unique values\n",
    "# the duplicates are succesfully removed from the dataframe"
   ]
  },
  {
   "cell_type": "code",
   "execution_count": 7,
   "id": "important-malawi",
   "metadata": {},
   "outputs": [
    {
     "name": "stdout",
     "output_type": "stream",
     "text": [
      "<class 'pandas.core.frame.DataFrame'>\n",
      "Int64Index: 21420 entries, 2495 to 15937\n",
      "Data columns (total 21 columns):\n",
      " #   Column         Non-Null Count  Dtype         \n",
      "---  ------         --------------  -----         \n",
      " 0   id             21420 non-null  int64         \n",
      " 1   date           21420 non-null  datetime64[ns]\n",
      " 2   bedrooms       21420 non-null  int64         \n",
      " 3   bathrooms      21420 non-null  float64       \n",
      " 4   sqft_living    21420 non-null  int64         \n",
      " 5   sqft_lot       21420 non-null  int64         \n",
      " 6   floors         21420 non-null  float64       \n",
      " 7   waterfront     21420 non-null  int64         \n",
      " 8   view           21420 non-null  int64         \n",
      " 9   condition      21420 non-null  int64         \n",
      " 10  grade          21420 non-null  int64         \n",
      " 11  sqft_above     21420 non-null  int64         \n",
      " 12  sqft_basement  21420 non-null  int64         \n",
      " 13  yr_built       21420 non-null  int64         \n",
      " 14  yr_renovated   21420 non-null  int64         \n",
      " 15  zipcode        21420 non-null  int64         \n",
      " 16  lat            21420 non-null  float64       \n",
      " 17  long           21420 non-null  float64       \n",
      " 18  sqft_living15  21420 non-null  int64         \n",
      " 19  sqft_lot15     21420 non-null  int64         \n",
      " 20  price          21420 non-null  int64         \n",
      "dtypes: datetime64[ns](1), float64(4), int64(16)\n",
      "memory usage: 3.6 MB\n"
     ]
    }
   ],
   "source": [
    "# There were a number of duplicate ids, we assume these are multiple sales of the same unit.\n",
    "# so to give a more accurate picture, we decided to only use the most recent sale data of a unit.\n",
    "\n",
    "# first we need to convert the date column to datetime\n",
    "df['date'] = pd.to_datetime(df['date'])\n",
    "\n",
    "# sort the dataframe by id and date\n",
    "df = df.sort_values(by=['id', 'date'])\n",
    "\n",
    "#drop all duplicate ID's, keep the last one\n",
    "df_drop = df.drop_duplicates(['id'], keep='last')\n",
    "\n",
    "#check if that worked and we have less rows\n",
    "df_drop.info();"
   ]
  },
  {
   "cell_type": "code",
   "execution_count": 8,
   "id": "loving-boating",
   "metadata": {},
   "outputs": [],
   "source": [
    "# we will directly drop the columns \"ID\", \"lat\", \"long\", \"yr_built\" and \"date\" \n",
    "# since they provide no value to our analysis according to the correlation matrix\n",
    "\n",
    "df_drop=df.drop(['id', 'lat','long','yr_built','date'], axis = 1) \n"
   ]
  },
  {
   "cell_type": "code",
   "execution_count": 9,
   "id": "attended-brief",
   "metadata": {
    "scrolled": false
   },
   "outputs": [
    {
     "data": {
      "text/html": [
       "<div>\n",
       "<style scoped>\n",
       "    .dataframe tbody tr th:only-of-type {\n",
       "        vertical-align: middle;\n",
       "    }\n",
       "\n",
       "    .dataframe tbody tr th {\n",
       "        vertical-align: top;\n",
       "    }\n",
       "\n",
       "    .dataframe thead th {\n",
       "        text-align: right;\n",
       "    }\n",
       "</style>\n",
       "<table border=\"1\" class=\"dataframe\">\n",
       "  <thead>\n",
       "    <tr style=\"text-align: right;\">\n",
       "      <th></th>\n",
       "      <th>bedrooms</th>\n",
       "      <th>bathrooms</th>\n",
       "      <th>sqft_living</th>\n",
       "      <th>sqft_lot</th>\n",
       "      <th>floors</th>\n",
       "      <th>waterfront</th>\n",
       "      <th>view</th>\n",
       "      <th>condition</th>\n",
       "      <th>grade</th>\n",
       "      <th>sqft_above</th>\n",
       "      <th>sqft_basement</th>\n",
       "      <th>yr_renovated</th>\n",
       "      <th>zipcode</th>\n",
       "      <th>sqft_living15</th>\n",
       "      <th>sqft_lot15</th>\n",
       "      <th>price</th>\n",
       "    </tr>\n",
       "  </thead>\n",
       "  <tbody>\n",
       "    <tr>\n",
       "      <th>2494</th>\n",
       "      <td>6</td>\n",
       "      <td>3.00</td>\n",
       "      <td>2400</td>\n",
       "      <td>9373</td>\n",
       "      <td>2.0</td>\n",
       "      <td>0</td>\n",
       "      <td>0</td>\n",
       "      <td>3</td>\n",
       "      <td>7</td>\n",
       "      <td>2400</td>\n",
       "      <td>0</td>\n",
       "      <td>0</td>\n",
       "      <td>98002</td>\n",
       "      <td>2060</td>\n",
       "      <td>7316</td>\n",
       "      <td>280000</td>\n",
       "    </tr>\n",
       "    <tr>\n",
       "      <th>2495</th>\n",
       "      <td>6</td>\n",
       "      <td>3.00</td>\n",
       "      <td>2400</td>\n",
       "      <td>9373</td>\n",
       "      <td>2.0</td>\n",
       "      <td>0</td>\n",
       "      <td>0</td>\n",
       "      <td>3</td>\n",
       "      <td>7</td>\n",
       "      <td>2400</td>\n",
       "      <td>0</td>\n",
       "      <td>0</td>\n",
       "      <td>98002</td>\n",
       "      <td>2060</td>\n",
       "      <td>7316</td>\n",
       "      <td>300000</td>\n",
       "    </tr>\n",
       "    <tr>\n",
       "      <th>6729</th>\n",
       "      <td>4</td>\n",
       "      <td>1.75</td>\n",
       "      <td>2060</td>\n",
       "      <td>26036</td>\n",
       "      <td>1.0</td>\n",
       "      <td>0</td>\n",
       "      <td>0</td>\n",
       "      <td>4</td>\n",
       "      <td>8</td>\n",
       "      <td>1160</td>\n",
       "      <td>900</td>\n",
       "      <td>0</td>\n",
       "      <td>98166</td>\n",
       "      <td>2590</td>\n",
       "      <td>21891</td>\n",
       "      <td>647500</td>\n",
       "    </tr>\n",
       "    <tr>\n",
       "      <th>8404</th>\n",
       "      <td>3</td>\n",
       "      <td>1.00</td>\n",
       "      <td>1460</td>\n",
       "      <td>43000</td>\n",
       "      <td>1.0</td>\n",
       "      <td>0</td>\n",
       "      <td>0</td>\n",
       "      <td>3</td>\n",
       "      <td>7</td>\n",
       "      <td>1460</td>\n",
       "      <td>0</td>\n",
       "      <td>0</td>\n",
       "      <td>98166</td>\n",
       "      <td>2250</td>\n",
       "      <td>20023</td>\n",
       "      <td>400000</td>\n",
       "    </tr>\n",
       "    <tr>\n",
       "      <th>8800</th>\n",
       "      <td>3</td>\n",
       "      <td>1.00</td>\n",
       "      <td>1430</td>\n",
       "      <td>7599</td>\n",
       "      <td>1.5</td>\n",
       "      <td>0</td>\n",
       "      <td>0</td>\n",
       "      <td>4</td>\n",
       "      <td>6</td>\n",
       "      <td>1010</td>\n",
       "      <td>420</td>\n",
       "      <td>0</td>\n",
       "      <td>98168</td>\n",
       "      <td>1290</td>\n",
       "      <td>10320</td>\n",
       "      <td>235000</td>\n",
       "    </tr>\n",
       "  </tbody>\n",
       "</table>\n",
       "</div>"
      ],
      "text/plain": [
       "      bedrooms  bathrooms  sqft_living  sqft_lot  floors  waterfront  view  \\\n",
       "2494         6       3.00         2400      9373     2.0           0     0   \n",
       "2495         6       3.00         2400      9373     2.0           0     0   \n",
       "6729         4       1.75         2060     26036     1.0           0     0   \n",
       "8404         3       1.00         1460     43000     1.0           0     0   \n",
       "8800         3       1.00         1430      7599     1.5           0     0   \n",
       "\n",
       "      condition  grade  sqft_above  sqft_basement  yr_renovated  zipcode  \\\n",
       "2494          3      7        2400              0             0    98002   \n",
       "2495          3      7        2400              0             0    98002   \n",
       "6729          4      8        1160            900             0    98166   \n",
       "8404          3      7        1460              0             0    98166   \n",
       "8800          4      6        1010            420             0    98168   \n",
       "\n",
       "      sqft_living15  sqft_lot15   price  \n",
       "2494           2060        7316  280000  \n",
       "2495           2060        7316  300000  \n",
       "6729           2590       21891  647500  \n",
       "8404           2250       20023  400000  \n",
       "8800           1290       10320  235000  "
      ]
     },
     "execution_count": 9,
     "metadata": {},
     "output_type": "execute_result"
    }
   ],
   "source": [
    "# check again if the columns were removed sucessfuly\n",
    "df_drop.head()"
   ]
  },
  {
   "cell_type": "code",
   "execution_count": 10,
   "id": "verbal-artist",
   "metadata": {},
   "outputs": [],
   "source": [
    "# define a quick function to convert the year renovated into a boolean value\n",
    "# this is because we know from our real estate experience, that a renovation has an impact on the price, \n",
    "# but the year of renovation usually doesn't matter, only the fact that it got renovated\n",
    "\n",
    "def boolean(x):\n",
    "    if x == 0:\n",
    "        n = 0\n",
    "    elif x > 0:\n",
    "        n = 1\n",
    "    return n"
   ]
  },
  {
   "cell_type": "code",
   "execution_count": 11,
   "id": "expanded-pencil",
   "metadata": {
    "scrolled": false
   },
   "outputs": [
    {
     "data": {
      "text/html": [
       "<div>\n",
       "<style scoped>\n",
       "    .dataframe tbody tr th:only-of-type {\n",
       "        vertical-align: middle;\n",
       "    }\n",
       "\n",
       "    .dataframe tbody tr th {\n",
       "        vertical-align: top;\n",
       "    }\n",
       "\n",
       "    .dataframe thead th {\n",
       "        text-align: right;\n",
       "    }\n",
       "</style>\n",
       "<table border=\"1\" class=\"dataframe\">\n",
       "  <thead>\n",
       "    <tr style=\"text-align: right;\">\n",
       "      <th></th>\n",
       "      <th>bedrooms</th>\n",
       "      <th>bathrooms</th>\n",
       "      <th>sqft_living</th>\n",
       "      <th>sqft_lot</th>\n",
       "      <th>floors</th>\n",
       "      <th>waterfront</th>\n",
       "      <th>view</th>\n",
       "      <th>condition</th>\n",
       "      <th>grade</th>\n",
       "      <th>sqft_above</th>\n",
       "      <th>sqft_basement</th>\n",
       "      <th>yr_renovated</th>\n",
       "      <th>zipcode</th>\n",
       "      <th>sqft_living15</th>\n",
       "      <th>sqft_lot15</th>\n",
       "      <th>price</th>\n",
       "    </tr>\n",
       "  </thead>\n",
       "  <tbody>\n",
       "    <tr>\n",
       "      <th>2494</th>\n",
       "      <td>6</td>\n",
       "      <td>3.0</td>\n",
       "      <td>2400</td>\n",
       "      <td>9373</td>\n",
       "      <td>2.0</td>\n",
       "      <td>0</td>\n",
       "      <td>0</td>\n",
       "      <td>3</td>\n",
       "      <td>7</td>\n",
       "      <td>2400</td>\n",
       "      <td>0</td>\n",
       "      <td>0</td>\n",
       "      <td>98002</td>\n",
       "      <td>2060</td>\n",
       "      <td>7316</td>\n",
       "      <td>280000</td>\n",
       "    </tr>\n",
       "    <tr>\n",
       "      <th>2495</th>\n",
       "      <td>6</td>\n",
       "      <td>3.0</td>\n",
       "      <td>2400</td>\n",
       "      <td>9373</td>\n",
       "      <td>2.0</td>\n",
       "      <td>0</td>\n",
       "      <td>0</td>\n",
       "      <td>3</td>\n",
       "      <td>7</td>\n",
       "      <td>2400</td>\n",
       "      <td>0</td>\n",
       "      <td>0</td>\n",
       "      <td>98002</td>\n",
       "      <td>2060</td>\n",
       "      <td>7316</td>\n",
       "      <td>300000</td>\n",
       "    </tr>\n",
       "  </tbody>\n",
       "</table>\n",
       "</div>"
      ],
      "text/plain": [
       "      bedrooms  bathrooms  sqft_living  sqft_lot  floors  waterfront  view  \\\n",
       "2494         6        3.0         2400      9373     2.0           0     0   \n",
       "2495         6        3.0         2400      9373     2.0           0     0   \n",
       "\n",
       "      condition  grade  sqft_above  sqft_basement  yr_renovated  zipcode  \\\n",
       "2494          3      7        2400              0             0    98002   \n",
       "2495          3      7        2400              0             0    98002   \n",
       "\n",
       "      sqft_living15  sqft_lot15   price  \n",
       "2494           2060        7316  280000  \n",
       "2495           2060        7316  300000  "
      ]
     },
     "execution_count": 11,
     "metadata": {},
     "output_type": "execute_result"
    }
   ],
   "source": [
    "# apply booloean function to yr_renovated colum\n",
    "df_drop['yr_renovated']=df['yr_renovated'].apply(boolean)\n",
    "# check if that worked by looking at the head again\n",
    "df_drop.head(2)"
   ]
  },
  {
   "cell_type": "markdown",
   "id": "hundred-lawrence",
   "metadata": {},
   "source": [
    "***"
   ]
  },
  {
   "cell_type": "code",
   "execution_count": 12,
   "id": "variable-congress",
   "metadata": {
    "scrolled": false
   },
   "outputs": [
    {
     "data": {
      "image/png": "[encoded data removed]",
      "text/plain": [
       "<Figure size 1080x1080 with 4 Axes>"
      ]
     },
     "metadata": {
      "needs_background": "light"
     },
     "output_type": "display_data"
    }
   ],
   "source": [
    "# look at the distribution of our variables\n",
    "f, axes = plt.subplots(2, 2, figsize=(15, 15), sharex=False);\n",
    "sns.histplot(x=df_drop[\"bedrooms\"] , color=\"skyblue\", ax=axes[0, 0]);\n",
    "sns.histplot(x=df_drop[\"sqft_living\"] , color=\"olive\", ax=axes[0, 1]);\n",
    "sns.histplot(x=df_drop[\"sqft_lot\"], color=\"gold\", ax=axes[1, 0]);\n",
    "sns.histplot(x=df_drop[\"sqft_lot\"] , color=\"teal\", ax=axes[1, 1]);"
   ]
  },
  {
   "cell_type": "markdown",
   "id": "meaningful-reviewer",
   "metadata": {},
   "source": [
    "We decided to get rid of the bedrooms outlier with 33 bedrooms and only 64k price'"
   ]
  },
  {
   "cell_type": "code",
   "execution_count": 13,
   "id": "binding-merit",
   "metadata": {},
   "outputs": [
    {
     "data": {
      "text/html": [
       "<div>\n",
       "<style scoped>\n",
       "    .dataframe tbody tr th:only-of-type {\n",
       "        vertical-align: middle;\n",
       "    }\n",
       "\n",
       "    .dataframe tbody tr th {\n",
       "        vertical-align: top;\n",
       "    }\n",
       "\n",
       "    .dataframe thead th {\n",
       "        text-align: right;\n",
       "    }\n",
       "</style>\n",
       "<table border=\"1\" class=\"dataframe\">\n",
       "  <thead>\n",
       "    <tr style=\"text-align: right;\">\n",
       "      <th></th>\n",
       "      <th>bedrooms</th>\n",
       "      <th>bathrooms</th>\n",
       "      <th>sqft_living</th>\n",
       "      <th>sqft_lot</th>\n",
       "      <th>floors</th>\n",
       "      <th>waterfront</th>\n",
       "      <th>view</th>\n",
       "      <th>condition</th>\n",
       "      <th>grade</th>\n",
       "      <th>sqft_above</th>\n",
       "      <th>sqft_basement</th>\n",
       "      <th>yr_renovated</th>\n",
       "      <th>zipcode</th>\n",
       "      <th>sqft_living15</th>\n",
       "      <th>sqft_lot15</th>\n",
       "      <th>price</th>\n",
       "    </tr>\n",
       "  </thead>\n",
       "  <tbody>\n",
       "    <tr>\n",
       "      <th>8748</th>\n",
       "      <td>11</td>\n",
       "      <td>3.00</td>\n",
       "      <td>3000</td>\n",
       "      <td>4960</td>\n",
       "      <td>2.0</td>\n",
       "      <td>0</td>\n",
       "      <td>0</td>\n",
       "      <td>3</td>\n",
       "      <td>7</td>\n",
       "      <td>2400</td>\n",
       "      <td>600</td>\n",
       "      <td>1</td>\n",
       "      <td>98106</td>\n",
       "      <td>1420</td>\n",
       "      <td>4960</td>\n",
       "      <td>520000</td>\n",
       "    </tr>\n",
       "    <tr>\n",
       "      <th>15856</th>\n",
       "      <td>33</td>\n",
       "      <td>1.75</td>\n",
       "      <td>1620</td>\n",
       "      <td>6000</td>\n",
       "      <td>1.0</td>\n",
       "      <td>0</td>\n",
       "      <td>0</td>\n",
       "      <td>5</td>\n",
       "      <td>7</td>\n",
       "      <td>1040</td>\n",
       "      <td>580</td>\n",
       "      <td>0</td>\n",
       "      <td>98103</td>\n",
       "      <td>1330</td>\n",
       "      <td>4700</td>\n",
       "      <td>640000</td>\n",
       "    </tr>\n",
       "  </tbody>\n",
       "</table>\n",
       "</div>"
      ],
      "text/plain": [
       "       bedrooms  bathrooms  sqft_living  sqft_lot  floors  waterfront  view  \\\n",
       "8748         11       3.00         3000      4960     2.0           0     0   \n",
       "15856        33       1.75         1620      6000     1.0           0     0   \n",
       "\n",
       "       condition  grade  sqft_above  sqft_basement  yr_renovated  zipcode  \\\n",
       "8748           3      7        2400            600             1    98106   \n",
       "15856          5      7        1040            580             0    98103   \n",
       "\n",
       "       sqft_living15  sqft_lot15   price  \n",
       "8748            1420        4960  520000  \n",
       "15856           1330        4700  640000  "
      ]
     },
     "execution_count": 13,
     "metadata": {},
     "output_type": "execute_result"
    }
   ],
   "source": [
    "#identify outlier in bedrooms column\n",
    "i = df_drop[((df_drop.bedrooms > 10))]\n",
    "i"
   ]
  },
  {
   "cell_type": "code",
   "execution_count": 14,
   "id": "imperial-movie",
   "metadata": {},
   "outputs": [],
   "source": [
    "# drop outlier of bedrooms column\n",
    "df_drop = df_drop.drop(df.index[15856])"
   ]
  },
  {
   "cell_type": "code",
   "execution_count": 15,
   "id": "literary-hawaii",
   "metadata": {},
   "outputs": [
    {
     "data": {
      "image/png": "[encoded data removed]",
      "text/plain": [
       "<Figure size 432x288 with 1 Axes>"
      ]
     },
     "metadata": {
      "needs_background": "light"
     },
     "output_type": "display_data"
    }
   ],
   "source": [
    "# see if removal worked\n",
    "sns.histplot(x=df_drop[\"bedrooms\"]);\n"
   ]
  },
  {
   "cell_type": "code",
   "execution_count": 16,
   "id": "greater-science",
   "metadata": {},
   "outputs": [
    {
     "data": {
      "image/png": "[encoded data removed]",
      "text/plain": [
       "<Figure size 1080x1080 with 4 Axes>"
      ]
     },
     "metadata": {
      "needs_background": "light"
     },
     "output_type": "display_data"
    }
   ],
   "source": [
    "# look at the distribution of our variables \n",
    "f, axes = plt.subplots(2, 2, figsize=(15, 15), sharex=False);\n",
    "sns.histplot(x=df_drop[\"floors\"] , color=\"skyblue\", ax=axes[0, 0]);\n",
    "sns.histplot(x=df_drop[\"waterfront\"] , color=\"olive\", ax=axes[0, 1]);\n",
    "sns.histplot(x=df_drop[\"view\"], color=\"gold\", ax=axes[1, 0]);\n",
    "sns.histplot(x=df_drop[\"condition\"] , color=\"teal\", ax=axes[1, 1]);"
   ]
  },
  {
   "cell_type": "markdown",
   "id": "collectible-bones",
   "metadata": {},
   "source": [
    "No outlier removals for these columns"
   ]
  },
  {
   "cell_type": "code",
   "execution_count": 17,
   "id": "narrow-experience",
   "metadata": {},
   "outputs": [
    {
     "data": {
      "image/png": "[encoded data removed]",
      "text/plain": [
       "<Figure size 1080x1080 with 4 Axes>"
      ]
     },
     "metadata": {
      "needs_background": "light"
     },
     "output_type": "display_data"
    }
   ],
   "source": [
    "# look at the distribution of our variables\n",
    "f, axes = plt.subplots(2, 2, figsize=(15, 15), sharex=False);\n",
    "sns.histplot(x=df_drop[\"grade\"] , color=\"skyblue\", ax=axes[0, 0]);\n",
    "sns.histplot(x=df_drop[\"sqft_above\"] , color=\"olive\", ax=axes[0, 1]);\n",
    "sns.histplot(x=df_drop[\"sqft_basement\"], color=\"gold\", ax=axes[1, 0]);\n",
    "sns.histplot(x=df_drop[\"yr_renovated\"] , color=\"teal\", ax=axes[1, 1]);"
   ]
  },
  {
   "cell_type": "markdown",
   "id": "informal-reasoning",
   "metadata": {},
   "source": [
    "We probably wont use sqft_basement in our model since we have so many zero values"
   ]
  },
  {
   "cell_type": "code",
   "execution_count": 18,
   "id": "precious-revelation",
   "metadata": {
    "scrolled": false
   },
   "outputs": [
    {
     "data": {
      "image/png": "[encoded data removed]",
      "text/plain": [
       "<Figure size 1080x1080 with 4 Axes>"
      ]
     },
     "metadata": {
      "needs_background": "light"
     },
     "output_type": "display_data"
    }
   ],
   "source": [
    "# look at the distribution of our variables\n",
    "f, axes = plt.subplots(2, 2, figsize=(15, 15), sharex=False);\n",
    "sns.histplot(x=df_drop[\"zipcode\"] , color=\"skyblue\", ax=axes[0, 0]);\n",
    "sns.histplot(x=df_drop[\"sqft_living15\"] , color=\"olive\", ax=axes[0, 1]);\n",
    "sns.histplot(x=df_drop[\"sqft_lot15\"], color=\"gold\", ax=axes[1, 0]);\n",
    "sns.histplot(x=df_drop[\"price\"] , color=\"teal\", ax=axes[1, 1]);"
   ]
  },
  {
   "cell_type": "markdown",
   "id": "silent-talent",
   "metadata": {},
   "source": [
    "***"
   ]
  },
  {
   "cell_type": "markdown",
   "id": "standing-adventure",
   "metadata": {},
   "source": [
    "# Next Step: Evaluate a few options for the model"
   ]
  },
  {
   "cell_type": "markdown",
   "id": "collaborative-coast",
   "metadata": {
    "scrolled": false
   },
   "source": [
    "The following is a simple evaluation of a few model combination that we thought of. From this overview we could gain the insight that the variable 'bedrooms' has a high influence on the model the way it is right now. "
   ]
  },
  {
   "cell_type": "code",
   "execution_count": 19,
   "id": "dietary-triangle",
   "metadata": {},
   "outputs": [
    {
     "name": "stdout",
     "output_type": "stream",
     "text": [
      "Intercept       -71135.074936\n",
      "bedrooms        -47943.057995\n",
      "sqft_living        287.906310\n",
      "waterfront      538057.162394\n",
      "view             67447.342426\n",
      "condition        43753.450942\n",
      "yr_renovated    122017.857956\n",
      "dtype: float64\n",
      "                            OLS Regression Results                            \n",
      "==============================================================================\n",
      "Dep. Variable:                  price   R-squared:                       0.569\n",
      "Model:                            OLS   Adj. R-squared:                  0.569\n",
      "Method:                 Least Squares   F-statistic:                     4743.\n",
      "Date:                Thu, 22 Apr 2021   Prob (F-statistic):               0.00\n",
      "Time:                        09:59:19   Log-Likelihood:            -2.9830e+05\n",
      "No. Observations:               21596   AIC:                         5.966e+05\n",
      "Df Residuals:                   21589   BIC:                         5.967e+05\n",
      "Df Model:                           6                                         \n",
      "Covariance Type:            nonrobust                                         \n",
      "================================================================================\n",
      "                   coef    std err          t      P>|t|      [0.025      0.975]\n",
      "--------------------------------------------------------------------------------\n",
      "Intercept    -7.114e+04   1.06e+04     -6.715      0.000   -9.19e+04   -5.04e+04\n",
      "bedrooms     -4.794e+04   2195.453    -21.837      0.000   -5.22e+04   -4.36e+04\n",
      "sqft_living    287.9063      2.308    124.766      0.000     283.383     292.429\n",
      "waterfront    5.381e+05   2.08e+04     25.897      0.000    4.97e+05    5.79e+05\n",
      "view          6.745e+04   2447.700     27.555      0.000    6.26e+04    7.22e+04\n",
      "condition     4.375e+04   2548.072     17.171      0.000    3.88e+04    4.87e+04\n",
      "yr_renovated   1.22e+05   8234.204     14.818      0.000    1.06e+05    1.38e+05\n",
      "==============================================================================\n",
      "Omnibus:                    13089.913   Durbin-Watson:                   1.052\n",
      "Prob(Omnibus):                  0.000   Jarque-Bera (JB):           446473.500\n",
      "Skew:                           2.364   Prob(JB):                         0.00\n",
      "Kurtosis:                      24.768   Cond. No.                     2.88e+04\n",
      "==============================================================================\n",
      "\n",
      "Notes:\n",
      "[1] Standard Errors assume that the covariance matrix of the errors is correctly specified.\n",
      "[2] The condition number is large, 2.88e+04. This might indicate that there are\n",
      "strong multicollinearity or other numerical problems.\n"
     ]
    }
   ],
   "source": [
    "# Evaluate the first model with bedrooms + sqft_living + waterfront + view + condition + yr_renovated on X\n",
    "result = sm.ols(formula=\"price ~ bedrooms + sqft_living + waterfront + view + condition + yr_renovated\", data=df_drop).fit()\n",
    "print(result.params)\n",
    "print(result.summary())"
   ]
  },
  {
   "cell_type": "code",
   "execution_count": 20,
   "id": "affiliated-flash",
   "metadata": {
    "scrolled": false
   },
   "outputs": [
    {
     "name": "stdout",
     "output_type": "stream",
     "text": [
      "Intercept      -165407.504335\n",
      "bathrooms         7347.035983\n",
      "sqft_living        253.776087\n",
      "waterfront      558264.272417\n",
      "view             72305.620983\n",
      "condition        39862.877516\n",
      "yr_renovated    121689.935009\n",
      "dtype: float64\n",
      "                            OLS Regression Results                            \n",
      "==============================================================================\n",
      "Dep. Variable:                  price   R-squared:                       0.559\n",
      "Model:                            OLS   Adj. R-squared:                  0.559\n",
      "Method:                 Least Squares   F-statistic:                     4565.\n",
      "Date:                Thu, 22 Apr 2021   Prob (F-statistic):               0.00\n",
      "Time:                        09:59:19   Log-Likelihood:            -2.9853e+05\n",
      "No. Observations:               21596   AIC:                         5.971e+05\n",
      "Df Residuals:                   21589   BIC:                         5.971e+05\n",
      "Df Model:                           6                                         \n",
      "Covariance Type:            nonrobust                                         \n",
      "================================================================================\n",
      "                   coef    std err          t      P>|t|      [0.025      0.975]\n",
      "--------------------------------------------------------------------------------\n",
      "Intercept    -1.654e+05   1.06e+04    -15.577      0.000   -1.86e+05   -1.45e+05\n",
      "bathrooms     7347.0360   3324.683      2.210      0.027     830.412    1.39e+04\n",
      "sqft_living    253.7761      2.834     89.555      0.000     248.222     259.330\n",
      "waterfront    5.583e+05    2.1e+04     26.606      0.000    5.17e+05    5.99e+05\n",
      "view          7.231e+04   2465.849     29.323      0.000    6.75e+04    7.71e+04\n",
      "condition     3.986e+04   2586.175     15.414      0.000    3.48e+04    4.49e+04\n",
      "yr_renovated  1.217e+05   8324.095     14.619      0.000    1.05e+05    1.38e+05\n",
      "==============================================================================\n",
      "Omnibus:                    13451.373   Durbin-Watson:                   1.039\n",
      "Prob(Omnibus):                  0.000   Jarque-Bera (JB):           491765.340\n",
      "Skew:                           2.439   Prob(JB):                         0.00\n",
      "Kurtosis:                      25.863   Cond. No.                     2.88e+04\n",
      "==============================================================================\n",
      "\n",
      "Notes:\n",
      "[1] Standard Errors assume that the covariance matrix of the errors is correctly specified.\n",
      "[2] The condition number is large, 2.88e+04. This might indicate that there are\n",
      "strong multicollinearity or other numerical problems.\n"
     ]
    }
   ],
   "source": [
    "# Evaluate the second model with bathrooms + sqft_living + waterfront + view + condition + yr_renovated on X\n",
    "# We use the statsmodels.formula.api library to check basic values of the model and see if it makes sense\n",
    "\n",
    "result = sm.ols(formula=\"price ~ bathrooms + sqft_living + waterfront + view + condition + yr_renovated\", data=df_drop).fit()\n",
    "print(result.params)\n",
    "print(result.summary())\n",
    "\n",
    "# seems like bedrooms is a bad variable to predict price with"
   ]
  },
  {
   "cell_type": "code",
   "execution_count": 21,
   "id": "worst-senegal",
   "metadata": {},
   "outputs": [
    {
     "name": "stdout",
     "output_type": "stream",
     "text": [
      "Intercept    127131.413055\n",
      "bedrooms     122488.374127\n",
      "dtype: float64\n",
      "                            OLS Regression Results                            \n",
      "==============================================================================\n",
      "Dep. Variable:                  price   R-squared:                       0.095\n",
      "Model:                            OLS   Adj. R-squared:                  0.095\n",
      "Method:                 Least Squares   F-statistic:                     2277.\n",
      "Date:                Thu, 22 Apr 2021   Prob (F-statistic):               0.00\n",
      "Time:                        09:59:19   Log-Likelihood:            -3.0629e+05\n",
      "No. Observations:               21596   AIC:                         6.126e+05\n",
      "Df Residuals:                   21594   BIC:                         6.126e+05\n",
      "Df Model:                           1                                         \n",
      "Covariance Type:            nonrobust                                         \n",
      "==============================================================================\n",
      "                 coef    std err          t      P>|t|      [0.025      0.975]\n",
      "------------------------------------------------------------------------------\n",
      "Intercept   1.271e+05   8979.799     14.157      0.000     1.1e+05    1.45e+05\n",
      "bedrooms    1.225e+05   2567.137     47.714      0.000    1.17e+05    1.28e+05\n",
      "==============================================================================\n",
      "Omnibus:                    18829.921   Durbin-Watson:                   1.019\n",
      "Prob(Omnibus):                  0.000   Jarque-Bera (JB):          1194974.418\n",
      "Skew:                           3.900   Prob(JB):                         0.00\n",
      "Kurtosis:                      38.597   Cond. No.                         14.2\n",
      "==============================================================================\n",
      "\n",
      "Notes:\n",
      "[1] Standard Errors assume that the covariance matrix of the errors is correctly specified.\n"
     ]
    }
   ],
   "source": [
    "# Evaluate another model with only bedrooms on X to check if it is really a bad variable to predict price with\n",
    "result = sm.ols(formula=\"price ~ bedrooms\", data=df_drop).fit()\n",
    "print(result.params)\n",
    "print(result.summary())"
   ]
  },
  {
   "cell_type": "code",
   "execution_count": 22,
   "id": "demanding-affiliation",
   "metadata": {},
   "outputs": [
    {
     "name": "stdout",
     "output_type": "stream",
     "text": [
      "Intercept       -88779.160609\n",
      "bathrooms        18782.003877\n",
      "bedrooms        -49862.355181\n",
      "sqft_living        277.169300\n",
      "waterfront      538144.895862\n",
      "view             67676.700293\n",
      "condition        45712.370810\n",
      "yr_renovated    121568.622892\n",
      "dtype: float64\n",
      "                            OLS Regression Results                            \n",
      "==============================================================================\n",
      "Dep. Variable:                  price   R-squared:                       0.569\n",
      "Model:                            OLS   Adj. R-squared:                  0.569\n",
      "Method:                 Least Squares   F-statistic:                     4076.\n",
      "Date:                Thu, 22 Apr 2021   Prob (F-statistic):               0.00\n",
      "Time:                        09:59:19   Log-Likelihood:            -2.9828e+05\n",
      "No. Observations:               21596   AIC:                         5.966e+05\n",
      "Df Residuals:                   21588   BIC:                         5.966e+05\n",
      "Df Model:                           7                                         \n",
      "Covariance Type:            nonrobust                                         \n",
      "================================================================================\n",
      "                   coef    std err          t      P>|t|      [0.025      0.975]\n",
      "--------------------------------------------------------------------------------\n",
      "Intercept    -8.878e+04    1.1e+04     -8.043      0.000    -1.1e+05   -6.71e+04\n",
      "bathrooms     1.878e+04   3325.783      5.647      0.000    1.23e+04    2.53e+04\n",
      "bedrooms     -4.986e+04   2220.051    -22.460      0.000   -5.42e+04   -4.55e+04\n",
      "sqft_living    277.1693      2.989     92.741      0.000     271.311     283.027\n",
      "waterfront    5.381e+05   2.08e+04     25.920      0.000    4.97e+05    5.79e+05\n",
      "view          6.768e+04   2446.288     27.665      0.000    6.29e+04    7.25e+04\n",
      "condition     4.571e+04   2569.769     17.789      0.000    4.07e+04    5.07e+04\n",
      "yr_renovated  1.216e+05   8228.704     14.774      0.000    1.05e+05    1.38e+05\n",
      "==============================================================================\n",
      "Omnibus:                    13158.582   Durbin-Watson:                   1.051\n",
      "Prob(Omnibus):                  0.000   Jarque-Bera (JB):           451889.867\n",
      "Skew:                           2.380   Prob(JB):                         0.00\n",
      "Kurtosis:                      24.898   Cond. No.                     2.88e+04\n",
      "==============================================================================\n",
      "\n",
      "Notes:\n",
      "[1] Standard Errors assume that the covariance matrix of the errors is correctly specified.\n",
      "[2] The condition number is large, 2.88e+04. This might indicate that there are\n",
      "strong multicollinearity or other numerical problems.\n"
     ]
    }
   ],
   "source": [
    "# Evaluate another model with bathrooms + sqft_living + waterfront + view + condition + yr_renovated on X\n",
    "\n",
    "\n",
    "result = sm.ols(formula=\"price ~ bathrooms + bedrooms + sqft_living + waterfront + view + condition + yr_renovated\", data=df_drop).fit()\n",
    "print(result.params)\n",
    "print(result.summary())"
   ]
  },
  {
   "cell_type": "code",
   "execution_count": 23,
   "id": "parallel-boston",
   "metadata": {},
   "outputs": [
    {
     "name": "stdout",
     "output_type": "stream",
     "text": [
      "Intercept      -151096.640476\n",
      "bathrooms       227995.913692\n",
      "sqft_lot             0.239537\n",
      "waterfront      552747.072857\n",
      "view            115898.868181\n",
      "condition        49460.432499\n",
      "yr_renovated    127630.011367\n",
      "dtype: float64\n",
      "                            OLS Regression Results                            \n",
      "==============================================================================\n",
      "Dep. Variable:                  price   R-squared:                       0.396\n",
      "Model:                            OLS   Adj. R-squared:                  0.396\n",
      "Method:                 Least Squares   F-statistic:                     2361.\n",
      "Date:                Thu, 22 Apr 2021   Prob (F-statistic):               0.00\n",
      "Time:                        09:59:19   Log-Likelihood:            -3.0193e+05\n",
      "No. Observations:               21596   AIC:                         6.039e+05\n",
      "Df Residuals:                   21589   BIC:                         6.039e+05\n",
      "Df Model:                           6                                         \n",
      "Covariance Type:            nonrobust                                         \n",
      "================================================================================\n",
      "                   coef    std err          t      P>|t|      [0.025      0.975]\n",
      "--------------------------------------------------------------------------------\n",
      "Intercept    -1.511e+05   1.24e+04    -12.156      0.000   -1.75e+05   -1.27e+05\n",
      "bathrooms      2.28e+05   2605.618     87.502      0.000    2.23e+05    2.33e+05\n",
      "sqft_lot         0.2395      0.047      5.077      0.000       0.147       0.332\n",
      "waterfront    5.527e+05   2.46e+04     22.507      0.000    5.05e+05    6.01e+05\n",
      "view          1.159e+05   2831.798     40.928      0.000     1.1e+05    1.21e+05\n",
      "condition     4.946e+04   3024.303     16.354      0.000    4.35e+04    5.54e+04\n",
      "yr_renovated  1.276e+05   9742.307     13.101      0.000    1.09e+05    1.47e+05\n",
      "==============================================================================\n",
      "Omnibus:                    15757.000   Durbin-Watson:                   1.066\n",
      "Prob(Omnibus):                  0.000   Jarque-Bera (JB):           772046.969\n",
      "Skew:                           3.000   Prob(JB):                         0.00\n",
      "Kurtosis:                      31.670   Cond. No.                     5.58e+05\n",
      "==============================================================================\n",
      "\n",
      "Notes:\n",
      "[1] Standard Errors assume that the covariance matrix of the errors is correctly specified.\n",
      "[2] The condition number is large, 5.58e+05. This might indicate that there are\n",
      "strong multicollinearity or other numerical problems.\n"
     ]
    }
   ],
   "source": [
    "# Evaluate another model with bathrooms + sqft_lot + waterfront + view + condition + yr_renovated on X\n",
    "result = sm.ols(formula=\"price ~ bathrooms + sqft_lot + waterfront + view + condition + yr_renovated\", data=df_drop).fit()\n",
    "print(result.params)\n",
    "print(result.summary())"
   ]
  },
  {
   "cell_type": "code",
   "execution_count": 24,
   "id": "interstate-mechanics",
   "metadata": {},
   "outputs": [
    {
     "name": "stdout",
     "output_type": "stream",
     "text": [
      "Intercept       -67597.503835\n",
      "bedrooms        -50432.060311\n",
      "sqft_living        288.781783\n",
      "view             91472.771304\n",
      "condition        44034.020485\n",
      "yr_renovated    134116.927117\n",
      "dtype: float64\n",
      "                            OLS Regression Results                            \n",
      "==============================================================================\n",
      "Dep. Variable:                  price   R-squared:                       0.555\n",
      "Model:                            OLS   Adj. R-squared:                  0.555\n",
      "Method:                 Least Squares   F-statistic:                     5390.\n",
      "Date:                Thu, 22 Apr 2021   Prob (F-statistic):               0.00\n",
      "Time:                        09:59:19   Log-Likelihood:            -2.9863e+05\n",
      "No. Observations:               21596   AIC:                         5.973e+05\n",
      "Df Residuals:                   21590   BIC:                         5.973e+05\n",
      "Df Model:                           5                                         \n",
      "Covariance Type:            nonrobust                                         \n",
      "================================================================================\n",
      "                   coef    std err          t      P>|t|      [0.025      0.975]\n",
      "--------------------------------------------------------------------------------\n",
      "Intercept     -6.76e+04   1.08e+04     -6.285      0.000   -8.87e+04   -4.65e+04\n",
      "bedrooms     -5.043e+04   2227.105    -22.645      0.000   -5.48e+04   -4.61e+04\n",
      "sqft_living    288.7818      2.343    123.262      0.000     284.190     293.374\n",
      "view          9.147e+04   2299.940     39.772      0.000     8.7e+04     9.6e+04\n",
      "condition     4.403e+04   2587.265     17.020      0.000     3.9e+04    4.91e+04\n",
      "yr_renovated  1.341e+05   8347.465     16.067      0.000    1.18e+05     1.5e+05\n",
      "==============================================================================\n",
      "Omnibus:                    13817.648   Durbin-Watson:                   1.089\n",
      "Prob(Omnibus):                  0.000   Jarque-Bera (JB):           501971.947\n",
      "Skew:                           2.542   Prob(JB):                         0.00\n",
      "Kurtosis:                      26.065   Cond. No.                     1.50e+04\n",
      "==============================================================================\n",
      "\n",
      "Notes:\n",
      "[1] Standard Errors assume that the covariance matrix of the errors is correctly specified.\n",
      "[2] The condition number is large, 1.5e+04. This might indicate that there are\n",
      "strong multicollinearity or other numerical problems.\n"
     ]
    }
   ],
   "source": [
    "# Evaluate another model with bathrooms + bedrooms + sqft_living + view + condition + yr_renovated on X\n",
    "result = sm.ols(formula=\"price ~ bedrooms + sqft_living + view + condition + yr_renovated\", data=df_drop).fit()\n",
    "print(result.params)\n",
    "print(result.summary())"
   ]
  },
  {
   "cell_type": "code",
   "execution_count": 25,
   "id": "periodic-generic",
   "metadata": {},
   "outputs": [
    {
     "name": "stdout",
     "output_type": "stream",
     "text": [
      "Intercept     -55029.083254\n",
      "bedrooms      -50491.269870\n",
      "sqft_living      289.483691\n",
      "view           95009.257524\n",
      "condition      41400.087023\n",
      "dtype: float64\n",
      "                            OLS Regression Results                            \n",
      "==============================================================================\n",
      "Dep. Variable:                  price   R-squared:                       0.550\n",
      "Model:                            OLS   Adj. R-squared:                  0.550\n",
      "Method:                 Least Squares   F-statistic:                     6595.\n",
      "Date:                Thu, 22 Apr 2021   Prob (F-statistic):               0.00\n",
      "Time:                        09:59:19   Log-Likelihood:            -2.9876e+05\n",
      "No. Observations:               21596   AIC:                         5.975e+05\n",
      "Df Residuals:                   21591   BIC:                         5.976e+05\n",
      "Df Model:                           4                                         \n",
      "Covariance Type:            nonrobust                                         \n",
      "===============================================================================\n",
      "                  coef    std err          t      P>|t|      [0.025      0.975]\n",
      "-------------------------------------------------------------------------------\n",
      "Intercept   -5.503e+04   1.08e+04     -5.100      0.000   -7.62e+04   -3.39e+04\n",
      "bedrooms    -5.049e+04   2240.324    -22.537      0.000   -5.49e+04   -4.61e+04\n",
      "sqft_living   289.4837      2.356    122.853      0.000     284.865     294.102\n",
      "view         9.501e+04   2302.975     41.255      0.000    9.05e+04    9.95e+04\n",
      "condition     4.14e+04   2597.396     15.939      0.000    3.63e+04    4.65e+04\n",
      "==============================================================================\n",
      "Omnibus:                    13902.310   Durbin-Watson:                   1.071\n",
      "Prob(Omnibus):                  0.000   Jarque-Bera (JB):           511204.133\n",
      "Skew:                           2.561   Prob(JB):                         0.00\n",
      "Kurtosis:                      26.278   Cond. No.                     1.50e+04\n",
      "==============================================================================\n",
      "\n",
      "Notes:\n",
      "[1] Standard Errors assume that the covariance matrix of the errors is correctly specified.\n",
      "[2] The condition number is large, 1.5e+04. This might indicate that there are\n",
      "strong multicollinearity or other numerical problems.\n"
     ]
    }
   ],
   "source": [
    "# Evaluate another model with  bedrooms + sqft_living + view + condition on X\n",
    "result = sm.ols(formula=\"price ~ bedrooms + sqft_living + view + condition\", data=df_drop).fit()\n",
    "print(result.params)\n",
    "print(result.summary())"
   ]
  },
  {
   "cell_type": "code",
   "execution_count": 26,
   "id": "large-level",
   "metadata": {
    "scrolled": false
   },
   "outputs": [
    {
     "name": "stdout",
     "output_type": "stream",
     "text": [
      "Intercept     -84973.337469\n",
      "bedrooms      -60994.160394\n",
      "sqft_living      318.527286\n",
      "condition      49380.882951\n",
      "dtype: float64\n",
      "                            OLS Regression Results                            \n",
      "==============================================================================\n",
      "Dep. Variable:                  price   R-squared:                       0.514\n",
      "Model:                            OLS   Adj. R-squared:                  0.514\n",
      "Method:                 Least Squares   F-statistic:                     7625.\n",
      "Date:                Thu, 22 Apr 2021   Prob (F-statistic):               0.00\n",
      "Time:                        09:59:19   Log-Likelihood:            -2.9958e+05\n",
      "No. Observations:               21596   AIC:                         5.992e+05\n",
      "Df Residuals:                   21592   BIC:                         5.992e+05\n",
      "Df Model:                           3                                         \n",
      "Covariance Type:            nonrobust                                         \n",
      "===============================================================================\n",
      "                  coef    std err          t      P>|t|      [0.025      0.975]\n",
      "-------------------------------------------------------------------------------\n",
      "Intercept   -8.497e+04   1.12e+04     -7.599      0.000   -1.07e+05   -6.31e+04\n",
      "bedrooms    -6.099e+04   2311.823    -26.384      0.000   -6.55e+04   -5.65e+04\n",
      "sqft_living   318.5273      2.336    136.379      0.000     313.949     323.105\n",
      "condition    4.938e+04   2690.273     18.355      0.000    4.41e+04    5.47e+04\n",
      "==============================================================================\n",
      "Omnibus:                    14394.502   Durbin-Watson:                   1.076\n",
      "Prob(Omnibus):                  0.000   Jarque-Bera (JB):           496535.556\n",
      "Skew:                           2.723   Prob(JB):                         0.00\n",
      "Kurtosis:                      25.850   Cond. No.                     1.49e+04\n",
      "==============================================================================\n",
      "\n",
      "Notes:\n",
      "[1] Standard Errors assume that the covariance matrix of the errors is correctly specified.\n",
      "[2] The condition number is large, 1.49e+04. This might indicate that there are\n",
      "strong multicollinearity or other numerical problems.\n"
     ]
    }
   ],
   "source": [
    "# Evaluate another model with bedrooms + sqft_living + condition on X\n",
    "result = sm.ols(formula=\"price ~ bedrooms + sqft_living + condition\", data=df_drop).fit()\n",
    "print(result.params)\n",
    "print(result.summary())"
   ]
  },
  {
   "cell_type": "code",
   "execution_count": 27,
   "id": "duplicate-fundamental",
   "metadata": {},
   "outputs": [
    {
     "name": "stdout",
     "output_type": "stream",
     "text": [
      "Intercept       -88779.160609\n",
      "bathrooms        18782.003877\n",
      "bedrooms        -49862.355181\n",
      "sqft_living        277.169300\n",
      "waterfront      538144.895862\n",
      "view             67676.700293\n",
      "condition        45712.370810\n",
      "yr_renovated    121568.622892\n",
      "dtype: float64\n",
      "                            OLS Regression Results                            \n",
      "==============================================================================\n",
      "Dep. Variable:                  price   R-squared:                       0.569\n",
      "Model:                            OLS   Adj. R-squared:                  0.569\n",
      "Method:                 Least Squares   F-statistic:                     4076.\n",
      "Date:                Thu, 22 Apr 2021   Prob (F-statistic):               0.00\n",
      "Time:                        09:59:19   Log-Likelihood:            -2.9828e+05\n",
      "No. Observations:               21596   AIC:                         5.966e+05\n",
      "Df Residuals:                   21588   BIC:                         5.966e+05\n",
      "Df Model:                           7                                         \n",
      "Covariance Type:            nonrobust                                         \n",
      "================================================================================\n",
      "                   coef    std err          t      P>|t|      [0.025      0.975]\n",
      "--------------------------------------------------------------------------------\n",
      "Intercept    -8.878e+04    1.1e+04     -8.043      0.000    -1.1e+05   -6.71e+04\n",
      "bathrooms     1.878e+04   3325.783      5.647      0.000    1.23e+04    2.53e+04\n",
      "bedrooms     -4.986e+04   2220.051    -22.460      0.000   -5.42e+04   -4.55e+04\n",
      "sqft_living    277.1693      2.989     92.741      0.000     271.311     283.027\n",
      "waterfront    5.381e+05   2.08e+04     25.920      0.000    4.97e+05    5.79e+05\n",
      "view          6.768e+04   2446.288     27.665      0.000    6.29e+04    7.25e+04\n",
      "condition     4.571e+04   2569.769     17.789      0.000    4.07e+04    5.07e+04\n",
      "yr_renovated  1.216e+05   8228.704     14.774      0.000    1.05e+05    1.38e+05\n",
      "==============================================================================\n",
      "Omnibus:                    13158.582   Durbin-Watson:                   1.051\n",
      "Prob(Omnibus):                  0.000   Jarque-Bera (JB):           451889.867\n",
      "Skew:                           2.380   Prob(JB):                         0.00\n",
      "Kurtosis:                      24.898   Cond. No.                     2.88e+04\n",
      "==============================================================================\n",
      "\n",
      "Notes:\n",
      "[1] Standard Errors assume that the covariance matrix of the errors is correctly specified.\n",
      "[2] The condition number is large, 2.88e+04. This might indicate that there are\n",
      "strong multicollinearity or other numerical problems.\n"
     ]
    }
   ],
   "source": [
    "result = sm.ols(formula=\"price ~ bathrooms + bedrooms + sqft_living + waterfront + view + condition + yr_renovated\", data=df_drop).fit()\n",
    "print(result.params)\n",
    "print(result.summary())"
   ]
  },
  {
   "cell_type": "code",
   "execution_count": 28,
   "id": "quality-asian",
   "metadata": {},
   "outputs": [
    {
     "name": "stdout",
     "output_type": "stream",
     "text": [
      "Intercept       -4.559135e+07\n",
      "bedrooms        -3.292836e+04\n",
      "bathrooms       -1.044348e+04\n",
      "sqft_living      1.274880e+02\n",
      "sqft_lot         5.571970e-02\n",
      "floors          -8.709695e+03\n",
      "waterfront       5.701991e+05\n",
      "view             5.200169e+04\n",
      "condition        5.940218e+04\n",
      "grade            1.024405e+05\n",
      "sqft_above       5.538530e+01\n",
      "sqft_basement    7.211173e+01\n",
      "yr_renovated     1.393791e+05\n",
      "zipcode          4.572114e+02\n",
      "sqft_living15    2.461955e+01\n",
      "sqft_lot15      -7.064783e-01\n",
      "dtype: float64\n",
      "                            OLS Regression Results                            \n",
      "==============================================================================\n",
      "Dep. Variable:                  price   R-squared:                       0.617\n",
      "Model:                            OLS   Adj. R-squared:                  0.617\n",
      "Method:                 Least Squares   F-statistic:                     2486.\n",
      "Date:                Thu, 22 Apr 2021   Prob (F-statistic):               0.00\n",
      "Time:                        09:59:19   Log-Likelihood:            -2.9701e+05\n",
      "No. Observations:               21596   AIC:                         5.940e+05\n",
      "Df Residuals:                   21581   BIC:                         5.942e+05\n",
      "Df Model:                          14                                         \n",
      "Covariance Type:            nonrobust                                         \n",
      "=================================================================================\n",
      "                    coef    std err          t      P>|t|      [0.025      0.975]\n",
      "---------------------------------------------------------------------------------\n",
      "Intercept     -4.559e+07   3.09e+06    -14.775      0.000   -5.16e+07   -3.95e+07\n",
      "bedrooms      -3.293e+04   2141.726    -15.375      0.000   -3.71e+04   -2.87e+04\n",
      "bathrooms     -1.044e+04   3476.826     -3.004      0.003   -1.73e+04   -3628.648\n",
      "sqft_living     127.4880      2.541     50.176      0.000     122.508     132.468\n",
      "sqft_lot          0.0557      0.054      1.032      0.302      -0.050       0.162\n",
      "floors        -8709.6951   3967.037     -2.196      0.028   -1.65e+04    -934.010\n",
      "waterfront     5.702e+05   1.96e+04     29.078      0.000    5.32e+05    6.09e+05\n",
      "view             5.2e+04   2397.839     21.687      0.000    4.73e+04    5.67e+04\n",
      "condition       5.94e+04   2508.872     23.677      0.000    5.45e+04    6.43e+04\n",
      "grade          1.024e+05   2346.829     43.651      0.000    9.78e+04    1.07e+05\n",
      "sqft_above       55.3853      2.493     22.216      0.000      50.499      60.272\n",
      "sqft_basement    72.1117      2.937     24.554      0.000      66.355      77.868\n",
      "yr_renovated   1.394e+05   7802.649     17.863      0.000    1.24e+05    1.55e+05\n",
      "zipcode         457.2114     31.445     14.540      0.000     395.577     518.846\n",
      "sqft_living15    24.6196      3.846      6.402      0.000      17.082      32.157\n",
      "sqft_lot15       -0.7065      0.082     -8.564      0.000      -0.868      -0.545\n",
      "==============================================================================\n",
      "Omnibus:                    15901.155   Durbin-Watson:                   1.079\n",
      "Prob(Omnibus):                  0.000   Jarque-Bera (JB):          1002590.998\n",
      "Skew:                           2.955   Prob(JB):                         0.00\n",
      "Kurtosis:                      35.852   Cond. No.                     3.66e+16\n",
      "==============================================================================\n",
      "\n",
      "Notes:\n",
      "[1] Standard Errors assume that the covariance matrix of the errors is correctly specified.\n",
      "[2] The smallest eigenvalue is 1.63e-19. This might indicate that there are\n",
      "strong multicollinearity problems or that the design matrix is singular.\n"
     ]
    }
   ],
   "source": [
    "result = sm.ols(formula=\"price ~ bedrooms + bathrooms + sqft_living + sqft_lot + floors+ waterfront + view + condition + grade + sqft_above + sqft_basement + yr_renovated + zipcode + yr_renovated + sqft_living15 + sqft_lot15\", data=df_drop).fit()\n",
    "print(result.params)\n",
    "print(result.summary())"
   ]
  },
  {
   "cell_type": "markdown",
   "id": "corresponding-romania",
   "metadata": {},
   "source": [
    "## Decisions for the first model:\n",
    "***\n",
    "- We will drop the zipcode, sqft_lot, sqft_above, sqft_basement, sqft_living15, and sqft_lot15 since they provide no value to our model - we might evaluate these as a second approach. We gathered these insights from the evaluations above\n",
    "- We will also not include bedrooms in our model, since the results gained from the evaluations above give a clear signal that it is not the right variable to predict prices with\n",
    "- We will not remove outliers, since we assume that there is a reason for them to be there\n",
    "- We will test 3 different models and see how precise we can get\n",
    "- After the first run, we will iterate the model by normalizing the data. We still won't remove outliers"
   ]
  },
  {
   "cell_type": "code",
   "execution_count": 29,
   "id": "magnetic-keyboard",
   "metadata": {},
   "outputs": [
    {
     "data": {
      "text/html": [
       "<div>\n",
       "<style scoped>\n",
       "    .dataframe tbody tr th:only-of-type {\n",
       "        vertical-align: middle;\n",
       "    }\n",
       "\n",
       "    .dataframe tbody tr th {\n",
       "        vertical-align: top;\n",
       "    }\n",
       "\n",
       "    .dataframe thead th {\n",
       "        text-align: right;\n",
       "    }\n",
       "</style>\n",
       "<table border=\"1\" class=\"dataframe\">\n",
       "  <thead>\n",
       "    <tr style=\"text-align: right;\">\n",
       "      <th></th>\n",
       "      <th>bedrooms</th>\n",
       "      <th>bathrooms</th>\n",
       "      <th>sqft_living</th>\n",
       "      <th>floors</th>\n",
       "      <th>waterfront</th>\n",
       "      <th>view</th>\n",
       "      <th>condition</th>\n",
       "      <th>grade</th>\n",
       "      <th>yr_renovated</th>\n",
       "      <th>price</th>\n",
       "    </tr>\n",
       "  </thead>\n",
       "  <tbody>\n",
       "    <tr>\n",
       "      <th>2494</th>\n",
       "      <td>6</td>\n",
       "      <td>3.00</td>\n",
       "      <td>2400</td>\n",
       "      <td>2.0</td>\n",
       "      <td>0</td>\n",
       "      <td>0</td>\n",
       "      <td>3</td>\n",
       "      <td>7</td>\n",
       "      <td>0</td>\n",
       "      <td>280000</td>\n",
       "    </tr>\n",
       "    <tr>\n",
       "      <th>2495</th>\n",
       "      <td>6</td>\n",
       "      <td>3.00</td>\n",
       "      <td>2400</td>\n",
       "      <td>2.0</td>\n",
       "      <td>0</td>\n",
       "      <td>0</td>\n",
       "      <td>3</td>\n",
       "      <td>7</td>\n",
       "      <td>0</td>\n",
       "      <td>300000</td>\n",
       "    </tr>\n",
       "    <tr>\n",
       "      <th>6729</th>\n",
       "      <td>4</td>\n",
       "      <td>1.75</td>\n",
       "      <td>2060</td>\n",
       "      <td>1.0</td>\n",
       "      <td>0</td>\n",
       "      <td>0</td>\n",
       "      <td>4</td>\n",
       "      <td>8</td>\n",
       "      <td>0</td>\n",
       "      <td>647500</td>\n",
       "    </tr>\n",
       "    <tr>\n",
       "      <th>8404</th>\n",
       "      <td>3</td>\n",
       "      <td>1.00</td>\n",
       "      <td>1460</td>\n",
       "      <td>1.0</td>\n",
       "      <td>0</td>\n",
       "      <td>0</td>\n",
       "      <td>3</td>\n",
       "      <td>7</td>\n",
       "      <td>0</td>\n",
       "      <td>400000</td>\n",
       "    </tr>\n",
       "    <tr>\n",
       "      <th>8800</th>\n",
       "      <td>3</td>\n",
       "      <td>1.00</td>\n",
       "      <td>1430</td>\n",
       "      <td>1.5</td>\n",
       "      <td>0</td>\n",
       "      <td>0</td>\n",
       "      <td>4</td>\n",
       "      <td>6</td>\n",
       "      <td>0</td>\n",
       "      <td>235000</td>\n",
       "    </tr>\n",
       "  </tbody>\n",
       "</table>\n",
       "</div>"
      ],
      "text/plain": [
       "      bedrooms  bathrooms  sqft_living  floors  waterfront  view  condition  \\\n",
       "2494         6       3.00         2400     2.0           0     0          3   \n",
       "2495         6       3.00         2400     2.0           0     0          3   \n",
       "6729         4       1.75         2060     1.0           0     0          4   \n",
       "8404         3       1.00         1460     1.0           0     0          3   \n",
       "8800         3       1.00         1430     1.5           0     0          4   \n",
       "\n",
       "      grade  yr_renovated   price  \n",
       "2494      7             0  280000  \n",
       "2495      7             0  300000  \n",
       "6729      8             0  647500  \n",
       "8404      7             0  400000  \n",
       "8800      6             0  235000  "
      ]
     },
     "execution_count": 29,
     "metadata": {},
     "output_type": "execute_result"
    }
   ],
   "source": [
    "# prepare our dataframe for export by dropping unnecessary columns\n",
    "df_final = df_drop.drop(['zipcode','sqft_lot', 'sqft_above', 'sqft_basement', 'sqft_living15', 'sqft_lot15'], axis = 1) \n",
    "df_final.head()"
   ]
  },
  {
   "cell_type": "code",
   "execution_count": 30,
   "id": "endless-representation",
   "metadata": {},
   "outputs": [],
   "source": [
    "# export to csv\n",
    "df_final.to_csv('model.csv')"
   ]
  },
  {
   "cell_type": "markdown",
   "id": "brief-picnic",
   "metadata": {},
   "source": [
    "***"
   ]
  },
  {
   "cell_type": "markdown",
   "id": "dimensional-forth",
   "metadata": {},
   "source": [
    "To view the next Jupyter Notebook please click [here](https://github.com/Caparisun/Linear_Regression_Project/blob/master/Notebooks_and_data/3.Applying_Model.ipynb)"
   ]
  }
 ],
 "metadata": {
  "kernelspec": {
   "display_name": "Python 3",
   "language": "python",
   "name": "python3"
  },
  "language_info": {
   "codemirror_mode": {
    "name": "ipython",
    "version": 3
   },
   "file_extension": ".py",
   "mimetype": "text/x-python",
   "name": "python",
   "nbconvert_exporter": "python",
   "pygments_lexer": "ipython3",
   "version": "3.9.2"
  }
 },
 "nbformat": 4,
 "nbformat_minor": 5
}
