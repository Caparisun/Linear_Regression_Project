{
 "cells": [
  {
   "cell_type": "code",
   "execution_count": null,
   "id": "complimentary-postage",
   "metadata": {},
   "outputs": [],
   "source": []
  },
  {
   "cell_type": "code",
   "execution_count": 33,
   "id": "limiting-tucson",
   "metadata": {},
   "outputs": [],
   "source": [
    "import pandas as pd\n",
    "import numpy as np\n",
    "import matplotlib.pyplot as plt\n",
    "%matplotlib inline\n",
    "import seaborn as sns\n",
    "from sklearn import preprocessing\n",
    "import statsmodels.formula.api as sm\n",
    "from sklearn import linear_model\n",
    "from sklearn.metrics import mean_squared_error, r2_score\n",
    "from sklearn.model_selection import train_test_split\n"
   ]
  },
  {
   "cell_type": "code",
   "execution_count": 34,
   "id": "synthetic-thunder",
   "metadata": {},
   "outputs": [],
   "source": [
    "# reading the model data into a pandas dataframe\n",
    "df = pd.read_csv('model.csv')\n",
    "# drop unnecessary columns\n",
    "df = df.drop(['Unnamed: 0'], axis = 1) \n"
   ]
  },
  {
   "cell_type": "code",
   "execution_count": 35,
   "id": "reflected-minimum",
   "metadata": {
    "scrolled": true
   },
   "outputs": [
    {
     "data": {
      "text/html": [
       "<div>\n",
       "<style scoped>\n",
       "    .dataframe tbody tr th:only-of-type {\n",
       "        vertical-align: middle;\n",
       "    }\n",
       "\n",
       "    .dataframe tbody tr th {\n",
       "        vertical-align: top;\n",
       "    }\n",
       "\n",
       "    .dataframe thead th {\n",
       "        text-align: right;\n",
       "    }\n",
       "</style>\n",
       "<table border=\"1\" class=\"dataframe\">\n",
       "  <thead>\n",
       "    <tr style=\"text-align: right;\">\n",
       "      <th></th>\n",
       "      <th>bedrooms</th>\n",
       "      <th>bathrooms</th>\n",
       "      <th>sqft_living</th>\n",
       "      <th>floors</th>\n",
       "      <th>waterfront</th>\n",
       "      <th>view</th>\n",
       "      <th>condition</th>\n",
       "      <th>grade</th>\n",
       "      <th>yr_renovated</th>\n",
       "      <th>price</th>\n",
       "    </tr>\n",
       "  </thead>\n",
       "  <tbody>\n",
       "    <tr>\n",
       "      <th>0</th>\n",
       "      <td>0.2</td>\n",
       "      <td>0.066667</td>\n",
       "      <td>0.061503</td>\n",
       "      <td>0.0</td>\n",
       "      <td>0.0</td>\n",
       "      <td>0.0</td>\n",
       "      <td>0.5</td>\n",
       "      <td>0.4</td>\n",
       "      <td>0.0</td>\n",
       "      <td>0.018880</td>\n",
       "    </tr>\n",
       "    <tr>\n",
       "      <th>1</th>\n",
       "      <td>0.2</td>\n",
       "      <td>0.233333</td>\n",
       "      <td>0.167046</td>\n",
       "      <td>0.4</td>\n",
       "      <td>0.0</td>\n",
       "      <td>0.0</td>\n",
       "      <td>0.5</td>\n",
       "      <td>0.4</td>\n",
       "      <td>1.0</td>\n",
       "      <td>0.060352</td>\n",
       "    </tr>\n",
       "    <tr>\n",
       "      <th>2</th>\n",
       "      <td>0.1</td>\n",
       "      <td>0.066667</td>\n",
       "      <td>0.030372</td>\n",
       "      <td>0.0</td>\n",
       "      <td>0.0</td>\n",
       "      <td>0.0</td>\n",
       "      <td>0.5</td>\n",
       "      <td>0.3</td>\n",
       "      <td>0.0</td>\n",
       "      <td>0.013382</td>\n",
       "    </tr>\n",
       "    <tr>\n",
       "      <th>3</th>\n",
       "      <td>0.3</td>\n",
       "      <td>0.333333</td>\n",
       "      <td>0.120729</td>\n",
       "      <td>0.0</td>\n",
       "      <td>0.0</td>\n",
       "      <td>0.0</td>\n",
       "      <td>1.0</td>\n",
       "      <td>0.4</td>\n",
       "      <td>0.0</td>\n",
       "      <td>0.069011</td>\n",
       "    </tr>\n",
       "    <tr>\n",
       "      <th>4</th>\n",
       "      <td>0.2</td>\n",
       "      <td>0.200000</td>\n",
       "      <td>0.099468</td>\n",
       "      <td>0.0</td>\n",
       "      <td>0.0</td>\n",
       "      <td>0.0</td>\n",
       "      <td>0.5</td>\n",
       "      <td>0.5</td>\n",
       "      <td>0.0</td>\n",
       "      <td>0.056678</td>\n",
       "    </tr>\n",
       "  </tbody>\n",
       "</table>\n",
       "</div>"
      ],
      "text/plain": [
       "   bedrooms  bathrooms  sqft_living  floors  waterfront  view  condition  \\\n",
       "0       0.2   0.066667     0.061503     0.0         0.0   0.0        0.5   \n",
       "1       0.2   0.233333     0.167046     0.4         0.0   0.0        0.5   \n",
       "2       0.1   0.066667     0.030372     0.0         0.0   0.0        0.5   \n",
       "3       0.3   0.333333     0.120729     0.0         0.0   0.0        1.0   \n",
       "4       0.2   0.200000     0.099468     0.0         0.0   0.0        0.5   \n",
       "\n",
       "   grade  yr_renovated     price  \n",
       "0    0.4           0.0  0.018880  \n",
       "1    0.4           1.0  0.060352  \n",
       "2    0.3           0.0  0.013382  \n",
       "3    0.4           0.0  0.069011  \n",
       "4    0.5           0.0  0.056678  "
      ]
     },
     "execution_count": 35,
     "metadata": {},
     "output_type": "execute_result"
    }
   ],
   "source": [
    "# check if the import worked\n",
    "df.head()"
   ]
  },
  {
   "cell_type": "markdown",
   "id": "musical-thesis",
   "metadata": {},
   "source": [
    "***\n",
    "### Preparing the model\n",
    "***"
   ]
  },
  {
   "cell_type": "code",
   "execution_count": 38,
   "id": "capital-hotel",
   "metadata": {},
   "outputs": [
    {
     "data": {
      "text/plain": [
       "0.6102529322810382"
      ]
     },
     "execution_count": 38,
     "metadata": {},
     "output_type": "execute_result"
    }
   ],
   "source": [
    "# defining variables for the model for simple linear regression\n",
    "\n",
    "y = df['price'] # define y as price, the variable we want to predict\n",
    "\n",
    "X = df.drop(['price'], axis=1) # define x as our inputs variables\n",
    "\n",
    "lm = linear_model.LinearRegression() # choose the model\n",
    "\n",
    "model = lm.fit(X,y) # fit the model\n",
    "lm.score(X,y) # model scores"
   ]
  },
  {
   "cell_type": "code",
   "execution_count": 37,
   "id": "allied-circumstances",
   "metadata": {},
   "outputs": [],
   "source": [
    "# We will use train_test_split to split our dataset into a training and a prediction set\n",
    "\n",
    "# train-test-split for defining variable\n",
    "X_train, X_test, y_train, y_test=tts(X, y, test_size=0.2, random_state=42)  # random state fixed sample"
   ]
  },
  {
   "cell_type": "code",
   "execution_count": 42,
   "id": "posted-parking",
   "metadata": {},
   "outputs": [
    {
     "name": "stdout",
     "output_type": "stream",
     "text": [
      "the R2 Score is: 0.606281708057341\n"
     ]
    }
   ],
   "source": [
    "# Do some actual predictions with the model\n",
    "\n",
    "data = train_test_split(X,y, test_size=0.4, random_state=100) # data input\n",
    "\n",
    "lm = linear_model.LinearRegression() # choose the model\n",
    "model = lm.fit(X_train,y_train) # fit the model\n",
    "predictions  = lm.predict(X_test) # run the model against our predictions dataset\n",
    "print(\"the R2 Score is: \" + str(r2_score(y_test, predictions))) # take a look at the the r2 score, which measures the error of our predictions\n"
   ]
  },
  {
   "cell_type": "code",
   "execution_count": 30,
   "id": "genetic-valley",
   "metadata": {},
   "outputs": [
    {
     "data": {
      "text/plain": [
       "array([0.02676812, 0.07724084, 0.00730683, ..., 0.02623663, 0.04742999,\n",
       "       0.02623663])"
      ]
     },
     "execution_count": 30,
     "metadata": {},
     "output_type": "execute_result"
    }
   ],
   "source": [
    "predictions  = lm.predict(X)\n",
    "predictions"
   ]
  },
  {
   "cell_type": "code",
   "execution_count": 28,
   "id": "annual-production",
   "metadata": {},
   "outputs": [
    {
     "name": "stdout",
     "output_type": "stream",
     "text": [
      "0.000887896073646081\n"
     ]
    }
   ],
   "source": [
    "mse = mean_squared_error(y_test, predictions)\n",
    "print(mse)\n"
   ]
  },
  {
   "cell_type": "code",
   "execution_count": null,
   "id": "express-person",
   "metadata": {},
   "outputs": [],
   "source": []
  }
 ],
 "metadata": {
  "kernelspec": {
   "display_name": "Python 3",
   "language": "python",
   "name": "python3"
  },
  "language_info": {
   "codemirror_mode": {
    "name": "ipython",
    "version": 3
   },
   "file_extension": ".py",
   "mimetype": "text/x-python",
   "name": "python",
   "nbconvert_exporter": "python",
   "pygments_lexer": "ipython3",
   "version": "3.9.2"
  }
 },
 "nbformat": 4,
 "nbformat_minor": 5
}
