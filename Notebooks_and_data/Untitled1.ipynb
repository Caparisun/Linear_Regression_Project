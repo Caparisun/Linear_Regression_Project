{
 "cells": [
  {
   "cell_type": "markdown",
   "id": "blond-provincial",
   "metadata": {},
   "source": [
    "    Bedrooms or bathrooms or floors\n",
    "    sqft_living or sqft_above or sqft_15 difference of original and sqft2015!\n",
    "    sqft_lot\n",
    "    (waterfront (resampled or dropped))\n",
    "    view ( we dont know what it means - one time without one time with)\n",
    "    condition\n",
    "    (yr_built or year renovated but wrangled)) - to boolean\n",
    "    (zipcode - wranglin needed)"
   ]
  }
 ],
 "metadata": {
  "kernelspec": {
   "display_name": "Python 3",
   "language": "python",
   "name": "python3"
  },
  "language_info": {
   "codemirror_mode": {
    "name": "ipython",
    "version": 3
   },
   "file_extension": ".py",
   "mimetype": "text/x-python",
   "name": "python",
   "nbconvert_exporter": "python",
   "pygments_lexer": "ipython3",
   "version": "3.9.2"
  }
 },
 "nbformat": 4,
 "nbformat_minor": 5
}
