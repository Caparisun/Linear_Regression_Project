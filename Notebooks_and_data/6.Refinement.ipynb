{
 "cells": [
  {
   "cell_type": "markdown",
   "id": "indonesian-headset",
   "metadata": {},
   "source": [
    "# Refinement"
   ]
  },
  {
   "cell_type": "markdown",
   "id": "objective-ceiling",
   "metadata": {},
   "source": [
    "We try a few more models with more wrangling of the data and see if we can improve the result of our first model"
   ]
  },
  {
   "cell_type": "markdown",
   "id": "useful-finding",
   "metadata": {},
   "source": [
    "Please refer to the data exploration notebook for visuals [here](https://github.com/Caparisun/Linear_Regression_Project/blob/master/Notebooks_and_data/1.basic_data_exploration.ipynb)\n",
    "\n",
    "The first wrangling iteration can be found [here](https://github.com/Caparisun/Linear_Regression_Project/blob/master/Notebooks_and_data/2.Datawrangling.ipynb).\n",
    "\n",
    "To view the applications of the first algorithms please click [here](https://github.com/Caparisun/Linear_Regression_Project/blob/master/Notebooks_and_data/3.Applying_Model.ipynb)\n",
    "\n",
    "To view the normalization please click [here](https://github.com/Caparisun/Linear_Regression_Project/blob/master/Notebooks_and_data/4.Iteration_normalized.ipynb)\n",
    "\n",
    "To view the application of the normalized data please click [here](https://github.com/Caparisun/Linear_Regression_Project/blob/master/Notebooks_and_data/5.applying_model_norm.ipynb)"
   ]
  },
  {
   "cell_type": "code",
   "execution_count": 37,
   "id": "alpine-brazil",
   "metadata": {},
   "outputs": [],
   "source": [
    "#importing libraries\n",
    "import pandas as pd\n",
    "import numpy as np\n",
    "import matplotlib.pyplot as plt\n",
    "%matplotlib inline\n",
    "import seaborn as sns\n",
    "from sklearn import preprocessing\n",
    "import statsmodels.formula.api as sm\n",
    "import plotly.express as px\n",
    "import plotly.graph_objects as go\n",
    "import warnings\n",
    "warnings.filterwarnings(\"ignore\") # ignore warning from libraries \n",
    "import math \n",
    "from sklearn.linear_model import LinearRegression\n",
    "from sklearn.metrics import mean_squared_error, r2_score\n",
    "from sklearn.preprocessing import PolynomialFeatures\n",
    "from sklearn.cluster import KMeans\n",
    "from sklearn import metrics\n",
    "from scipy.spatial.distance import cdist\n",
    "from sklearn.model_selection import train_test_split\n",
    "from sklearn.neighbors import KNeighborsRegressor\n",
    "from mlxtend.plotting import plot_decision_regions\n",
    "from sklearn.metrics import mean_absolute_error, mean_squared_error, r2_score\n",
    "from sklearn.preprocessing import StandardScaler\n"
   ]
  },
  {
   "cell_type": "code",
   "execution_count": 38,
   "id": "above-partner",
   "metadata": {},
   "outputs": [],
   "source": [
    "# define column header names in a list\n",
    "names=[\"id\", \"date\", \"bedrooms\", \"bathrooms\",\"sqft_living\", \"sqft_lot\", \"floors\", \"waterfront\", \"view\", \"condition\", \"grade\", \"sqft_above\", \"sqft_basement\", \"yr_built\", \"yr_renovated\", \"zipcode\", \"lat\", \"long\", \"sqft_living15\", \"sqft_lot15\", \"price\"]"
   ]
  },
  {
   "cell_type": "code",
   "execution_count": 39,
   "id": "interim-enterprise",
   "metadata": {},
   "outputs": [],
   "source": [
    "# Import data into pandas dataframe. We are using the original data again\n",
    "df = pd.read_csv('regression_data.csv',names=names )"
   ]
  },
  {
   "cell_type": "code",
   "execution_count": 40,
   "id": "random-sense",
   "metadata": {
    "scrolled": true
   },
   "outputs": [
    {
     "data": {
      "text/html": [
       "<div>\n",
       "<style scoped>\n",
       "    .dataframe tbody tr th:only-of-type {\n",
       "        vertical-align: middle;\n",
       "    }\n",
       "\n",
       "    .dataframe tbody tr th {\n",
       "        vertical-align: top;\n",
       "    }\n",
       "\n",
       "    .dataframe thead th {\n",
       "        text-align: right;\n",
       "    }\n",
       "</style>\n",
       "<table border=\"1\" class=\"dataframe\">\n",
       "  <thead>\n",
       "    <tr style=\"text-align: right;\">\n",
       "      <th></th>\n",
       "      <th>id</th>\n",
       "      <th>date</th>\n",
       "      <th>bedrooms</th>\n",
       "      <th>bathrooms</th>\n",
       "      <th>sqft_living</th>\n",
       "      <th>sqft_lot</th>\n",
       "      <th>floors</th>\n",
       "      <th>waterfront</th>\n",
       "      <th>view</th>\n",
       "      <th>condition</th>\n",
       "      <th>...</th>\n",
       "      <th>sqft_above</th>\n",
       "      <th>sqft_basement</th>\n",
       "      <th>yr_built</th>\n",
       "      <th>yr_renovated</th>\n",
       "      <th>zipcode</th>\n",
       "      <th>lat</th>\n",
       "      <th>long</th>\n",
       "      <th>sqft_living15</th>\n",
       "      <th>sqft_lot15</th>\n",
       "      <th>price</th>\n",
       "    </tr>\n",
       "  </thead>\n",
       "  <tbody>\n",
       "    <tr>\n",
       "      <th>0</th>\n",
       "      <td>7129300520</td>\n",
       "      <td>10/13/14</td>\n",
       "      <td>3</td>\n",
       "      <td>1.00</td>\n",
       "      <td>1180</td>\n",
       "      <td>5650</td>\n",
       "      <td>1.0</td>\n",
       "      <td>0</td>\n",
       "      <td>0</td>\n",
       "      <td>3</td>\n",
       "      <td>...</td>\n",
       "      <td>1180</td>\n",
       "      <td>0</td>\n",
       "      <td>1955</td>\n",
       "      <td>0</td>\n",
       "      <td>98178</td>\n",
       "      <td>47.5112</td>\n",
       "      <td>-122.257</td>\n",
       "      <td>1340</td>\n",
       "      <td>5650</td>\n",
       "      <td>221900</td>\n",
       "    </tr>\n",
       "    <tr>\n",
       "      <th>1</th>\n",
       "      <td>6414100192</td>\n",
       "      <td>12/9/14</td>\n",
       "      <td>3</td>\n",
       "      <td>2.25</td>\n",
       "      <td>2570</td>\n",
       "      <td>7242</td>\n",
       "      <td>2.0</td>\n",
       "      <td>0</td>\n",
       "      <td>0</td>\n",
       "      <td>3</td>\n",
       "      <td>...</td>\n",
       "      <td>2170</td>\n",
       "      <td>400</td>\n",
       "      <td>1951</td>\n",
       "      <td>1991</td>\n",
       "      <td>98125</td>\n",
       "      <td>47.7210</td>\n",
       "      <td>-122.319</td>\n",
       "      <td>1690</td>\n",
       "      <td>7639</td>\n",
       "      <td>538000</td>\n",
       "    </tr>\n",
       "    <tr>\n",
       "      <th>2</th>\n",
       "      <td>5631500400</td>\n",
       "      <td>2/25/15</td>\n",
       "      <td>2</td>\n",
       "      <td>1.00</td>\n",
       "      <td>770</td>\n",
       "      <td>10000</td>\n",
       "      <td>1.0</td>\n",
       "      <td>0</td>\n",
       "      <td>0</td>\n",
       "      <td>3</td>\n",
       "      <td>...</td>\n",
       "      <td>770</td>\n",
       "      <td>0</td>\n",
       "      <td>1933</td>\n",
       "      <td>0</td>\n",
       "      <td>98028</td>\n",
       "      <td>47.7379</td>\n",
       "      <td>-122.233</td>\n",
       "      <td>2720</td>\n",
       "      <td>8062</td>\n",
       "      <td>180000</td>\n",
       "    </tr>\n",
       "    <tr>\n",
       "      <th>3</th>\n",
       "      <td>2487200875</td>\n",
       "      <td>12/9/14</td>\n",
       "      <td>4</td>\n",
       "      <td>3.00</td>\n",
       "      <td>1960</td>\n",
       "      <td>5000</td>\n",
       "      <td>1.0</td>\n",
       "      <td>0</td>\n",
       "      <td>0</td>\n",
       "      <td>5</td>\n",
       "      <td>...</td>\n",
       "      <td>1050</td>\n",
       "      <td>910</td>\n",
       "      <td>1965</td>\n",
       "      <td>0</td>\n",
       "      <td>98136</td>\n",
       "      <td>47.5208</td>\n",
       "      <td>-122.393</td>\n",
       "      <td>1360</td>\n",
       "      <td>5000</td>\n",
       "      <td>604000</td>\n",
       "    </tr>\n",
       "    <tr>\n",
       "      <th>4</th>\n",
       "      <td>1954400510</td>\n",
       "      <td>2/18/15</td>\n",
       "      <td>3</td>\n",
       "      <td>2.00</td>\n",
       "      <td>1680</td>\n",
       "      <td>8080</td>\n",
       "      <td>1.0</td>\n",
       "      <td>0</td>\n",
       "      <td>0</td>\n",
       "      <td>3</td>\n",
       "      <td>...</td>\n",
       "      <td>1680</td>\n",
       "      <td>0</td>\n",
       "      <td>1987</td>\n",
       "      <td>0</td>\n",
       "      <td>98074</td>\n",
       "      <td>47.6168</td>\n",
       "      <td>-122.045</td>\n",
       "      <td>1800</td>\n",
       "      <td>7503</td>\n",
       "      <td>510000</td>\n",
       "    </tr>\n",
       "  </tbody>\n",
       "</table>\n",
       "<p>5 rows × 21 columns</p>\n",
       "</div>"
      ],
      "text/plain": [
       "           id      date  bedrooms  bathrooms  sqft_living  sqft_lot  floors  \\\n",
       "0  7129300520  10/13/14         3       1.00         1180      5650     1.0   \n",
       "1  6414100192   12/9/14         3       2.25         2570      7242     2.0   \n",
       "2  5631500400   2/25/15         2       1.00          770     10000     1.0   \n",
       "3  2487200875   12/9/14         4       3.00         1960      5000     1.0   \n",
       "4  1954400510   2/18/15         3       2.00         1680      8080     1.0   \n",
       "\n",
       "   waterfront  view  condition  ...  sqft_above  sqft_basement  yr_built  \\\n",
       "0           0     0          3  ...        1180              0      1955   \n",
       "1           0     0          3  ...        2170            400      1951   \n",
       "2           0     0          3  ...         770              0      1933   \n",
       "3           0     0          5  ...        1050            910      1965   \n",
       "4           0     0          3  ...        1680              0      1987   \n",
       "\n",
       "   yr_renovated  zipcode      lat     long  sqft_living15  sqft_lot15   price  \n",
       "0             0    98178  47.5112 -122.257           1340        5650  221900  \n",
       "1          1991    98125  47.7210 -122.319           1690        7639  538000  \n",
       "2             0    98028  47.7379 -122.233           2720        8062  180000  \n",
       "3             0    98136  47.5208 -122.393           1360        5000  604000  \n",
       "4             0    98074  47.6168 -122.045           1800        7503  510000  \n",
       "\n",
       "[5 rows x 21 columns]"
      ]
     },
     "execution_count": 40,
     "metadata": {},
     "output_type": "execute_result"
    }
   ],
   "source": [
    "# check if the import worked \n",
    "df.head()"
   ]
  },
  {
   "cell_type": "code",
   "execution_count": 41,
   "id": "australian-virtue",
   "metadata": {},
   "outputs": [
    {
     "name": "stdout",
     "output_type": "stream",
     "text": [
      "<class 'pandas.core.frame.DataFrame'>\n",
      "Int64Index: 21420 entries, 2495 to 15937\n",
      "Data columns (total 21 columns):\n",
      " #   Column         Non-Null Count  Dtype         \n",
      "---  ------         --------------  -----         \n",
      " 0   id             21420 non-null  int64         \n",
      " 1   date           21420 non-null  datetime64[ns]\n",
      " 2   bedrooms       21420 non-null  int64         \n",
      " 3   bathrooms      21420 non-null  float64       \n",
      " 4   sqft_living    21420 non-null  int64         \n",
      " 5   sqft_lot       21420 non-null  int64         \n",
      " 6   floors         21420 non-null  float64       \n",
      " 7   waterfront     21420 non-null  int64         \n",
      " 8   view           21420 non-null  int64         \n",
      " 9   condition      21420 non-null  int64         \n",
      " 10  grade          21420 non-null  int64         \n",
      " 11  sqft_above     21420 non-null  int64         \n",
      " 12  sqft_basement  21420 non-null  int64         \n",
      " 13  yr_built       21420 non-null  int64         \n",
      " 14  yr_renovated   21420 non-null  int64         \n",
      " 15  zipcode        21420 non-null  int64         \n",
      " 16  lat            21420 non-null  float64       \n",
      " 17  long           21420 non-null  float64       \n",
      " 18  sqft_living15  21420 non-null  int64         \n",
      " 19  sqft_lot15     21420 non-null  int64         \n",
      " 20  price          21420 non-null  int64         \n",
      "dtypes: datetime64[ns](1), float64(4), int64(16)\n",
      "memory usage: 3.6 MB\n"
     ]
    }
   ],
   "source": [
    "# remove the duplicate id's again and only keep the most recent one\n",
    "\n",
    "# first we need to convert the date column to datetime\n",
    "df['date'] = pd.to_datetime(df['date'])\n",
    "\n",
    "# sort the dataframe by id and date\n",
    "df = df.sort_values(by=['id', 'date'])\n",
    "\n",
    "#drop all duplicate ID's, keep the last one\n",
    "df_drop = df.drop_duplicates(['id'], keep='last')\n",
    "\n",
    "#check if that worked and we have less rows\n",
    "df_drop.info();"
   ]
  },
  {
   "cell_type": "code",
   "execution_count": 42,
   "id": "dying-economics",
   "metadata": {},
   "outputs": [],
   "source": [
    "# we will directly drop the columns \"ID\", \"lat\", \"long\" \n",
    "# since they provide no value to our analysis\n",
    "\n",
    "df_drop=df_drop.drop(['id', 'lat','long'], axis = 1) "
   ]
  },
  {
   "cell_type": "code",
   "execution_count": 43,
   "id": "sticky-interpretation",
   "metadata": {},
   "outputs": [
    {
     "name": "stdout",
     "output_type": "stream",
     "text": [
      "<class 'pandas.core.frame.DataFrame'>\n",
      "Int64Index: 21420 entries, 2495 to 15937\n",
      "Data columns (total 18 columns):\n",
      " #   Column         Non-Null Count  Dtype         \n",
      "---  ------         --------------  -----         \n",
      " 0   date           21420 non-null  datetime64[ns]\n",
      " 1   bedrooms       21420 non-null  int64         \n",
      " 2   bathrooms      21420 non-null  float64       \n",
      " 3   sqft_living    21420 non-null  int64         \n",
      " 4   sqft_lot       21420 non-null  int64         \n",
      " 5   floors         21420 non-null  float64       \n",
      " 6   waterfront     21420 non-null  int64         \n",
      " 7   view           21420 non-null  int64         \n",
      " 8   condition      21420 non-null  int64         \n",
      " 9   grade          21420 non-null  int64         \n",
      " 10  sqft_above     21420 non-null  int64         \n",
      " 11  sqft_basement  21420 non-null  int64         \n",
      " 12  yr_built       21420 non-null  int64         \n",
      " 13  yr_renovated   21420 non-null  int64         \n",
      " 14  zipcode        21420 non-null  int64         \n",
      " 15  sqft_living15  21420 non-null  int64         \n",
      " 16  sqft_lot15     21420 non-null  int64         \n",
      " 17  price          21420 non-null  int64         \n",
      "dtypes: datetime64[ns](1), float64(2), int64(15)\n",
      "memory usage: 3.1 MB\n"
     ]
    }
   ],
   "source": [
    "df_drop.info()"
   ]
  },
  {
   "cell_type": "code",
   "execution_count": 44,
   "id": "communist-condition",
   "metadata": {},
   "outputs": [],
   "source": [
    "# define a quick function to convert the year renovated into a boolean value\n",
    "# this is because we know from our real estate experience, that a renovation has an impact on the price, \n",
    "# but the year of renovation usually doesn't matter, only the fact that it got renovated\n",
    "\n",
    "def boolean(x):\n",
    "    if x == 0:\n",
    "        n = 0\n",
    "    elif x > 0:\n",
    "        n = 1\n",
    "    return n"
   ]
  },
  {
   "cell_type": "code",
   "execution_count": 45,
   "id": "thirty-facility",
   "metadata": {},
   "outputs": [
    {
     "data": {
      "text/html": [
       "<div>\n",
       "<style scoped>\n",
       "    .dataframe tbody tr th:only-of-type {\n",
       "        vertical-align: middle;\n",
       "    }\n",
       "\n",
       "    .dataframe tbody tr th {\n",
       "        vertical-align: top;\n",
       "    }\n",
       "\n",
       "    .dataframe thead th {\n",
       "        text-align: right;\n",
       "    }\n",
       "</style>\n",
       "<table border=\"1\" class=\"dataframe\">\n",
       "  <thead>\n",
       "    <tr style=\"text-align: right;\">\n",
       "      <th></th>\n",
       "      <th>date</th>\n",
       "      <th>bedrooms</th>\n",
       "      <th>bathrooms</th>\n",
       "      <th>sqft_living</th>\n",
       "      <th>sqft_lot</th>\n",
       "      <th>floors</th>\n",
       "      <th>waterfront</th>\n",
       "      <th>view</th>\n",
       "      <th>condition</th>\n",
       "      <th>grade</th>\n",
       "      <th>sqft_above</th>\n",
       "      <th>sqft_basement</th>\n",
       "      <th>yr_built</th>\n",
       "      <th>yr_renovated</th>\n",
       "      <th>zipcode</th>\n",
       "      <th>sqft_living15</th>\n",
       "      <th>sqft_lot15</th>\n",
       "      <th>price</th>\n",
       "    </tr>\n",
       "  </thead>\n",
       "  <tbody>\n",
       "    <tr>\n",
       "      <th>2495</th>\n",
       "      <td>2015-04-22</td>\n",
       "      <td>6</td>\n",
       "      <td>3.00</td>\n",
       "      <td>2400</td>\n",
       "      <td>9373</td>\n",
       "      <td>2.0</td>\n",
       "      <td>0</td>\n",
       "      <td>0</td>\n",
       "      <td>3</td>\n",
       "      <td>7</td>\n",
       "      <td>2400</td>\n",
       "      <td>0</td>\n",
       "      <td>1991</td>\n",
       "      <td>0</td>\n",
       "      <td>98002</td>\n",
       "      <td>2060</td>\n",
       "      <td>7316</td>\n",
       "      <td>300000</td>\n",
       "    </tr>\n",
       "    <tr>\n",
       "      <th>6729</th>\n",
       "      <td>2014-05-08</td>\n",
       "      <td>4</td>\n",
       "      <td>1.75</td>\n",
       "      <td>2060</td>\n",
       "      <td>26036</td>\n",
       "      <td>1.0</td>\n",
       "      <td>0</td>\n",
       "      <td>0</td>\n",
       "      <td>4</td>\n",
       "      <td>8</td>\n",
       "      <td>1160</td>\n",
       "      <td>1</td>\n",
       "      <td>1947</td>\n",
       "      <td>0</td>\n",
       "      <td>98166</td>\n",
       "      <td>2590</td>\n",
       "      <td>21891</td>\n",
       "      <td>647500</td>\n",
       "    </tr>\n",
       "    <tr>\n",
       "      <th>8404</th>\n",
       "      <td>2014-08-11</td>\n",
       "      <td>3</td>\n",
       "      <td>1.00</td>\n",
       "      <td>1460</td>\n",
       "      <td>43000</td>\n",
       "      <td>1.0</td>\n",
       "      <td>0</td>\n",
       "      <td>0</td>\n",
       "      <td>3</td>\n",
       "      <td>7</td>\n",
       "      <td>1460</td>\n",
       "      <td>0</td>\n",
       "      <td>1952</td>\n",
       "      <td>0</td>\n",
       "      <td>98166</td>\n",
       "      <td>2250</td>\n",
       "      <td>20023</td>\n",
       "      <td>400000</td>\n",
       "    </tr>\n",
       "    <tr>\n",
       "      <th>8800</th>\n",
       "      <td>2015-04-01</td>\n",
       "      <td>3</td>\n",
       "      <td>1.00</td>\n",
       "      <td>1430</td>\n",
       "      <td>7599</td>\n",
       "      <td>1.5</td>\n",
       "      <td>0</td>\n",
       "      <td>0</td>\n",
       "      <td>4</td>\n",
       "      <td>6</td>\n",
       "      <td>1010</td>\n",
       "      <td>1</td>\n",
       "      <td>1930</td>\n",
       "      <td>0</td>\n",
       "      <td>98168</td>\n",
       "      <td>1290</td>\n",
       "      <td>10320</td>\n",
       "      <td>235000</td>\n",
       "    </tr>\n",
       "    <tr>\n",
       "      <th>3553</th>\n",
       "      <td>2015-03-19</td>\n",
       "      <td>4</td>\n",
       "      <td>2.00</td>\n",
       "      <td>1650</td>\n",
       "      <td>3504</td>\n",
       "      <td>1.0</td>\n",
       "      <td>0</td>\n",
       "      <td>0</td>\n",
       "      <td>3</td>\n",
       "      <td>7</td>\n",
       "      <td>760</td>\n",
       "      <td>1</td>\n",
       "      <td>1951</td>\n",
       "      <td>1</td>\n",
       "      <td>98144</td>\n",
       "      <td>1480</td>\n",
       "      <td>3504</td>\n",
       "      <td>402500</td>\n",
       "    </tr>\n",
       "  </tbody>\n",
       "</table>\n",
       "</div>"
      ],
      "text/plain": [
       "           date  bedrooms  bathrooms  sqft_living  sqft_lot  floors  \\\n",
       "2495 2015-04-22         6       3.00         2400      9373     2.0   \n",
       "6729 2014-05-08         4       1.75         2060     26036     1.0   \n",
       "8404 2014-08-11         3       1.00         1460     43000     1.0   \n",
       "8800 2015-04-01         3       1.00         1430      7599     1.5   \n",
       "3553 2015-03-19         4       2.00         1650      3504     1.0   \n",
       "\n",
       "      waterfront  view  condition  grade  sqft_above  sqft_basement  yr_built  \\\n",
       "2495           0     0          3      7        2400              0      1991   \n",
       "6729           0     0          4      8        1160              1      1947   \n",
       "8404           0     0          3      7        1460              0      1952   \n",
       "8800           0     0          4      6        1010              1      1930   \n",
       "3553           0     0          3      7         760              1      1951   \n",
       "\n",
       "      yr_renovated  zipcode  sqft_living15  sqft_lot15   price  \n",
       "2495             0    98002           2060        7316  300000  \n",
       "6729             0    98166           2590       21891  647500  \n",
       "8404             0    98166           2250       20023  400000  \n",
       "8800             0    98168           1290       10320  235000  \n",
       "3553             1    98144           1480        3504  402500  "
      ]
     },
     "execution_count": 45,
     "metadata": {},
     "output_type": "execute_result"
    }
   ],
   "source": [
    "# apply booloean function to yr_renovated colum. This means, I'll only tell the model wether or not a renovation happened. \n",
    "# This also helps with the distribution of the data\n",
    "df_drop['yr_renovated']=df_drop['yr_renovated'].apply(boolean)\n",
    "\n",
    "# do the same for sqft_basement, only acting as indicator on wether or not there is a basement\n",
    "# due to the amount of zeros in the column\n",
    "df_drop['sqft_basement']=df_drop['sqft_basement'].apply(boolean)\n",
    "\n",
    "# do the same for view, only acting as indicator on wether or not there is a view\n",
    "df_drop['view']=df_drop['view'].apply(boolean)\n",
    "\n",
    "\n",
    "# check if that worked by looking at the head again\n",
    "df_drop.head()"
   ]
  },
  {
   "cell_type": "code",
   "execution_count": 46,
   "id": "balanced-negotiation",
   "metadata": {},
   "outputs": [
    {
     "name": "stdout",
     "output_type": "stream",
     "text": [
      "date 372\n",
      "bedrooms 12\n",
      "bathrooms 29\n",
      "sqft_living 1034\n",
      "sqft_lot 9776\n",
      "floors 6\n",
      "waterfront 2\n",
      "view 2\n",
      "condition 5\n",
      "grade 11\n",
      "sqft_above 942\n",
      "sqft_basement 2\n",
      "yr_built 116\n",
      "yr_renovated 2\n",
      "zipcode 70\n",
      "sqft_living15 777\n",
      "sqft_lot15 8682\n",
      "price 3595\n"
     ]
    }
   ],
   "source": [
    "# now we look at the unique values for each row\n",
    "for c in df_drop.columns.tolist():       #iterate over a list of the columns  \n",
    "    print(c, len(df_drop[c].unique()))   #print the colum header and the unique values\n",
    "# the duplicates are succesfully removed from the dataframe"
   ]
  },
  {
   "cell_type": "code",
   "execution_count": 47,
   "id": "existing-developer",
   "metadata": {},
   "outputs": [],
   "source": [
    "# We will transform the date column to ordinal format \n",
    "# to make it applicable for the model and keeop the cyclical characteristics of the data\n",
    "df_drop['date']=df_drop['date'].apply(lambda x: x.toordinal())\n"
   ]
  },
  {
   "cell_type": "code",
   "execution_count": 48,
   "id": "basic-amazon",
   "metadata": {},
   "outputs": [
    {
     "data": {
      "text/html": [
       "<div>\n",
       "<style scoped>\n",
       "    .dataframe tbody tr th:only-of-type {\n",
       "        vertical-align: middle;\n",
       "    }\n",
       "\n",
       "    .dataframe tbody tr th {\n",
       "        vertical-align: top;\n",
       "    }\n",
       "\n",
       "    .dataframe thead th {\n",
       "        text-align: right;\n",
       "    }\n",
       "</style>\n",
       "<table border=\"1\" class=\"dataframe\">\n",
       "  <thead>\n",
       "    <tr style=\"text-align: right;\">\n",
       "      <th></th>\n",
       "      <th>date</th>\n",
       "      <th>bedrooms</th>\n",
       "      <th>bathrooms</th>\n",
       "      <th>sqft_living</th>\n",
       "      <th>sqft_lot</th>\n",
       "      <th>floors</th>\n",
       "      <th>waterfront</th>\n",
       "      <th>view</th>\n",
       "      <th>condition</th>\n",
       "      <th>grade</th>\n",
       "      <th>sqft_above</th>\n",
       "      <th>sqft_basement</th>\n",
       "      <th>yr_built</th>\n",
       "      <th>yr_renovated</th>\n",
       "      <th>zipcode</th>\n",
       "      <th>sqft_living15</th>\n",
       "      <th>sqft_lot15</th>\n",
       "      <th>price</th>\n",
       "    </tr>\n",
       "  </thead>\n",
       "  <tbody>\n",
       "    <tr>\n",
       "      <th>2495</th>\n",
       "      <td>735710</td>\n",
       "      <td>6</td>\n",
       "      <td>3.00</td>\n",
       "      <td>2400</td>\n",
       "      <td>9373</td>\n",
       "      <td>2.0</td>\n",
       "      <td>0</td>\n",
       "      <td>0</td>\n",
       "      <td>3</td>\n",
       "      <td>7</td>\n",
       "      <td>2400</td>\n",
       "      <td>0</td>\n",
       "      <td>1991</td>\n",
       "      <td>0</td>\n",
       "      <td>98002</td>\n",
       "      <td>2060</td>\n",
       "      <td>7316</td>\n",
       "      <td>300000</td>\n",
       "    </tr>\n",
       "    <tr>\n",
       "      <th>6729</th>\n",
       "      <td>735361</td>\n",
       "      <td>4</td>\n",
       "      <td>1.75</td>\n",
       "      <td>2060</td>\n",
       "      <td>26036</td>\n",
       "      <td>1.0</td>\n",
       "      <td>0</td>\n",
       "      <td>0</td>\n",
       "      <td>4</td>\n",
       "      <td>8</td>\n",
       "      <td>1160</td>\n",
       "      <td>1</td>\n",
       "      <td>1947</td>\n",
       "      <td>0</td>\n",
       "      <td>98166</td>\n",
       "      <td>2590</td>\n",
       "      <td>21891</td>\n",
       "      <td>647500</td>\n",
       "    </tr>\n",
       "    <tr>\n",
       "      <th>8404</th>\n",
       "      <td>735456</td>\n",
       "      <td>3</td>\n",
       "      <td>1.00</td>\n",
       "      <td>1460</td>\n",
       "      <td>43000</td>\n",
       "      <td>1.0</td>\n",
       "      <td>0</td>\n",
       "      <td>0</td>\n",
       "      <td>3</td>\n",
       "      <td>7</td>\n",
       "      <td>1460</td>\n",
       "      <td>0</td>\n",
       "      <td>1952</td>\n",
       "      <td>0</td>\n",
       "      <td>98166</td>\n",
       "      <td>2250</td>\n",
       "      <td>20023</td>\n",
       "      <td>400000</td>\n",
       "    </tr>\n",
       "    <tr>\n",
       "      <th>8800</th>\n",
       "      <td>735689</td>\n",
       "      <td>3</td>\n",
       "      <td>1.00</td>\n",
       "      <td>1430</td>\n",
       "      <td>7599</td>\n",
       "      <td>1.5</td>\n",
       "      <td>0</td>\n",
       "      <td>0</td>\n",
       "      <td>4</td>\n",
       "      <td>6</td>\n",
       "      <td>1010</td>\n",
       "      <td>1</td>\n",
       "      <td>1930</td>\n",
       "      <td>0</td>\n",
       "      <td>98168</td>\n",
       "      <td>1290</td>\n",
       "      <td>10320</td>\n",
       "      <td>235000</td>\n",
       "    </tr>\n",
       "    <tr>\n",
       "      <th>3553</th>\n",
       "      <td>735676</td>\n",
       "      <td>4</td>\n",
       "      <td>2.00</td>\n",
       "      <td>1650</td>\n",
       "      <td>3504</td>\n",
       "      <td>1.0</td>\n",
       "      <td>0</td>\n",
       "      <td>0</td>\n",
       "      <td>3</td>\n",
       "      <td>7</td>\n",
       "      <td>760</td>\n",
       "      <td>1</td>\n",
       "      <td>1951</td>\n",
       "      <td>1</td>\n",
       "      <td>98144</td>\n",
       "      <td>1480</td>\n",
       "      <td>3504</td>\n",
       "      <td>402500</td>\n",
       "    </tr>\n",
       "  </tbody>\n",
       "</table>\n",
       "</div>"
      ],
      "text/plain": [
       "        date  bedrooms  bathrooms  sqft_living  sqft_lot  floors  waterfront  \\\n",
       "2495  735710         6       3.00         2400      9373     2.0           0   \n",
       "6729  735361         4       1.75         2060     26036     1.0           0   \n",
       "8404  735456         3       1.00         1460     43000     1.0           0   \n",
       "8800  735689         3       1.00         1430      7599     1.5           0   \n",
       "3553  735676         4       2.00         1650      3504     1.0           0   \n",
       "\n",
       "      view  condition  grade  sqft_above  sqft_basement  yr_built  \\\n",
       "2495     0          3      7        2400              0      1991   \n",
       "6729     0          4      8        1160              1      1947   \n",
       "8404     0          3      7        1460              0      1952   \n",
       "8800     0          4      6        1010              1      1930   \n",
       "3553     0          3      7         760              1      1951   \n",
       "\n",
       "      yr_renovated  zipcode  sqft_living15  sqft_lot15   price  \n",
       "2495             0    98002           2060        7316  300000  \n",
       "6729             0    98166           2590       21891  647500  \n",
       "8404             0    98166           2250       20023  400000  \n",
       "8800             0    98168           1290       10320  235000  \n",
       "3553             1    98144           1480        3504  402500  "
      ]
     },
     "execution_count": 48,
     "metadata": {},
     "output_type": "execute_result"
    }
   ],
   "source": [
    "# check dataframe\n",
    "df_drop.head()"
   ]
  },
  {
   "cell_type": "code",
   "execution_count": 49,
   "id": "administrative-integer",
   "metadata": {},
   "outputs": [
    {
     "name": "stdout",
     "output_type": "stream",
     "text": [
      "<class 'pandas.core.frame.DataFrame'>\n",
      "Int64Index: 21420 entries, 2495 to 15937\n",
      "Data columns (total 18 columns):\n",
      " #   Column         Non-Null Count  Dtype  \n",
      "---  ------         --------------  -----  \n",
      " 0   date           21420 non-null  int64  \n",
      " 1   bedrooms       21420 non-null  int64  \n",
      " 2   bathrooms      21420 non-null  float64\n",
      " 3   sqft_living    21420 non-null  int64  \n",
      " 4   sqft_lot       21420 non-null  int64  \n",
      " 5   floors         21420 non-null  float64\n",
      " 6   waterfront     21420 non-null  int64  \n",
      " 7   view           21420 non-null  int64  \n",
      " 8   condition      21420 non-null  int64  \n",
      " 9   grade          21420 non-null  int64  \n",
      " 10  sqft_above     21420 non-null  int64  \n",
      " 11  sqft_basement  21420 non-null  int64  \n",
      " 12  yr_built       21420 non-null  int64  \n",
      " 13  yr_renovated   21420 non-null  int64  \n",
      " 14  zipcode        21420 non-null  int64  \n",
      " 15  sqft_living15  21420 non-null  int64  \n",
      " 16  sqft_lot15     21420 non-null  int64  \n",
      " 17  price          21420 non-null  int64  \n",
      "dtypes: float64(2), int64(16)\n",
      "memory usage: 3.1 MB\n"
     ]
    }
   ],
   "source": [
    "df_drop.info()"
   ]
  },
  {
   "cell_type": "code",
   "execution_count": 50,
   "id": "diverse-container",
   "metadata": {},
   "outputs": [
    {
     "data": {
      "text/html": [
       "<div>\n",
       "<style scoped>\n",
       "    .dataframe tbody tr th:only-of-type {\n",
       "        vertical-align: middle;\n",
       "    }\n",
       "\n",
       "    .dataframe tbody tr th {\n",
       "        vertical-align: top;\n",
       "    }\n",
       "\n",
       "    .dataframe thead th {\n",
       "        text-align: right;\n",
       "    }\n",
       "</style>\n",
       "<table border=\"1\" class=\"dataframe\">\n",
       "  <thead>\n",
       "    <tr style=\"text-align: right;\">\n",
       "      <th></th>\n",
       "      <th>date</th>\n",
       "      <th>bedrooms</th>\n",
       "      <th>bathrooms</th>\n",
       "      <th>sqft_living</th>\n",
       "      <th>sqft_lot</th>\n",
       "      <th>floors</th>\n",
       "      <th>waterfront</th>\n",
       "      <th>view</th>\n",
       "      <th>condition</th>\n",
       "      <th>grade</th>\n",
       "      <th>sqft_above</th>\n",
       "      <th>sqft_basement</th>\n",
       "      <th>yr_built</th>\n",
       "      <th>yr_renovated</th>\n",
       "      <th>zipcode</th>\n",
       "      <th>sqft_living15</th>\n",
       "      <th>sqft_lot15</th>\n",
       "      <th>price</th>\n",
       "    </tr>\n",
       "  </thead>\n",
       "  <tbody>\n",
       "    <tr>\n",
       "      <th>count</th>\n",
       "      <td>21420.000000</td>\n",
       "      <td>21420.000000</td>\n",
       "      <td>21420.000000</td>\n",
       "      <td>21420.000000</td>\n",
       "      <td>2.142000e+04</td>\n",
       "      <td>21420.000000</td>\n",
       "      <td>21420.000000</td>\n",
       "      <td>21420.000000</td>\n",
       "      <td>21420.000000</td>\n",
       "      <td>21420.000000</td>\n",
       "      <td>21420.000000</td>\n",
       "      <td>21420.000000</td>\n",
       "      <td>21420.000000</td>\n",
       "      <td>21420.000000</td>\n",
       "      <td>21420.00000</td>\n",
       "      <td>21420.000000</td>\n",
       "      <td>21420.000000</td>\n",
       "      <td>2.142000e+04</td>\n",
       "    </tr>\n",
       "    <tr>\n",
       "      <th>mean</th>\n",
       "      <td>735535.717414</td>\n",
       "      <td>3.373950</td>\n",
       "      <td>2.118429</td>\n",
       "      <td>2083.132633</td>\n",
       "      <td>1.512804e+04</td>\n",
       "      <td>1.495985</td>\n",
       "      <td>0.007610</td>\n",
       "      <td>0.098693</td>\n",
       "      <td>3.410784</td>\n",
       "      <td>7.662792</td>\n",
       "      <td>1791.170215</td>\n",
       "      <td>0.393137</td>\n",
       "      <td>1971.092997</td>\n",
       "      <td>0.042484</td>\n",
       "      <td>98077.87437</td>\n",
       "      <td>1988.384080</td>\n",
       "      <td>12775.718161</td>\n",
       "      <td>5.418614e+05</td>\n",
       "    </tr>\n",
       "    <tr>\n",
       "      <th>std</th>\n",
       "      <td>113.186907</td>\n",
       "      <td>0.925405</td>\n",
       "      <td>0.768720</td>\n",
       "      <td>918.808412</td>\n",
       "      <td>4.153080e+04</td>\n",
       "      <td>0.540081</td>\n",
       "      <td>0.086903</td>\n",
       "      <td>0.298256</td>\n",
       "      <td>0.650035</td>\n",
       "      <td>1.171971</td>\n",
       "      <td>828.692965</td>\n",
       "      <td>0.488458</td>\n",
       "      <td>29.387141</td>\n",
       "      <td>0.201695</td>\n",
       "      <td>53.47748</td>\n",
       "      <td>685.537057</td>\n",
       "      <td>27345.621867</td>\n",
       "      <td>3.675569e+05</td>\n",
       "    </tr>\n",
       "    <tr>\n",
       "      <th>min</th>\n",
       "      <td>735355.000000</td>\n",
       "      <td>1.000000</td>\n",
       "      <td>0.500000</td>\n",
       "      <td>370.000000</td>\n",
       "      <td>5.200000e+02</td>\n",
       "      <td>1.000000</td>\n",
       "      <td>0.000000</td>\n",
       "      <td>0.000000</td>\n",
       "      <td>1.000000</td>\n",
       "      <td>3.000000</td>\n",
       "      <td>370.000000</td>\n",
       "      <td>0.000000</td>\n",
       "      <td>1900.000000</td>\n",
       "      <td>0.000000</td>\n",
       "      <td>98001.00000</td>\n",
       "      <td>399.000000</td>\n",
       "      <td>651.000000</td>\n",
       "      <td>7.800000e+04</td>\n",
       "    </tr>\n",
       "    <tr>\n",
       "      <th>25%</th>\n",
       "      <td>735436.000000</td>\n",
       "      <td>3.000000</td>\n",
       "      <td>1.750000</td>\n",
       "      <td>1430.000000</td>\n",
       "      <td>5.040000e+03</td>\n",
       "      <td>1.000000</td>\n",
       "      <td>0.000000</td>\n",
       "      <td>0.000000</td>\n",
       "      <td>3.000000</td>\n",
       "      <td>7.000000</td>\n",
       "      <td>1200.000000</td>\n",
       "      <td>0.000000</td>\n",
       "      <td>1952.000000</td>\n",
       "      <td>0.000000</td>\n",
       "      <td>98033.00000</td>\n",
       "      <td>1490.000000</td>\n",
       "      <td>5100.000000</td>\n",
       "      <td>3.249500e+05</td>\n",
       "    </tr>\n",
       "    <tr>\n",
       "      <th>50%</th>\n",
       "      <td>735523.000000</td>\n",
       "      <td>3.000000</td>\n",
       "      <td>2.250000</td>\n",
       "      <td>1920.000000</td>\n",
       "      <td>7.614000e+03</td>\n",
       "      <td>1.500000</td>\n",
       "      <td>0.000000</td>\n",
       "      <td>0.000000</td>\n",
       "      <td>3.000000</td>\n",
       "      <td>7.000000</td>\n",
       "      <td>1560.000000</td>\n",
       "      <td>0.000000</td>\n",
       "      <td>1975.000000</td>\n",
       "      <td>0.000000</td>\n",
       "      <td>98065.00000</td>\n",
       "      <td>1840.000000</td>\n",
       "      <td>7620.000000</td>\n",
       "      <td>4.505500e+05</td>\n",
       "    </tr>\n",
       "    <tr>\n",
       "      <th>75%</th>\n",
       "      <td>735647.000000</td>\n",
       "      <td>4.000000</td>\n",
       "      <td>2.500000</td>\n",
       "      <td>2550.000000</td>\n",
       "      <td>1.069050e+04</td>\n",
       "      <td>2.000000</td>\n",
       "      <td>0.000000</td>\n",
       "      <td>0.000000</td>\n",
       "      <td>4.000000</td>\n",
       "      <td>8.000000</td>\n",
       "      <td>2220.000000</td>\n",
       "      <td>1.000000</td>\n",
       "      <td>1997.000000</td>\n",
       "      <td>0.000000</td>\n",
       "      <td>98117.00000</td>\n",
       "      <td>2370.000000</td>\n",
       "      <td>10086.250000</td>\n",
       "      <td>6.450000e+05</td>\n",
       "    </tr>\n",
       "    <tr>\n",
       "      <th>max</th>\n",
       "      <td>735745.000000</td>\n",
       "      <td>33.000000</td>\n",
       "      <td>8.000000</td>\n",
       "      <td>13540.000000</td>\n",
       "      <td>1.651359e+06</td>\n",
       "      <td>3.500000</td>\n",
       "      <td>1.000000</td>\n",
       "      <td>1.000000</td>\n",
       "      <td>5.000000</td>\n",
       "      <td>13.000000</td>\n",
       "      <td>9410.000000</td>\n",
       "      <td>1.000000</td>\n",
       "      <td>2015.000000</td>\n",
       "      <td>1.000000</td>\n",
       "      <td>98199.00000</td>\n",
       "      <td>6210.000000</td>\n",
       "      <td>871200.000000</td>\n",
       "      <td>7.700000e+06</td>\n",
       "    </tr>\n",
       "  </tbody>\n",
       "</table>\n",
       "</div>"
      ],
      "text/plain": [
       "                date      bedrooms     bathrooms   sqft_living      sqft_lot  \\\n",
       "count   21420.000000  21420.000000  21420.000000  21420.000000  2.142000e+04   \n",
       "mean   735535.717414      3.373950      2.118429   2083.132633  1.512804e+04   \n",
       "std       113.186907      0.925405      0.768720    918.808412  4.153080e+04   \n",
       "min    735355.000000      1.000000      0.500000    370.000000  5.200000e+02   \n",
       "25%    735436.000000      3.000000      1.750000   1430.000000  5.040000e+03   \n",
       "50%    735523.000000      3.000000      2.250000   1920.000000  7.614000e+03   \n",
       "75%    735647.000000      4.000000      2.500000   2550.000000  1.069050e+04   \n",
       "max    735745.000000     33.000000      8.000000  13540.000000  1.651359e+06   \n",
       "\n",
       "             floors    waterfront          view     condition         grade  \\\n",
       "count  21420.000000  21420.000000  21420.000000  21420.000000  21420.000000   \n",
       "mean       1.495985      0.007610      0.098693      3.410784      7.662792   \n",
       "std        0.540081      0.086903      0.298256      0.650035      1.171971   \n",
       "min        1.000000      0.000000      0.000000      1.000000      3.000000   \n",
       "25%        1.000000      0.000000      0.000000      3.000000      7.000000   \n",
       "50%        1.500000      0.000000      0.000000      3.000000      7.000000   \n",
       "75%        2.000000      0.000000      0.000000      4.000000      8.000000   \n",
       "max        3.500000      1.000000      1.000000      5.000000     13.000000   \n",
       "\n",
       "         sqft_above  sqft_basement      yr_built  yr_renovated      zipcode  \\\n",
       "count  21420.000000   21420.000000  21420.000000  21420.000000  21420.00000   \n",
       "mean    1791.170215       0.393137   1971.092997      0.042484  98077.87437   \n",
       "std      828.692965       0.488458     29.387141      0.201695     53.47748   \n",
       "min      370.000000       0.000000   1900.000000      0.000000  98001.00000   \n",
       "25%     1200.000000       0.000000   1952.000000      0.000000  98033.00000   \n",
       "50%     1560.000000       0.000000   1975.000000      0.000000  98065.00000   \n",
       "75%     2220.000000       1.000000   1997.000000      0.000000  98117.00000   \n",
       "max     9410.000000       1.000000   2015.000000      1.000000  98199.00000   \n",
       "\n",
       "       sqft_living15     sqft_lot15         price  \n",
       "count   21420.000000   21420.000000  2.142000e+04  \n",
       "mean     1988.384080   12775.718161  5.418614e+05  \n",
       "std       685.537057   27345.621867  3.675569e+05  \n",
       "min       399.000000     651.000000  7.800000e+04  \n",
       "25%      1490.000000    5100.000000  3.249500e+05  \n",
       "50%      1840.000000    7620.000000  4.505500e+05  \n",
       "75%      2370.000000   10086.250000  6.450000e+05  \n",
       "max      6210.000000  871200.000000  7.700000e+06  "
      ]
     },
     "execution_count": 50,
     "metadata": {},
     "output_type": "execute_result"
    }
   ],
   "source": [
    "df_drop.describe()"
   ]
  },
  {
   "cell_type": "code",
   "execution_count": 51,
   "id": "alternative-depth",
   "metadata": {},
   "outputs": [
    {
     "data": {
      "image/png": "[encoded data removed]",
      "text/plain": [
       "<Figure size 1080x1080 with 2 Axes>"
      ]
     },
     "metadata": {
      "needs_background": "light"
     },
     "output_type": "display_data"
    }
   ],
   "source": [
    "# check multicolinearity\n",
    "fig, ax = plt.subplots(figsize=(15, 15))\n",
    "\n",
    "mask=np.zeros_like(df_drop.corr()) # define fields we don't want to see\n",
    "mask[np.triu_indices_from(mask)]=True\n",
    "\n",
    "sns.heatmap(df_drop.corr(),  # the data for the heatmap, our dataframe\n",
    "            mask=mask,  # \"deactivates\" all fields in our heatmap according to the mask\n",
    "            annot=True,  # show the actual values of correlation in the map\n",
    "            cmap='coolwarm',  # provide the 'coolwarm' colormap for the heatmap\n",
    "            center=0,  # specify the value at which to center the colormap, we set it to zero, so negative correlations are displayed as negatives\n",
    "           )\n",
    "plt.show()"
   ]
  },
  {
   "cell_type": "markdown",
   "id": "statewide-vision",
   "metadata": {},
   "source": [
    "- From the heatmap we can see that sqft_living has overall higher correlation with other variables than sqft_living15. \n",
    "- Since sqft_living15 provides newer values and means the same, we will remove sqft_living. \n",
    "- The same applies in the case of sqft_lot, but here we are going to drop the newer values, since they provide overall higher correlation.\n",
    "- It is okay that bathrooms and floors are highly correlated, since it's expected to have at least 0.5 bathrooms per floor, this is natural to the data.\n",
    "- The Zipcode appears to provide no correlations, so we will drop it at this point\n",
    "- The same applies to condition, grade seems to have greater impact on price"
   ]
  },
  {
   "cell_type": "code",
   "execution_count": 52,
   "id": "fifty-physiology",
   "metadata": {},
   "outputs": [],
   "source": [
    "#creating a copy before further wrangling\n",
    "df_copy = df_drop"
   ]
  },
  {
   "cell_type": "code",
   "execution_count": 53,
   "id": "acute-cameroon",
   "metadata": {},
   "outputs": [],
   "source": [
    "# dropping columns as outlined above\n",
    "df_drop=df_drop.drop(['sqft_living', 'sqft_lot15', 'zipcode', 'condition'], axis = 1) "
   ]
  },
  {
   "cell_type": "code",
   "execution_count": 54,
   "id": "balanced-joshua",
   "metadata": {},
   "outputs": [
    {
     "data": {
      "text/html": [
       "<div>\n",
       "<style scoped>\n",
       "    .dataframe tbody tr th:only-of-type {\n",
       "        vertical-align: middle;\n",
       "    }\n",
       "\n",
       "    .dataframe tbody tr th {\n",
       "        vertical-align: top;\n",
       "    }\n",
       "\n",
       "    .dataframe thead th {\n",
       "        text-align: right;\n",
       "    }\n",
       "</style>\n",
       "<table border=\"1\" class=\"dataframe\">\n",
       "  <thead>\n",
       "    <tr style=\"text-align: right;\">\n",
       "      <th></th>\n",
       "      <th>date</th>\n",
       "      <th>bedrooms</th>\n",
       "      <th>bathrooms</th>\n",
       "      <th>sqft_lot</th>\n",
       "      <th>floors</th>\n",
       "      <th>waterfront</th>\n",
       "      <th>view</th>\n",
       "      <th>grade</th>\n",
       "      <th>sqft_above</th>\n",
       "      <th>sqft_basement</th>\n",
       "      <th>yr_built</th>\n",
       "      <th>yr_renovated</th>\n",
       "      <th>sqft_living15</th>\n",
       "      <th>price</th>\n",
       "    </tr>\n",
       "  </thead>\n",
       "  <tbody>\n",
       "    <tr>\n",
       "      <th>2495</th>\n",
       "      <td>735710</td>\n",
       "      <td>6</td>\n",
       "      <td>3.00</td>\n",
       "      <td>9373</td>\n",
       "      <td>2.0</td>\n",
       "      <td>0</td>\n",
       "      <td>0</td>\n",
       "      <td>7</td>\n",
       "      <td>2400</td>\n",
       "      <td>0</td>\n",
       "      <td>1991</td>\n",
       "      <td>0</td>\n",
       "      <td>2060</td>\n",
       "      <td>300000</td>\n",
       "    </tr>\n",
       "    <tr>\n",
       "      <th>6729</th>\n",
       "      <td>735361</td>\n",
       "      <td>4</td>\n",
       "      <td>1.75</td>\n",
       "      <td>26036</td>\n",
       "      <td>1.0</td>\n",
       "      <td>0</td>\n",
       "      <td>0</td>\n",
       "      <td>8</td>\n",
       "      <td>1160</td>\n",
       "      <td>1</td>\n",
       "      <td>1947</td>\n",
       "      <td>0</td>\n",
       "      <td>2590</td>\n",
       "      <td>647500</td>\n",
       "    </tr>\n",
       "    <tr>\n",
       "      <th>8404</th>\n",
       "      <td>735456</td>\n",
       "      <td>3</td>\n",
       "      <td>1.00</td>\n",
       "      <td>43000</td>\n",
       "      <td>1.0</td>\n",
       "      <td>0</td>\n",
       "      <td>0</td>\n",
       "      <td>7</td>\n",
       "      <td>1460</td>\n",
       "      <td>0</td>\n",
       "      <td>1952</td>\n",
       "      <td>0</td>\n",
       "      <td>2250</td>\n",
       "      <td>400000</td>\n",
       "    </tr>\n",
       "    <tr>\n",
       "      <th>8800</th>\n",
       "      <td>735689</td>\n",
       "      <td>3</td>\n",
       "      <td>1.00</td>\n",
       "      <td>7599</td>\n",
       "      <td>1.5</td>\n",
       "      <td>0</td>\n",
       "      <td>0</td>\n",
       "      <td>6</td>\n",
       "      <td>1010</td>\n",
       "      <td>1</td>\n",
       "      <td>1930</td>\n",
       "      <td>0</td>\n",
       "      <td>1290</td>\n",
       "      <td>235000</td>\n",
       "    </tr>\n",
       "    <tr>\n",
       "      <th>3553</th>\n",
       "      <td>735676</td>\n",
       "      <td>4</td>\n",
       "      <td>2.00</td>\n",
       "      <td>3504</td>\n",
       "      <td>1.0</td>\n",
       "      <td>0</td>\n",
       "      <td>0</td>\n",
       "      <td>7</td>\n",
       "      <td>760</td>\n",
       "      <td>1</td>\n",
       "      <td>1951</td>\n",
       "      <td>1</td>\n",
       "      <td>1480</td>\n",
       "      <td>402500</td>\n",
       "    </tr>\n",
       "  </tbody>\n",
       "</table>\n",
       "</div>"
      ],
      "text/plain": [
       "        date  bedrooms  bathrooms  sqft_lot  floors  waterfront  view  grade  \\\n",
       "2495  735710         6       3.00      9373     2.0           0     0      7   \n",
       "6729  735361         4       1.75     26036     1.0           0     0      8   \n",
       "8404  735456         3       1.00     43000     1.0           0     0      7   \n",
       "8800  735689         3       1.00      7599     1.5           0     0      6   \n",
       "3553  735676         4       2.00      3504     1.0           0     0      7   \n",
       "\n",
       "      sqft_above  sqft_basement  yr_built  yr_renovated  sqft_living15   price  \n",
       "2495        2400              0      1991             0           2060  300000  \n",
       "6729        1160              1      1947             0           2590  647500  \n",
       "8404        1460              0      1952             0           2250  400000  \n",
       "8800        1010              1      1930             0           1290  235000  \n",
       "3553         760              1      1951             1           1480  402500  "
      ]
     },
     "execution_count": 54,
     "metadata": {},
     "output_type": "execute_result"
    }
   ],
   "source": [
    "# control dataframe\n",
    "df_drop.head()"
   ]
  },
  {
   "cell_type": "code",
   "execution_count": 55,
   "id": "posted-strand",
   "metadata": {},
   "outputs": [],
   "source": [
    "#switiching variables again because i'm lazy\n",
    "df=df_drop"
   ]
  },
  {
   "cell_type": "code",
   "execution_count": 56,
   "id": "included-ancient",
   "metadata": {
    "scrolled": false
   },
   "outputs": [
    {
     "data": {
      "image/png": "[encoded data removed]",
      "text/plain": [
       "<Figure size 1800x1800 with 4 Axes>"
      ]
     },
     "metadata": {
      "needs_background": "light"
     },
     "output_type": "display_data"
    }
   ],
   "source": [
    "# take a look at distribution of variables\n",
    "\n",
    "f, axes = plt.subplots(2, 2, figsize=(25, 25), sharex=False);\n",
    "sns.histplot(x=df[\"date\"] , color=\"teal\", ax=axes[0, 0]);\n",
    "sns.countplot(x=df[\"bedrooms\"] , color=\"red\", ax=axes[0, 1]);\n",
    "sns.countplot(x=df[\"bathrooms\"], color=\"olive\", ax=axes[1, 0]);\n",
    "sns.countplot(x=df[\"floors\"] , color=\"skyblue\", ax=axes[1, 1]);"
   ]
  },
  {
   "cell_type": "code",
   "execution_count": 57,
   "id": "separated-chapel",
   "metadata": {},
   "outputs": [
    {
     "data": {
      "image/png": "[encoded data removed]",
      "text/plain": [
       "<Figure size 1800x1800 with 4 Axes>"
      ]
     },
     "metadata": {
      "needs_background": "light"
     },
     "output_type": "display_data"
    }
   ],
   "source": [
    "f, axes = plt.subplots(2, 2, figsize=(25, 25), sharex=False);\n",
    "sns.countplot(x=df[\"floors\"] , color=\"teal\", ax=axes[0, 0]);\n",
    "sns.countplot(x=df[\"waterfront\"] , color=\"gold\", ax=axes[0, 1]);\n",
    "sns.countplot(x=df[\"view\"], color=\"olive\", ax=axes[1, 0]);\n",
    "sns.histplot(x=df[\"sqft_lot\"] , color=\"skyblue\", ax=axes[1, 1]);"
   ]
  },
  {
   "cell_type": "code",
   "execution_count": 58,
   "id": "respiratory-execution",
   "metadata": {},
   "outputs": [
    {
     "data": {
      "image/png": "[encoded data removed]",
      "text/plain": [
       "<Figure size 1800x1800 with 4 Axes>"
      ]
     },
     "metadata": {
      "needs_background": "light"
     },
     "output_type": "display_data"
    }
   ],
   "source": [
    "f, axes = plt.subplots(2, 2, figsize=(25, 25), sharex=False);\n",
    "sns.histplot(x=df[\"grade\"] , color=\"teal\", ax=axes[0, 0]);\n",
    "sns.histplot(x=df[\"sqft_above\"] , color=\"gold\", ax=axes[0, 1]);\n",
    "sns.countplot(x=df[\"sqft_basement\"], color=\"olive\", ax=axes[1, 0]);\n",
    "sns.countplot(x=df[\"yr_renovated\"] , color=\"skyblue\", ax=axes[1, 1]);"
   ]
  },
  {
   "cell_type": "code",
   "execution_count": 59,
   "id": "executed-force",
   "metadata": {},
   "outputs": [
    {
     "data": {
      "image/png": "[encoded data removed]",
      "text/plain": [
       "<Figure size 432x288 with 1 Axes>"
      ]
     },
     "metadata": {
      "needs_background": "light"
     },
     "output_type": "display_data"
    }
   ],
   "source": [
    "sns.histplot(x=df[\"yr_built\"] , color=\"teal\");"
   ]
  },
  {
   "cell_type": "code",
   "execution_count": 60,
   "id": "christian-singer",
   "metadata": {},
   "outputs": [
    {
     "data": {
      "image/png": "[encoded data removed]",
      "text/plain": [
       "<Figure size 432x288 with 1 Axes>"
      ]
     },
     "metadata": {
      "needs_background": "light"
     },
     "output_type": "display_data"
    }
   ],
   "source": [
    "sns.histplot(x=df[\"sqft_living15\"], color=\"red\");"
   ]
  },
  {
   "cell_type": "code",
   "execution_count": 61,
   "id": "recognized-celebration",
   "metadata": {},
   "outputs": [
    {
     "data": {
      "image/png": "[encoded data removed]",
      "text/plain": [
       "<Figure size 432x288 with 1 Axes>"
      ]
     },
     "metadata": {
      "needs_background": "light"
     },
     "output_type": "display_data"
    }
   ],
   "source": [
    "sns.histplot(x=df[\"price\"] , color=\"skyblue\");"
   ]
  },
  {
   "cell_type": "markdown",
   "id": "utility-james",
   "metadata": {},
   "source": [
    "### Observations\n",
    "- yr_renovated provides no value because of the many zero values. \n",
    "- The same applies for view\n",
    "- We assume that waterfront is driver of high prices, one of the business questions. I'll therefore keep it, but I'll also try a model without it\n",
    "- The bedroom outlier observed in the eda needs to be removed manually\n",
    "- sqft_living15, yr_built and sqft_above and sqft_lot are not in a uniform distribution and need transformation"
   ]
  },
  {
   "cell_type": "code",
   "execution_count": 63,
   "id": "norwegian-ideal",
   "metadata": {},
   "outputs": [],
   "source": [
    "# remove all values higher than 11 from the bedrooms column\n",
    "df = df[df['bedrooms']<=11]"
   ]
  },
  {
   "cell_type": "code",
   "execution_count": 64,
   "id": "chinese-isolation",
   "metadata": {},
   "outputs": [
    {
     "data": {
      "image/png": "[encoded data removed]",
      "text/plain": [
       "<Figure size 432x288 with 1 Axes>"
      ]
     },
     "metadata": {
      "needs_background": "light"
     },
     "output_type": "display_data"
    }
   ],
   "source": [
    "# see if removal worked\n",
    "sns.histplot(x=df[\"bedrooms\"]);"
   ]
  },
  {
   "cell_type": "code",
   "execution_count": 65,
   "id": "basic-sunglasses",
   "metadata": {},
   "outputs": [],
   "source": [
    "# drop columns\n",
    "df=df.drop(['yr_renovated', 'view'], axis = 1) "
   ]
  },
  {
   "cell_type": "code",
   "execution_count": 66,
   "id": "painted-worcester",
   "metadata": {},
   "outputs": [
    {
     "data": {
      "text/html": [
       "<div>\n",
       "<style scoped>\n",
       "    .dataframe tbody tr th:only-of-type {\n",
       "        vertical-align: middle;\n",
       "    }\n",
       "\n",
       "    .dataframe tbody tr th {\n",
       "        vertical-align: top;\n",
       "    }\n",
       "\n",
       "    .dataframe thead th {\n",
       "        text-align: right;\n",
       "    }\n",
       "</style>\n",
       "<table border=\"1\" class=\"dataframe\">\n",
       "  <thead>\n",
       "    <tr style=\"text-align: right;\">\n",
       "      <th></th>\n",
       "      <th>date</th>\n",
       "      <th>bedrooms</th>\n",
       "      <th>bathrooms</th>\n",
       "      <th>sqft_lot</th>\n",
       "      <th>floors</th>\n",
       "      <th>waterfront</th>\n",
       "      <th>grade</th>\n",
       "      <th>sqft_above</th>\n",
       "      <th>sqft_basement</th>\n",
       "      <th>yr_built</th>\n",
       "      <th>sqft_living15</th>\n",
       "      <th>price</th>\n",
       "    </tr>\n",
       "  </thead>\n",
       "  <tbody>\n",
       "    <tr>\n",
       "      <th>2495</th>\n",
       "      <td>735710</td>\n",
       "      <td>6</td>\n",
       "      <td>3.00</td>\n",
       "      <td>9373</td>\n",
       "      <td>2.0</td>\n",
       "      <td>0</td>\n",
       "      <td>7</td>\n",
       "      <td>2400</td>\n",
       "      <td>0</td>\n",
       "      <td>1991</td>\n",
       "      <td>2060</td>\n",
       "      <td>300000</td>\n",
       "    </tr>\n",
       "    <tr>\n",
       "      <th>6729</th>\n",
       "      <td>735361</td>\n",
       "      <td>4</td>\n",
       "      <td>1.75</td>\n",
       "      <td>26036</td>\n",
       "      <td>1.0</td>\n",
       "      <td>0</td>\n",
       "      <td>8</td>\n",
       "      <td>1160</td>\n",
       "      <td>1</td>\n",
       "      <td>1947</td>\n",
       "      <td>2590</td>\n",
       "      <td>647500</td>\n",
       "    </tr>\n",
       "  </tbody>\n",
       "</table>\n",
       "</div>"
      ],
      "text/plain": [
       "        date  bedrooms  bathrooms  sqft_lot  floors  waterfront  grade  \\\n",
       "2495  735710         6       3.00      9373     2.0           0      7   \n",
       "6729  735361         4       1.75     26036     1.0           0      8   \n",
       "\n",
       "      sqft_above  sqft_basement  yr_built  sqft_living15   price  \n",
       "2495        2400              0      1991           2060  300000  \n",
       "6729        1160              1      1947           2590  647500  "
      ]
     },
     "execution_count": 66,
     "metadata": {},
     "output_type": "execute_result"
    }
   ],
   "source": [
    "df.head(2)"
   ]
  },
  {
   "cell_type": "code",
   "execution_count": 67,
   "id": "grand-coupon",
   "metadata": {},
   "outputs": [],
   "source": [
    "# Adding a log-transform column for sqft_living15, yr_built, sqft_above and sqft_lot \n",
    "# with the goal of achieving a more uniform distribution for those columns\n",
    "df[\"sqft_living15_log\"] = np.log(df[\"sqft_living15\"])\n",
    "df[\"yr_built_log\"] = np.log(df[\"yr_built\"])\n",
    "df[\"sqft_above_log\"] = np.log(df[\"sqft_above\"])\n",
    "df[\"sqft_lot_log\"] = np.log(df[\"sqft_lot\"])"
   ]
  },
  {
   "cell_type": "code",
   "execution_count": 68,
   "id": "equivalent-outline",
   "metadata": {},
   "outputs": [
    {
     "name": "stdout",
     "output_type": "stream",
     "text": [
      "<class 'pandas.core.frame.DataFrame'>\n",
      "Int64Index: 21419 entries, 2495 to 15937\n",
      "Data columns (total 16 columns):\n",
      " #   Column             Non-Null Count  Dtype  \n",
      "---  ------             --------------  -----  \n",
      " 0   date               21419 non-null  int64  \n",
      " 1   bedrooms           21419 non-null  int64  \n",
      " 2   bathrooms          21419 non-null  float64\n",
      " 3   sqft_lot           21419 non-null  int64  \n",
      " 4   floors             21419 non-null  float64\n",
      " 5   waterfront         21419 non-null  int64  \n",
      " 6   grade              21419 non-null  int64  \n",
      " 7   sqft_above         21419 non-null  int64  \n",
      " 8   sqft_basement      21419 non-null  int64  \n",
      " 9   yr_built           21419 non-null  int64  \n",
      " 10  sqft_living15      21419 non-null  int64  \n",
      " 11  price              21419 non-null  int64  \n",
      " 12  sqft_living15_log  21419 non-null  float64\n",
      " 13  yr_built_log       21419 non-null  float64\n",
      " 14  sqft_above_log     21419 non-null  float64\n",
      " 15  sqft_lot_log       21419 non-null  float64\n",
      "dtypes: float64(6), int64(10)\n",
      "memory usage: 2.8 MB\n"
     ]
    }
   ],
   "source": [
    "df.info()\n"
   ]
  },
  {
   "cell_type": "code",
   "execution_count": 73,
   "id": "classical-resident",
   "metadata": {},
   "outputs": [
    {
     "data": {
      "image/png": "[encoded data removed]",
      "text/plain": [
       "<Figure size 720x720 with 4 Axes>"
      ]
     },
     "metadata": {
      "needs_background": "light"
     },
     "output_type": "display_data"
    }
   ],
   "source": [
    "# check distribution of the log columns\n",
    "f, axes = plt.subplots(2, 2, figsize=(10, 10), sharex=False);\n",
    "sns.histplot( df[\"sqft_living15_log\"] , color=\"teal\", ax=axes[0, 0]);\n",
    "sns.histplot( df[\"yr_built_log\"] , color=\"gold\", ax=axes[0, 1]);\n",
    "sns.histplot( df[\"sqft_above_log\"] , color=\"olive\", ax=axes[1, 0]);\n",
    "sns.histplot( df[\"sqft_lot_log\"] , color=\"skyblue\", ax=axes[1, 1]);"
   ]
  },
  {
   "cell_type": "code",
   "execution_count": 74,
   "id": "bacterial-chamber",
   "metadata": {},
   "outputs": [
    {
     "data": {
      "image/png": "[encoded data removed]",
      "text/plain": [
       "<Figure size 720x720 with 4 Axes>"
      ]
     },
     "metadata": {
      "needs_background": "light"
     },
     "output_type": "display_data"
    }
   ],
   "source": [
    "# compare with normal distribution\n",
    "f, axes = plt.subplots(2, 2, figsize=(10, 10), sharex=False);\n",
    "sns.histplot( df[\"sqft_living15\"] , color=\"teal\", ax=axes[0, 0]);\n",
    "sns.histplot( df[\"yr_built\"] , color=\"gold\", ax=axes[0, 1]);\n",
    "sns.histplot( df[\"sqft_above\"] , color=\"olive\", ax=axes[1, 0]);\n",
    "sns.histplot( df[\"sqft_lot\"] , color=\"skyblue\", ax=axes[1, 1]);"
   ]
  },
  {
   "cell_type": "markdown",
   "id": "lovely-conservation",
   "metadata": {},
   "source": [
    "These four variables look a lot better after the log transform. We will drop the original columns, and create a new dataframe for that "
   ]
  },
  {
   "cell_type": "code",
   "execution_count": 75,
   "id": "marked-perception",
   "metadata": {},
   "outputs": [
    {
     "data": {
      "text/html": [
       "<div>\n",
       "<style scoped>\n",
       "    .dataframe tbody tr th:only-of-type {\n",
       "        vertical-align: middle;\n",
       "    }\n",
       "\n",
       "    .dataframe tbody tr th {\n",
       "        vertical-align: top;\n",
       "    }\n",
       "\n",
       "    .dataframe thead th {\n",
       "        text-align: right;\n",
       "    }\n",
       "</style>\n",
       "<table border=\"1\" class=\"dataframe\">\n",
       "  <thead>\n",
       "    <tr style=\"text-align: right;\">\n",
       "      <th></th>\n",
       "      <th>date</th>\n",
       "      <th>bedrooms</th>\n",
       "      <th>bathrooms</th>\n",
       "      <th>floors</th>\n",
       "      <th>waterfront</th>\n",
       "      <th>grade</th>\n",
       "      <th>sqft_basement</th>\n",
       "      <th>price</th>\n",
       "      <th>sqft_living15_log</th>\n",
       "      <th>yr_built_log</th>\n",
       "      <th>sqft_above_log</th>\n",
       "      <th>sqft_lot_log</th>\n",
       "    </tr>\n",
       "  </thead>\n",
       "  <tbody>\n",
       "    <tr>\n",
       "      <th>2495</th>\n",
       "      <td>735710</td>\n",
       "      <td>6</td>\n",
       "      <td>3.00</td>\n",
       "      <td>2.0</td>\n",
       "      <td>0</td>\n",
       "      <td>7</td>\n",
       "      <td>0</td>\n",
       "      <td>300000</td>\n",
       "      <td>7.630461</td>\n",
       "      <td>7.596392</td>\n",
       "      <td>7.783224</td>\n",
       "      <td>9.145588</td>\n",
       "    </tr>\n",
       "    <tr>\n",
       "      <th>6729</th>\n",
       "      <td>735361</td>\n",
       "      <td>4</td>\n",
       "      <td>1.75</td>\n",
       "      <td>1.0</td>\n",
       "      <td>0</td>\n",
       "      <td>8</td>\n",
       "      <td>1</td>\n",
       "      <td>647500</td>\n",
       "      <td>7.859413</td>\n",
       "      <td>7.574045</td>\n",
       "      <td>7.056175</td>\n",
       "      <td>10.167235</td>\n",
       "    </tr>\n",
       "    <tr>\n",
       "      <th>8404</th>\n",
       "      <td>735456</td>\n",
       "      <td>3</td>\n",
       "      <td>1.00</td>\n",
       "      <td>1.0</td>\n",
       "      <td>0</td>\n",
       "      <td>7</td>\n",
       "      <td>0</td>\n",
       "      <td>400000</td>\n",
       "      <td>7.718685</td>\n",
       "      <td>7.576610</td>\n",
       "      <td>7.286192</td>\n",
       "      <td>10.668955</td>\n",
       "    </tr>\n",
       "    <tr>\n",
       "      <th>8800</th>\n",
       "      <td>735689</td>\n",
       "      <td>3</td>\n",
       "      <td>1.00</td>\n",
       "      <td>1.5</td>\n",
       "      <td>0</td>\n",
       "      <td>6</td>\n",
       "      <td>1</td>\n",
       "      <td>235000</td>\n",
       "      <td>7.162397</td>\n",
       "      <td>7.565275</td>\n",
       "      <td>6.917706</td>\n",
       "      <td>8.935772</td>\n",
       "    </tr>\n",
       "    <tr>\n",
       "      <th>3553</th>\n",
       "      <td>735676</td>\n",
       "      <td>4</td>\n",
       "      <td>2.00</td>\n",
       "      <td>1.0</td>\n",
       "      <td>0</td>\n",
       "      <td>7</td>\n",
       "      <td>1</td>\n",
       "      <td>402500</td>\n",
       "      <td>7.299797</td>\n",
       "      <td>7.576097</td>\n",
       "      <td>6.633318</td>\n",
       "      <td>8.161660</td>\n",
       "    </tr>\n",
       "  </tbody>\n",
       "</table>\n",
       "</div>"
      ],
      "text/plain": [
       "        date  bedrooms  bathrooms  floors  waterfront  grade  sqft_basement  \\\n",
       "2495  735710         6       3.00     2.0           0      7              0   \n",
       "6729  735361         4       1.75     1.0           0      8              1   \n",
       "8404  735456         3       1.00     1.0           0      7              0   \n",
       "8800  735689         3       1.00     1.5           0      6              1   \n",
       "3553  735676         4       2.00     1.0           0      7              1   \n",
       "\n",
       "       price  sqft_living15_log  yr_built_log  sqft_above_log  sqft_lot_log  \n",
       "2495  300000           7.630461      7.596392        7.783224      9.145588  \n",
       "6729  647500           7.859413      7.574045        7.056175     10.167235  \n",
       "8404  400000           7.718685      7.576610        7.286192     10.668955  \n",
       "8800  235000           7.162397      7.565275        6.917706      8.935772  \n",
       "3553  402500           7.299797      7.576097        6.633318      8.161660  "
      ]
     },
     "execution_count": 75,
     "metadata": {},
     "output_type": "execute_result"
    }
   ],
   "source": [
    "df_wrangled=df.drop([\"sqft_living15\",\"yr_built\", \"sqft_above\", \"sqft_lot\"], axis=1)\n",
    "df_wrangled.head()"
   ]
  },
  {
   "cell_type": "markdown",
   "id": "synthetic-reduction",
   "metadata": {},
   "source": [
    "***"
   ]
  },
  {
   "cell_type": "markdown",
   "id": "engaging-declaration",
   "metadata": {},
   "source": [
    "## Applying a linear regression model to the dataframe"
   ]
  },
  {
   "cell_type": "code",
   "execution_count": 76,
   "id": "strong-shipping",
   "metadata": {},
   "outputs": [],
   "source": [
    "'''Defining the variables:\n",
    "Y as 'price' - the variable we want to predict,\n",
    "and X as all other columns of our dataframe.'''\n",
    "\n",
    "y = df_wrangled['price'] # define Y as price, the variable that will be predicted\n",
    "\n",
    "X = df_wrangled.drop(['price'], axis=1) # define X as all other variables except price"
   ]
  },
  {
   "cell_type": "markdown",
   "id": "satisfied-madness",
   "metadata": {},
   "source": [
    "### Split the data into training and testing sets\n",
    "***\n",
    "The next step will split our data into a train and a test sample so we can train the model and get a benchmark for its precision"
   ]
  },
  {
   "cell_type": "code",
   "execution_count": 83,
   "id": "fundamental-possibility",
   "metadata": {},
   "outputs": [
    {
     "name": "stdout",
     "output_type": "stream",
     "text": [
      "(14993, 11)\n",
      "(6426, 11)\n",
      "(14993,)\n",
      "(6426,)\n"
     ]
    }
   ],
   "source": [
    "'''We use sklearn train_test_split function to achieve this\n",
    "the test_size is the percentage of the data we use to test our model with, \n",
    "meaning we feed it 70% of the available data. The random state generates a \n",
    "random number for the split to ensure consistency'''\n",
    "\n",
    "X_train, X_test, y_train, y_test = train_test_split(X, y, test_size = 0.3, random_state=40) \n",
    "print(X_train.shape)\n",
    "print(X_test.shape)\n",
    "print(y_train.shape)\n",
    "print(y_test.shape)"
   ]
  },
  {
   "cell_type": "code",
   "execution_count": 84,
   "id": "pretty-honey",
   "metadata": {},
   "outputs": [
    {
     "data": {
      "text/plain": [
       "LinearRegression()"
      ]
     },
     "execution_count": 84,
     "metadata": {},
     "output_type": "execute_result"
    }
   ],
   "source": [
    "# Fitting the training data into the linear regression model\n",
    "lin_model = LinearRegression()\n",
    "lin_model.fit(X_train, y_train)"
   ]
  },
  {
   "cell_type": "code",
   "execution_count": 85,
   "id": "favorite-florist",
   "metadata": {},
   "outputs": [
    {
     "data": {
      "text/plain": [
       "array([397231.28166127, 973203.75129159, 495666.57881012, ...,\n",
       "       320546.482468  , 321445.91379179, 701838.80669371])"
      ]
     },
     "execution_count": 85,
     "metadata": {},
     "output_type": "execute_result"
    }
   ],
   "source": [
    "# A predicition array is presented\n",
    "predictions  = lin_model.predict(X_test)\n",
    "predictions"
   ]
  },
  {
   "cell_type": "code",
   "execution_count": 86,
   "id": "accomplished-graphics",
   "metadata": {},
   "outputs": [
    {
     "data": {
      "text/plain": [
       "0.6290357313894337"
      ]
     },
     "execution_count": 86,
     "metadata": {},
     "output_type": "execute_result"
    }
   ],
   "source": [
    "#This is the r2 score\n",
    "r2 = r2_score(y_test, predictions)\n",
    "r2"
   ]
  },
  {
   "cell_type": "code",
   "execution_count": 87,
   "id": "recent-canon",
   "metadata": {},
   "outputs": [
    {
     "name": "stdout",
     "output_type": "stream",
     "text": [
      "212384.17573944372\n"
     ]
    }
   ],
   "source": [
    "#This is the RMSE\n",
    "mse = mean_squared_error(y_test, predictions)\n",
    "rmse = math.sqrt(mse)\n",
    "print(rmse)"
   ]
  },
  {
   "cell_type": "markdown",
   "id": "massive-machinery",
   "metadata": {},
   "source": [
    "### Below, you can see the regression model's predictions compared against the y_test values"
   ]
  },
  {
   "cell_type": "code",
   "execution_count": 82,
   "id": "industrial-sunset",
   "metadata": {
    "scrolled": true
   },
   "outputs": [
    {
     "data": {
      "image/png": "[encoded data removed]",
      "text/plain": [
       "<Figure size 432x288 with 1 Axes>"
      ]
     },
     "metadata": {
      "needs_background": "light"
     },
     "output_type": "display_data"
    }
   ],
   "source": [
    "sns.scatterplot(y_test, predictions, alpha=0.4)\n",
    "sns.regplot(y_test, predictions, truncate=True, scatter_kws={'s': 20, 'alpha':0.3}, line_kws={'color':'green', 'linewidth': 2})\n",
    "\n",
    "plt.xlabel(\"Actual Prices: $Y_i$\")\n",
    "plt.ylabel(\"Predicted prices: $\\hat{Y}_i$\")\n",
    "plt.title(\"Actual Prices vs Predicted prices: $Y_i$ vs $\\hat{Y}_i$ [Test Set]\")\n",
    " \n",
    "plt.show()"
   ]
  },
  {
   "cell_type": "markdown",
   "id": "thirty-stuff",
   "metadata": {},
   "source": [
    "### This wrangled dataframe has performed better in linear regression than out orignal try\n",
    "***"
   ]
  },
  {
   "cell_type": "markdown",
   "id": "convinced-receipt",
   "metadata": {},
   "source": [
    "## Applying a Polynomial regression model to the dataframe\n",
    "***\n",
    "In this section, the model from the previous section is converted into a Polynomial model of order 2. After this, a regression model is run and predictions are obtained."
   ]
  },
  {
   "cell_type": "code",
   "execution_count": 88,
   "id": "prostate-distinction",
   "metadata": {},
   "outputs": [],
   "source": [
    "'''Defining the variables:\n",
    "Y as 'price' - the variable we want to predict,\n",
    "and X as all other columns of our dataframe.'''\n",
    "\n",
    "y = df_wrangled['price'] # define Y as price, the variable that will be predicted\n",
    "\n",
    "X = df_wrangled.drop(['price'], axis=1) # define X as all other variables except price"
   ]
  },
  {
   "cell_type": "code",
   "execution_count": 89,
   "id": "frank-romania",
   "metadata": {},
   "outputs": [
    {
     "name": "stdout",
     "output_type": "stream",
     "text": [
      "(14993, 11)\n",
      "(6426, 11)\n",
      "(14993,)\n",
      "(6426,)\n"
     ]
    }
   ],
   "source": [
    "X_train, X_test, y_train, y_test = train_test_split(X, y, test_size = 0.3, random_state=40) \n",
    "print(X_train.shape)\n",
    "print(X_test.shape)\n",
    "print(y_train.shape)\n",
    "print(y_test.shape)"
   ]
  },
  {
   "cell_type": "code",
   "execution_count": 90,
   "id": "flying-italy",
   "metadata": {},
   "outputs": [
    {
     "name": "stdout",
     "output_type": "stream",
     "text": [
      "The model's performance for the training set\n",
      "-------------------------------------------\n",
      "Training set's RMSE is 235637.41876020082\n",
      "Training set's R_2 score is 0.6058742389487826\n",
      "\n",
      "\n",
      "The model performance for the test set\n",
      "-------------------------------------------\n",
      "Testing set's RMSE is 212384.1757394495\n",
      "Testing set's R_2 score is 0.6290357313894136\n"
     ]
    }
   ],
   "source": [
    "def create_polynomial_regression_model(degree):\n",
    "  \n",
    "  poly_features = PolynomialFeatures(degree=degree)\n",
    "  \n",
    "  # With this line of code, the previous's section model is transformed into higher features\n",
    "  X_train_poly = poly_features.fit_transform(X_train)\n",
    "  \n",
    "  # The transformed features are fitted to a polinomial regression\n",
    "  poly_model = LinearRegression()\n",
    "  poly_model.fit(X_train_poly, y_train)\n",
    "  \n",
    "  # A prediction on the training data set is conducted\n",
    "  y_train_predicted = poly_model.predict(X_train_poly)\n",
    "  \n",
    "  # A prediciton on the test data set is carried out\n",
    "  y_test_predict = poly_model.predict(poly_features.fit_transform(X_test))\n",
    "  \n",
    "  # The training dataset is evaluated\n",
    "  rmse_train = np.sqrt(mean_squared_error(y_train, y_train_predicted))\n",
    "  r2_train = r2_score(y_train, y_train_predicted)\n",
    "  \n",
    "  # Model'S evaluation on the test data set\n",
    "  rmse_test = np.sqrt(mean_squared_error(y_test, y_test_predict))\n",
    "  r2_test = r2_score(y_test, y_test_predict)\n",
    "  \n",
    "  print(\"The model's performance for the training set\")\n",
    "  print(\"-------------------------------------------\")\n",
    "  print(\"Training set's RMSE is {}\".format(rmse_train))\n",
    "  print(\"Training set's R_2 score is {}\".format(r2_train))\n",
    "  \n",
    "  print(\"\\n\")\n",
    "  \n",
    "  print(\"The model performance for the test set\")\n",
    "  print(\"-------------------------------------------\")\n",
    "  print(\"Testing set's RMSE is {}\".format(rmse_test))\n",
    "  print(\"Testing set's R_2 score is {}\".format(r2_test))  \n",
    "    \n",
    "create_polynomial_regression_model(1)"
   ]
  },
  {
   "cell_type": "code",
   "execution_count": 91,
   "id": "existing-steam",
   "metadata": {},
   "outputs": [
    {
     "data": {
      "text/plain": [
       "array([ 356350.76531982, 1042083.98309326,  495020.175354  , ...,\n",
       "        303111.88031006,  323220.07763672,  687623.99554443])"
      ]
     },
     "execution_count": 91,
     "metadata": {},
     "output_type": "execute_result"
    }
   ],
   "source": [
    "#These are the predicted values\n",
    "degree=2\n",
    "poly_features = PolynomialFeatures(degree=degree)\n",
    "X_train_poly = poly_features.fit_transform(X_train)\n",
    "poly_model = LinearRegression()\n",
    "poly_model.fit(X_train_poly, y_train)\n",
    "y_train_predicted = poly_model.predict(X_train_poly)\n",
    "y_test_predict = poly_model.predict(poly_features.fit_transform(X_test))\n",
    "y_test_predict "
   ]
  },
  {
   "cell_type": "markdown",
   "id": "creative-smart",
   "metadata": {},
   "source": [
    "### Below, you can see the polynomial model's predictions compared against the y_test values"
   ]
  },
  {
   "cell_type": "code",
   "execution_count": 92,
   "id": "likely-merit",
   "metadata": {},
   "outputs": [
    {
     "data": {
      "image/png": "[encoded data removed]",
      "text/plain": [
       "<Figure size 432x288 with 1 Axes>"
      ]
     },
     "metadata": {
      "needs_background": "light"
     },
     "output_type": "display_data"
    }
   ],
   "source": [
    "sns.scatterplot(y_test, y_test_predict, alpha=0.4)\n",
    "sns.regplot(y_test, y_test_predict, scatter_kws={'s': 20, 'alpha':0.3}, line_kws={'color':'green', 'linewidth': 2}, order=2)\n",
    " \n",
    "plt.xlabel(\"Actual Prices: $Y_i$\")\n",
    "plt.ylabel(\"Predicted prices: $\\hat{Y}_i$\")\n",
    "plt.title(\"Actual Prices vs Predicted prices: $Y_i$ vs $\\hat{Y}_i$ [Testing Set]\")\n",
    " \n",
    "plt.show()"
   ]
  },
  {
   "cell_type": "markdown",
   "id": "explicit-announcement",
   "metadata": {},
   "source": [
    "# Comparison linear <> polynomial regression\n",
    "\n",
    "#### Linear regression\n",
    "\n",
    "R2: 0.6290357313894257\n",
    "\n",
    "RSME: 212384.17573944372\n",
    "\n",
    "\n",
    "#### Polynomial regression\n",
    "\n",
    "R2: 0.6290357313894136 (slightly worse than linear regression\n",
    "\n",
    "RMSE: 212384.1757394495"
   ]
  },
  {
   "cell_type": "markdown",
   "id": "stainless-oracle",
   "metadata": {},
   "source": [
    "## Can further wrangling improve the result?"
   ]
  },
  {
   "cell_type": "code",
   "execution_count": 94,
   "id": "horizontal-southeast",
   "metadata": {},
   "outputs": [
    {
     "data": {
      "text/html": [
       "<div>\n",
       "<style scoped>\n",
       "    .dataframe tbody tr th:only-of-type {\n",
       "        vertical-align: middle;\n",
       "    }\n",
       "\n",
       "    .dataframe tbody tr th {\n",
       "        vertical-align: top;\n",
       "    }\n",
       "\n",
       "    .dataframe thead th {\n",
       "        text-align: right;\n",
       "    }\n",
       "</style>\n",
       "<table border=\"1\" class=\"dataframe\">\n",
       "  <thead>\n",
       "    <tr style=\"text-align: right;\">\n",
       "      <th></th>\n",
       "      <th>date</th>\n",
       "      <th>bedrooms</th>\n",
       "      <th>bathrooms</th>\n",
       "      <th>floors</th>\n",
       "      <th>waterfront</th>\n",
       "      <th>grade</th>\n",
       "      <th>sqft_basement</th>\n",
       "      <th>price</th>\n",
       "      <th>sqft_living15_log</th>\n",
       "      <th>yr_built_log</th>\n",
       "      <th>sqft_above_log</th>\n",
       "      <th>sqft_lot_log</th>\n",
       "    </tr>\n",
       "  </thead>\n",
       "  <tbody>\n",
       "    <tr>\n",
       "      <th>2495</th>\n",
       "      <td>735710</td>\n",
       "      <td>6</td>\n",
       "      <td>3.00</td>\n",
       "      <td>2.0</td>\n",
       "      <td>0</td>\n",
       "      <td>7</td>\n",
       "      <td>0</td>\n",
       "      <td>300000</td>\n",
       "      <td>7.630461</td>\n",
       "      <td>7.596392</td>\n",
       "      <td>7.783224</td>\n",
       "      <td>9.145588</td>\n",
       "    </tr>\n",
       "    <tr>\n",
       "      <th>6729</th>\n",
       "      <td>735361</td>\n",
       "      <td>4</td>\n",
       "      <td>1.75</td>\n",
       "      <td>1.0</td>\n",
       "      <td>0</td>\n",
       "      <td>8</td>\n",
       "      <td>1</td>\n",
       "      <td>647500</td>\n",
       "      <td>7.859413</td>\n",
       "      <td>7.574045</td>\n",
       "      <td>7.056175</td>\n",
       "      <td>10.167235</td>\n",
       "    </tr>\n",
       "    <tr>\n",
       "      <th>8404</th>\n",
       "      <td>735456</td>\n",
       "      <td>3</td>\n",
       "      <td>1.00</td>\n",
       "      <td>1.0</td>\n",
       "      <td>0</td>\n",
       "      <td>7</td>\n",
       "      <td>0</td>\n",
       "      <td>400000</td>\n",
       "      <td>7.718685</td>\n",
       "      <td>7.576610</td>\n",
       "      <td>7.286192</td>\n",
       "      <td>10.668955</td>\n",
       "    </tr>\n",
       "    <tr>\n",
       "      <th>8800</th>\n",
       "      <td>735689</td>\n",
       "      <td>3</td>\n",
       "      <td>1.00</td>\n",
       "      <td>1.5</td>\n",
       "      <td>0</td>\n",
       "      <td>6</td>\n",
       "      <td>1</td>\n",
       "      <td>235000</td>\n",
       "      <td>7.162397</td>\n",
       "      <td>7.565275</td>\n",
       "      <td>6.917706</td>\n",
       "      <td>8.935772</td>\n",
       "    </tr>\n",
       "    <tr>\n",
       "      <th>3553</th>\n",
       "      <td>735676</td>\n",
       "      <td>4</td>\n",
       "      <td>2.00</td>\n",
       "      <td>1.0</td>\n",
       "      <td>0</td>\n",
       "      <td>7</td>\n",
       "      <td>1</td>\n",
       "      <td>402500</td>\n",
       "      <td>7.299797</td>\n",
       "      <td>7.576097</td>\n",
       "      <td>6.633318</td>\n",
       "      <td>8.161660</td>\n",
       "    </tr>\n",
       "  </tbody>\n",
       "</table>\n",
       "</div>"
      ],
      "text/plain": [
       "        date  bedrooms  bathrooms  floors  waterfront  grade  sqft_basement  \\\n",
       "2495  735710         6       3.00     2.0           0      7              0   \n",
       "6729  735361         4       1.75     1.0           0      8              1   \n",
       "8404  735456         3       1.00     1.0           0      7              0   \n",
       "8800  735689         3       1.00     1.5           0      6              1   \n",
       "3553  735676         4       2.00     1.0           0      7              1   \n",
       "\n",
       "       price  sqft_living15_log  yr_built_log  sqft_above_log  sqft_lot_log  \n",
       "2495  300000           7.630461      7.596392        7.783224      9.145588  \n",
       "6729  647500           7.859413      7.574045        7.056175     10.167235  \n",
       "8404  400000           7.718685      7.576610        7.286192     10.668955  \n",
       "8800  235000           7.162397      7.565275        6.917706      8.935772  \n",
       "3553  402500           7.299797      7.576097        6.633318      8.161660  "
      ]
     },
     "execution_count": 94,
     "metadata": {},
     "output_type": "execute_result"
    }
   ],
   "source": [
    "# we start with our wrangled dataset and assign a new variable for our further steps\n",
    "df_wrangled.head()\n"
   ]
  },
  {
   "cell_type": "code",
   "execution_count": 95,
   "id": "indonesian-quantum",
   "metadata": {},
   "outputs": [],
   "source": [
    "# First try is simple linear regression without the date column since it could skew the model \n",
    "\n",
    "y = df_wrangled['price'] # define Y as price, the variable that will be predicted\n",
    "\n",
    "X = df_wrangled.drop(['price', 'date'], axis=1) # define X as all other variables except date and price"
   ]
  },
  {
   "cell_type": "code",
   "execution_count": 96,
   "id": "cultural-manufacturer",
   "metadata": {},
   "outputs": [
    {
     "name": "stdout",
     "output_type": "stream",
     "text": [
      "(14993, 10)\n",
      "(6426, 10)\n",
      "(14993,)\n",
      "(6426,)\n"
     ]
    }
   ],
   "source": [
    "#splitting the dara\n",
    "\n",
    "X_train, X_test, y_train, y_test = train_test_split(X, y, test_size = 0.3, random_state=40) \n",
    "print(X_train.shape)\n",
    "print(X_test.shape)\n",
    "print(y_train.shape)\n",
    "print(y_test.shape)"
   ]
  },
  {
   "cell_type": "code",
   "execution_count": 97,
   "id": "ideal-compensation",
   "metadata": {},
   "outputs": [
    {
     "data": {
      "text/plain": [
       "LinearRegression()"
      ]
     },
     "execution_count": 97,
     "metadata": {},
     "output_type": "execute_result"
    }
   ],
   "source": [
    "# Fitting the training data into the linear regression model\n",
    "lin_model = LinearRegression()\n",
    "lin_model.fit(X_train, y_train)"
   ]
  },
  {
   "cell_type": "code",
   "execution_count": 98,
   "id": "biological-status",
   "metadata": {},
   "outputs": [
    {
     "data": {
      "text/plain": [
       "64201101.1345152"
      ]
     },
     "execution_count": 98,
     "metadata": {},
     "output_type": "execute_result"
    }
   ],
   "source": [
    "#This is the result equation's intercept (the constant)\n",
    "lin_model.intercept_"
   ]
  },
  {
   "cell_type": "code",
   "execution_count": 99,
   "id": "lyric-blood",
   "metadata": {},
   "outputs": [
    {
     "data": {
      "text/plain": [
       "array([  -24272.05536105,   101797.59221674,   -17602.05225116,\n",
       "         788608.12761662,   161804.217303  ,    67187.02610971,\n",
       "         101929.32299821, -8800910.95188454,   154085.70749348,\n",
       "         -20143.88680802])"
      ]
     },
     "execution_count": 99,
     "metadata": {},
     "output_type": "execute_result"
    }
   ],
   "source": [
    "#These are estimated coefficients \n",
    "lin_model.coef_"
   ]
  },
  {
   "cell_type": "code",
   "execution_count": 100,
   "id": "cosmetic-ethnic",
   "metadata": {},
   "outputs": [
    {
     "data": {
      "text/plain": [
       "array([380848.4007494 , 951901.22535047, 479633.71503145, ...,\n",
       "       325809.97708335, 342204.10881339, 705567.06215645])"
      ]
     },
     "execution_count": 100,
     "metadata": {},
     "output_type": "execute_result"
    }
   ],
   "source": [
    "# A predicition array is presented\n",
    "predictions  = lin_model.predict(X_test)\n",
    "predictions"
   ]
  },
  {
   "cell_type": "code",
   "execution_count": 101,
   "id": "utility-metabolism",
   "metadata": {},
   "outputs": [
    {
     "data": {
      "text/plain": [
       "0.6293756496701295"
      ]
     },
     "execution_count": 101,
     "metadata": {},
     "output_type": "execute_result"
    }
   ],
   "source": [
    "#This is the r2 score\n",
    "r2 = r2_score(y_test, predictions)\n",
    "r2"
   ]
  },
  {
   "cell_type": "code",
   "execution_count": 102,
   "id": "dangerous-dinner",
   "metadata": {},
   "outputs": [
    {
     "name": "stdout",
     "output_type": "stream",
     "text": [
      "212286.84856347472\n"
     ]
    }
   ],
   "source": [
    "mse = mean_squared_error(y_test, predictions)\n",
    "rmse = math.sqrt(mse)\n",
    "print(rmse)"
   ]
  },
  {
   "cell_type": "markdown",
   "id": "unable-yugoslavia",
   "metadata": {},
   "source": [
    "#### Comparing results\n",
    "\n",
    "- best model scores:\n",
    "\n",
    "R2: 0.6290357313894257\n",
    "\n",
    "RSME: 212384.17573944372\n",
    "    \n",
    "- current model scores\n",
    "\n",
    "R2: 0.6293756496701295 (slightly improved)\n",
    "    \n",
    "RSME: 212286.84856347472 (slightly improved)\n",
    "***"
   ]
  },
  {
   "cell_type": "code",
   "execution_count": 103,
   "id": "opening-orleans",
   "metadata": {},
   "outputs": [],
   "source": [
    "# Another try with linear regression without the date & waterfront column since it could skew the model \n",
    "'''Defining the variables:\n",
    "Y as 'price' - the variable we want to predict,\n",
    "and X as all other columns except date of our dataframe.'''\n",
    "\n",
    "y = df_wrangled['price'] # define Y as price, the variable that will be predicted\n",
    "\n",
    "X = df_wrangled.drop(['price', 'date', 'waterfront'], axis=1) # define X as all other variables except date and price"
   ]
  },
  {
   "cell_type": "code",
   "execution_count": 104,
   "id": "photographic-accuracy",
   "metadata": {},
   "outputs": [
    {
     "data": {
      "text/plain": [
       "LinearRegression()"
      ]
     },
     "execution_count": 104,
     "metadata": {},
     "output_type": "execute_result"
    }
   ],
   "source": [
    "#splitting the data\n",
    "X_train, X_test, y_train, y_test = train_test_split(X, y, test_size = 0.3, random_state=40) \n",
    "\n",
    "# Fitting the training data into the linear regression model\n",
    "lin_model = LinearRegression()\n",
    "lin_model.fit(X_train, y_train)"
   ]
  },
  {
   "cell_type": "code",
   "execution_count": 105,
   "id": "afraid-rally",
   "metadata": {},
   "outputs": [
    {
     "data": {
      "text/plain": [
       "0.6293756496701295"
      ]
     },
     "execution_count": 105,
     "metadata": {},
     "output_type": "execute_result"
    }
   ],
   "source": [
    "#This is the r2 score\n",
    "r2 = r2_score(y_test, predictions)\n",
    "r2"
   ]
  },
  {
   "cell_type": "code",
   "execution_count": 106,
   "id": "proof-actress",
   "metadata": {},
   "outputs": [
    {
     "name": "stdout",
     "output_type": "stream",
     "text": [
      "212286.84856347472\n"
     ]
    }
   ],
   "source": [
    "# RSME of the model\n",
    "mse = mean_squared_error(y_test, predictions)\n",
    "rmse = math.sqrt(mse)\n",
    "print(rmse)"
   ]
  },
  {
   "cell_type": "markdown",
   "id": "appreciated-money",
   "metadata": {},
   "source": [
    "### This model performt worse than using waterfront, so it stays in the dataframe"
   ]
  },
  {
   "cell_type": "markdown",
   "id": "roman-massachusetts",
   "metadata": {},
   "source": [
    "We will continue without the date column, but lets check if we can add some data back and improve the model"
   ]
  },
  {
   "cell_type": "markdown",
   "id": "deadly-serbia",
   "metadata": {},
   "source": [
    "We will try to run a modell with scaled and preprocessed data from the original dataframe minus the date column. We will use standardscaler to achieve some scaling of the data"
   ]
  },
  {
   "cell_type": "code",
   "execution_count": 107,
   "id": "decreased-chapel",
   "metadata": {
    "scrolled": true
   },
   "outputs": [
    {
     "data": {
      "text/html": [
       "<div>\n",
       "<style scoped>\n",
       "    .dataframe tbody tr th:only-of-type {\n",
       "        vertical-align: middle;\n",
       "    }\n",
       "\n",
       "    .dataframe tbody tr th {\n",
       "        vertical-align: top;\n",
       "    }\n",
       "\n",
       "    .dataframe thead th {\n",
       "        text-align: right;\n",
       "    }\n",
       "</style>\n",
       "<table border=\"1\" class=\"dataframe\">\n",
       "  <thead>\n",
       "    <tr style=\"text-align: right;\">\n",
       "      <th></th>\n",
       "      <th>date</th>\n",
       "      <th>bedrooms</th>\n",
       "      <th>bathrooms</th>\n",
       "      <th>sqft_living</th>\n",
       "      <th>sqft_lot</th>\n",
       "      <th>floors</th>\n",
       "      <th>waterfront</th>\n",
       "      <th>view</th>\n",
       "      <th>condition</th>\n",
       "      <th>grade</th>\n",
       "      <th>sqft_above</th>\n",
       "      <th>sqft_basement</th>\n",
       "      <th>yr_built</th>\n",
       "      <th>yr_renovated</th>\n",
       "      <th>zipcode</th>\n",
       "      <th>sqft_living15</th>\n",
       "      <th>sqft_lot15</th>\n",
       "      <th>price</th>\n",
       "    </tr>\n",
       "  </thead>\n",
       "  <tbody>\n",
       "    <tr>\n",
       "      <th>2495</th>\n",
       "      <td>735710</td>\n",
       "      <td>6</td>\n",
       "      <td>3.00</td>\n",
       "      <td>2400</td>\n",
       "      <td>9373</td>\n",
       "      <td>2.0</td>\n",
       "      <td>0</td>\n",
       "      <td>0</td>\n",
       "      <td>3</td>\n",
       "      <td>7</td>\n",
       "      <td>2400</td>\n",
       "      <td>0</td>\n",
       "      <td>1991</td>\n",
       "      <td>0</td>\n",
       "      <td>98002</td>\n",
       "      <td>2060</td>\n",
       "      <td>7316</td>\n",
       "      <td>300000</td>\n",
       "    </tr>\n",
       "    <tr>\n",
       "      <th>6729</th>\n",
       "      <td>735361</td>\n",
       "      <td>4</td>\n",
       "      <td>1.75</td>\n",
       "      <td>2060</td>\n",
       "      <td>26036</td>\n",
       "      <td>1.0</td>\n",
       "      <td>0</td>\n",
       "      <td>0</td>\n",
       "      <td>4</td>\n",
       "      <td>8</td>\n",
       "      <td>1160</td>\n",
       "      <td>1</td>\n",
       "      <td>1947</td>\n",
       "      <td>0</td>\n",
       "      <td>98166</td>\n",
       "      <td>2590</td>\n",
       "      <td>21891</td>\n",
       "      <td>647500</td>\n",
       "    </tr>\n",
       "    <tr>\n",
       "      <th>8404</th>\n",
       "      <td>735456</td>\n",
       "      <td>3</td>\n",
       "      <td>1.00</td>\n",
       "      <td>1460</td>\n",
       "      <td>43000</td>\n",
       "      <td>1.0</td>\n",
       "      <td>0</td>\n",
       "      <td>0</td>\n",
       "      <td>3</td>\n",
       "      <td>7</td>\n",
       "      <td>1460</td>\n",
       "      <td>0</td>\n",
       "      <td>1952</td>\n",
       "      <td>0</td>\n",
       "      <td>98166</td>\n",
       "      <td>2250</td>\n",
       "      <td>20023</td>\n",
       "      <td>400000</td>\n",
       "    </tr>\n",
       "    <tr>\n",
       "      <th>8800</th>\n",
       "      <td>735689</td>\n",
       "      <td>3</td>\n",
       "      <td>1.00</td>\n",
       "      <td>1430</td>\n",
       "      <td>7599</td>\n",
       "      <td>1.5</td>\n",
       "      <td>0</td>\n",
       "      <td>0</td>\n",
       "      <td>4</td>\n",
       "      <td>6</td>\n",
       "      <td>1010</td>\n",
       "      <td>1</td>\n",
       "      <td>1930</td>\n",
       "      <td>0</td>\n",
       "      <td>98168</td>\n",
       "      <td>1290</td>\n",
       "      <td>10320</td>\n",
       "      <td>235000</td>\n",
       "    </tr>\n",
       "    <tr>\n",
       "      <th>3553</th>\n",
       "      <td>735676</td>\n",
       "      <td>4</td>\n",
       "      <td>2.00</td>\n",
       "      <td>1650</td>\n",
       "      <td>3504</td>\n",
       "      <td>1.0</td>\n",
       "      <td>0</td>\n",
       "      <td>0</td>\n",
       "      <td>3</td>\n",
       "      <td>7</td>\n",
       "      <td>760</td>\n",
       "      <td>1</td>\n",
       "      <td>1951</td>\n",
       "      <td>1</td>\n",
       "      <td>98144</td>\n",
       "      <td>1480</td>\n",
       "      <td>3504</td>\n",
       "      <td>402500</td>\n",
       "    </tr>\n",
       "    <tr>\n",
       "      <th>...</th>\n",
       "      <td>...</td>\n",
       "      <td>...</td>\n",
       "      <td>...</td>\n",
       "      <td>...</td>\n",
       "      <td>...</td>\n",
       "      <td>...</td>\n",
       "      <td>...</td>\n",
       "      <td>...</td>\n",
       "      <td>...</td>\n",
       "      <td>...</td>\n",
       "      <td>...</td>\n",
       "      <td>...</td>\n",
       "      <td>...</td>\n",
       "      <td>...</td>\n",
       "      <td>...</td>\n",
       "      <td>...</td>\n",
       "      <td>...</td>\n",
       "      <td>...</td>\n",
       "    </tr>\n",
       "    <tr>\n",
       "      <th>16723</th>\n",
       "      <td>735439</td>\n",
       "      <td>5</td>\n",
       "      <td>2.00</td>\n",
       "      <td>1600</td>\n",
       "      <td>4168</td>\n",
       "      <td>1.5</td>\n",
       "      <td>0</td>\n",
       "      <td>0</td>\n",
       "      <td>3</td>\n",
       "      <td>7</td>\n",
       "      <td>1600</td>\n",
       "      <td>0</td>\n",
       "      <td>1927</td>\n",
       "      <td>0</td>\n",
       "      <td>98126</td>\n",
       "      <td>1190</td>\n",
       "      <td>4168</td>\n",
       "      <td>365000</td>\n",
       "    </tr>\n",
       "    <tr>\n",
       "      <th>3257</th>\n",
       "      <td>735668</td>\n",
       "      <td>2</td>\n",
       "      <td>1.00</td>\n",
       "      <td>1040</td>\n",
       "      <td>7372</td>\n",
       "      <td>1.0</td>\n",
       "      <td>0</td>\n",
       "      <td>0</td>\n",
       "      <td>5</td>\n",
       "      <td>7</td>\n",
       "      <td>840</td>\n",
       "      <td>1</td>\n",
       "      <td>1939</td>\n",
       "      <td>0</td>\n",
       "      <td>98126</td>\n",
       "      <td>1930</td>\n",
       "      <td>5150</td>\n",
       "      <td>380000</td>\n",
       "    </tr>\n",
       "    <tr>\n",
       "      <th>7614</th>\n",
       "      <td>735408</td>\n",
       "      <td>3</td>\n",
       "      <td>1.00</td>\n",
       "      <td>1100</td>\n",
       "      <td>4128</td>\n",
       "      <td>1.0</td>\n",
       "      <td>0</td>\n",
       "      <td>0</td>\n",
       "      <td>4</td>\n",
       "      <td>7</td>\n",
       "      <td>720</td>\n",
       "      <td>1</td>\n",
       "      <td>1942</td>\n",
       "      <td>0</td>\n",
       "      <td>98126</td>\n",
       "      <td>1510</td>\n",
       "      <td>4538</td>\n",
       "      <td>339000</td>\n",
       "    </tr>\n",
       "    <tr>\n",
       "      <th>20963</th>\n",
       "      <td>735417</td>\n",
       "      <td>2</td>\n",
       "      <td>1.75</td>\n",
       "      <td>1410</td>\n",
       "      <td>1005</td>\n",
       "      <td>1.5</td>\n",
       "      <td>0</td>\n",
       "      <td>0</td>\n",
       "      <td>3</td>\n",
       "      <td>9</td>\n",
       "      <td>900</td>\n",
       "      <td>1</td>\n",
       "      <td>2011</td>\n",
       "      <td>0</td>\n",
       "      <td>98027</td>\n",
       "      <td>1440</td>\n",
       "      <td>1188</td>\n",
       "      <td>399900</td>\n",
       "    </tr>\n",
       "    <tr>\n",
       "      <th>15937</th>\n",
       "      <td>735536</td>\n",
       "      <td>3</td>\n",
       "      <td>1.00</td>\n",
       "      <td>1320</td>\n",
       "      <td>8100</td>\n",
       "      <td>1.0</td>\n",
       "      <td>0</td>\n",
       "      <td>0</td>\n",
       "      <td>3</td>\n",
       "      <td>6</td>\n",
       "      <td>880</td>\n",
       "      <td>1</td>\n",
       "      <td>1943</td>\n",
       "      <td>0</td>\n",
       "      <td>98166</td>\n",
       "      <td>1000</td>\n",
       "      <td>8100</td>\n",
       "      <td>268950</td>\n",
       "    </tr>\n",
       "  </tbody>\n",
       "</table>\n",
       "<p>21420 rows × 18 columns</p>\n",
       "</div>"
      ],
      "text/plain": [
       "         date  bedrooms  bathrooms  sqft_living  sqft_lot  floors  waterfront  \\\n",
       "2495   735710         6       3.00         2400      9373     2.0           0   \n",
       "6729   735361         4       1.75         2060     26036     1.0           0   \n",
       "8404   735456         3       1.00         1460     43000     1.0           0   \n",
       "8800   735689         3       1.00         1430      7599     1.5           0   \n",
       "3553   735676         4       2.00         1650      3504     1.0           0   \n",
       "...       ...       ...        ...          ...       ...     ...         ...   \n",
       "16723  735439         5       2.00         1600      4168     1.5           0   \n",
       "3257   735668         2       1.00         1040      7372     1.0           0   \n",
       "7614   735408         3       1.00         1100      4128     1.0           0   \n",
       "20963  735417         2       1.75         1410      1005     1.5           0   \n",
       "15937  735536         3       1.00         1320      8100     1.0           0   \n",
       "\n",
       "       view  condition  grade  sqft_above  sqft_basement  yr_built  \\\n",
       "2495      0          3      7        2400              0      1991   \n",
       "6729      0          4      8        1160              1      1947   \n",
       "8404      0          3      7        1460              0      1952   \n",
       "8800      0          4      6        1010              1      1930   \n",
       "3553      0          3      7         760              1      1951   \n",
       "...     ...        ...    ...         ...            ...       ...   \n",
       "16723     0          3      7        1600              0      1927   \n",
       "3257      0          5      7         840              1      1939   \n",
       "7614      0          4      7         720              1      1942   \n",
       "20963     0          3      9         900              1      2011   \n",
       "15937     0          3      6         880              1      1943   \n",
       "\n",
       "       yr_renovated  zipcode  sqft_living15  sqft_lot15   price  \n",
       "2495              0    98002           2060        7316  300000  \n",
       "6729              0    98166           2590       21891  647500  \n",
       "8404              0    98166           2250       20023  400000  \n",
       "8800              0    98168           1290       10320  235000  \n",
       "3553              1    98144           1480        3504  402500  \n",
       "...             ...      ...            ...         ...     ...  \n",
       "16723             0    98126           1190        4168  365000  \n",
       "3257              0    98126           1930        5150  380000  \n",
       "7614              0    98126           1510        4538  339000  \n",
       "20963             0    98027           1440        1188  399900  \n",
       "15937             0    98166           1000        8100  268950  \n",
       "\n",
       "[21420 rows x 18 columns]"
      ]
     },
     "execution_count": 107,
     "metadata": {},
     "output_type": "execute_result"
    }
   ],
   "source": [
    "# recall the unwrangled copy\n",
    "df_copy"
   ]
  },
  {
   "cell_type": "code",
   "execution_count": 108,
   "id": "possible-awareness",
   "metadata": {},
   "outputs": [],
   "source": [
    "# remove date\n",
    "df_copy=df_copy.drop(['date'], axis = 1) "
   ]
  },
  {
   "cell_type": "code",
   "execution_count": 110,
   "id": "comic-peninsula",
   "metadata": {},
   "outputs": [
    {
     "data": {
      "text/html": [
       "<div>\n",
       "<style scoped>\n",
       "    .dataframe tbody tr th:only-of-type {\n",
       "        vertical-align: middle;\n",
       "    }\n",
       "\n",
       "    .dataframe tbody tr th {\n",
       "        vertical-align: top;\n",
       "    }\n",
       "\n",
       "    .dataframe thead th {\n",
       "        text-align: right;\n",
       "    }\n",
       "</style>\n",
       "<table border=\"1\" class=\"dataframe\">\n",
       "  <thead>\n",
       "    <tr style=\"text-align: right;\">\n",
       "      <th></th>\n",
       "      <th>bedrooms</th>\n",
       "      <th>bathrooms</th>\n",
       "      <th>sqft_living</th>\n",
       "      <th>sqft_lot</th>\n",
       "      <th>floors</th>\n",
       "      <th>waterfront</th>\n",
       "      <th>view</th>\n",
       "      <th>condition</th>\n",
       "      <th>grade</th>\n",
       "      <th>sqft_above</th>\n",
       "      <th>sqft_basement</th>\n",
       "      <th>yr_built</th>\n",
       "      <th>yr_renovated</th>\n",
       "      <th>zipcode</th>\n",
       "      <th>sqft_living15</th>\n",
       "      <th>sqft_lot15</th>\n",
       "      <th>price</th>\n",
       "    </tr>\n",
       "  </thead>\n",
       "  <tbody>\n",
       "    <tr>\n",
       "      <th>2495</th>\n",
       "      <td>6</td>\n",
       "      <td>3.0</td>\n",
       "      <td>2400</td>\n",
       "      <td>9373</td>\n",
       "      <td>2.0</td>\n",
       "      <td>0</td>\n",
       "      <td>0</td>\n",
       "      <td>3</td>\n",
       "      <td>7</td>\n",
       "      <td>2400</td>\n",
       "      <td>0</td>\n",
       "      <td>1991</td>\n",
       "      <td>0</td>\n",
       "      <td>98002</td>\n",
       "      <td>2060</td>\n",
       "      <td>7316</td>\n",
       "      <td>300000</td>\n",
       "    </tr>\n",
       "  </tbody>\n",
       "</table>\n",
       "</div>"
      ],
      "text/plain": [
       "      bedrooms  bathrooms  sqft_living  sqft_lot  floors  waterfront  view  \\\n",
       "2495         6        3.0         2400      9373     2.0           0     0   \n",
       "\n",
       "      condition  grade  sqft_above  sqft_basement  yr_built  yr_renovated  \\\n",
       "2495          3      7        2400              0      1991             0   \n",
       "\n",
       "      zipcode  sqft_living15  sqft_lot15   price  \n",
       "2495    98002           2060        7316  300000  "
      ]
     },
     "execution_count": 110,
     "metadata": {},
     "output_type": "execute_result"
    }
   ],
   "source": [
    "# check if that worked\n",
    "df_copy.head(1)"
   ]
  },
  {
   "cell_type": "code",
   "execution_count": 112,
   "id": "pregnant-guinea",
   "metadata": {},
   "outputs": [],
   "source": [
    "# applying the standardscaler\n",
    "transformer = StandardScaler().fit(df_copy.iloc[:,:-1]) # scale all data except last colum, price\n",
    "\n",
    "x_standardized = transformer.transform(df_copy.iloc[:,:-1])"
   ]
  },
  {
   "cell_type": "code",
   "execution_count": 113,
   "id": "orange-farmer",
   "metadata": {},
   "outputs": [
    {
     "data": {
      "text/html": [
       "<div>\n",
       "<style scoped>\n",
       "    .dataframe tbody tr th:only-of-type {\n",
       "        vertical-align: middle;\n",
       "    }\n",
       "\n",
       "    .dataframe tbody tr th {\n",
       "        vertical-align: top;\n",
       "    }\n",
       "\n",
       "    .dataframe thead th {\n",
       "        text-align: right;\n",
       "    }\n",
       "</style>\n",
       "<table border=\"1\" class=\"dataframe\">\n",
       "  <thead>\n",
       "    <tr style=\"text-align: right;\">\n",
       "      <th></th>\n",
       "      <th>bedrooms</th>\n",
       "      <th>bathrooms</th>\n",
       "      <th>sqft_living</th>\n",
       "      <th>sqft_lot</th>\n",
       "      <th>floors</th>\n",
       "      <th>waterfront</th>\n",
       "      <th>view</th>\n",
       "      <th>condition</th>\n",
       "      <th>grade</th>\n",
       "      <th>sqft_above</th>\n",
       "      <th>sqft_basement</th>\n",
       "      <th>yr_built</th>\n",
       "      <th>yr_renovated</th>\n",
       "      <th>zipcode</th>\n",
       "      <th>sqft_living15</th>\n",
       "      <th>sqft_lot15</th>\n",
       "    </tr>\n",
       "  </thead>\n",
       "  <tbody>\n",
       "    <tr>\n",
       "      <th>0</th>\n",
       "      <td>2.837799</td>\n",
       "      <td>1.146831</td>\n",
       "      <td>0.344876</td>\n",
       "      <td>-0.138576</td>\n",
       "      <td>0.933243</td>\n",
       "      <td>-0.087567</td>\n",
       "      <td>-0.330907</td>\n",
       "      <td>-0.631956</td>\n",
       "      <td>-0.565549</td>\n",
       "      <td>0.734704</td>\n",
       "      <td>-0.804872</td>\n",
       "      <td>0.677421</td>\n",
       "      <td>-0.210639</td>\n",
       "      <td>-1.418843</td>\n",
       "      <td>0.104469</td>\n",
       "      <td>-0.199661</td>\n",
       "    </tr>\n",
       "    <tr>\n",
       "      <th>1</th>\n",
       "      <td>0.676531</td>\n",
       "      <td>-0.479287</td>\n",
       "      <td>-0.025177</td>\n",
       "      <td>0.262654</td>\n",
       "      <td>-0.918375</td>\n",
       "      <td>-0.087567</td>\n",
       "      <td>-0.330907</td>\n",
       "      <td>0.906458</td>\n",
       "      <td>0.287734</td>\n",
       "      <td>-0.761663</td>\n",
       "      <td>1.242433</td>\n",
       "      <td>-0.819867</td>\n",
       "      <td>-0.210639</td>\n",
       "      <td>1.647940</td>\n",
       "      <td>0.877604</td>\n",
       "      <td>0.333344</td>\n",
       "    </tr>\n",
       "    <tr>\n",
       "      <th>2</th>\n",
       "      <td>-0.404103</td>\n",
       "      <td>-1.454958</td>\n",
       "      <td>-0.678212</td>\n",
       "      <td>0.671131</td>\n",
       "      <td>-0.918375</td>\n",
       "      <td>-0.087567</td>\n",
       "      <td>-0.330907</td>\n",
       "      <td>-0.631956</td>\n",
       "      <td>-0.565549</td>\n",
       "      <td>-0.399639</td>\n",
       "      <td>-0.804872</td>\n",
       "      <td>-0.649721</td>\n",
       "      <td>-0.210639</td>\n",
       "      <td>1.647940</td>\n",
       "      <td>0.381631</td>\n",
       "      <td>0.265031</td>\n",
       "    </tr>\n",
       "    <tr>\n",
       "      <th>3</th>\n",
       "      <td>-0.404103</td>\n",
       "      <td>-1.454958</td>\n",
       "      <td>-0.710864</td>\n",
       "      <td>-0.181292</td>\n",
       "      <td>0.007434</td>\n",
       "      <td>-0.087567</td>\n",
       "      <td>-0.330907</td>\n",
       "      <td>0.906458</td>\n",
       "      <td>-1.418832</td>\n",
       "      <td>-0.942675</td>\n",
       "      <td>1.242433</td>\n",
       "      <td>-1.398365</td>\n",
       "      <td>-0.210639</td>\n",
       "      <td>1.685340</td>\n",
       "      <td>-1.018764</td>\n",
       "      <td>-0.089805</td>\n",
       "    </tr>\n",
       "    <tr>\n",
       "      <th>4</th>\n",
       "      <td>0.676531</td>\n",
       "      <td>-0.154064</td>\n",
       "      <td>-0.471418</td>\n",
       "      <td>-0.279896</td>\n",
       "      <td>-0.918375</td>\n",
       "      <td>-0.087567</td>\n",
       "      <td>-0.330907</td>\n",
       "      <td>-0.631956</td>\n",
       "      <td>-0.565549</td>\n",
       "      <td>-1.244362</td>\n",
       "      <td>1.242433</td>\n",
       "      <td>-0.683750</td>\n",
       "      <td>4.747469</td>\n",
       "      <td>1.236542</td>\n",
       "      <td>-0.741602</td>\n",
       "      <td>-0.339065</td>\n",
       "    </tr>\n",
       "  </tbody>\n",
       "</table>\n",
       "</div>"
      ],
      "text/plain": [
       "   bedrooms  bathrooms  sqft_living  sqft_lot    floors  waterfront      view  \\\n",
       "0  2.837799   1.146831     0.344876 -0.138576  0.933243   -0.087567 -0.330907   \n",
       "1  0.676531  -0.479287    -0.025177  0.262654 -0.918375   -0.087567 -0.330907   \n",
       "2 -0.404103  -1.454958    -0.678212  0.671131 -0.918375   -0.087567 -0.330907   \n",
       "3 -0.404103  -1.454958    -0.710864 -0.181292  0.007434   -0.087567 -0.330907   \n",
       "4  0.676531  -0.154064    -0.471418 -0.279896 -0.918375   -0.087567 -0.330907   \n",
       "\n",
       "   condition     grade  sqft_above  sqft_basement  yr_built  yr_renovated  \\\n",
       "0  -0.631956 -0.565549    0.734704      -0.804872  0.677421     -0.210639   \n",
       "1   0.906458  0.287734   -0.761663       1.242433 -0.819867     -0.210639   \n",
       "2  -0.631956 -0.565549   -0.399639      -0.804872 -0.649721     -0.210639   \n",
       "3   0.906458 -1.418832   -0.942675       1.242433 -1.398365     -0.210639   \n",
       "4  -0.631956 -0.565549   -1.244362       1.242433 -0.683750      4.747469   \n",
       "\n",
       "    zipcode  sqft_living15  sqft_lot15  \n",
       "0 -1.418843       0.104469   -0.199661  \n",
       "1  1.647940       0.877604    0.333344  \n",
       "2  1.647940       0.381631    0.265031  \n",
       "3  1.685340      -1.018764   -0.089805  \n",
       "4  1.236542      -0.741602   -0.339065  "
      ]
     },
     "execution_count": 113,
     "metadata": {},
     "output_type": "execute_result"
    }
   ],
   "source": [
    "# assign column headers\n",
    "full_standardized = pd.DataFrame(x_standardized,columns=df_copy.columns.tolist()[:-1]) # assign names from former dataframe minus price\n",
    "#check dataframe\n",
    "full_standardized.head()"
   ]
  },
  {
   "cell_type": "code",
   "execution_count": 114,
   "id": "destroyed-former",
   "metadata": {},
   "outputs": [],
   "source": [
    "# fit the LR model\n",
    "X = full_standardized\n",
    "y = df_copy['price']"
   ]
  },
  {
   "cell_type": "code",
   "execution_count": 115,
   "id": "loving-vietnam",
   "metadata": {},
   "outputs": [
    {
     "data": {
      "text/plain": [
       "LinearRegression()"
      ]
     },
     "execution_count": 115,
     "metadata": {},
     "output_type": "execute_result"
    }
   ],
   "source": [
    "#splitting the dara\n",
    "X_train, X_test, y_train, y_test = train_test_split(X, y, test_size = 0.3, random_state=40) \n",
    "\n",
    "# Fitting the training data into the linear regression model\n",
    "lin_model = LinearRegression()\n",
    "lin_model.fit(X_train, y_train)"
   ]
  },
  {
   "cell_type": "code",
   "execution_count": 116,
   "id": "forced-mason",
   "metadata": {},
   "outputs": [
    {
     "data": {
      "text/plain": [
       "0.26421782049918396"
      ]
     },
     "execution_count": 116,
     "metadata": {},
     "output_type": "execute_result"
    }
   ],
   "source": [
    "r2 = r2_score(y_test, predictions)\n",
    "r2"
   ]
  },
  {
   "cell_type": "markdown",
   "id": "fitted-vietnamese",
   "metadata": {},
   "source": [
    "### The linear regression model performt worse with this data. Lets try polynomial"
   ]
  },
  {
   "cell_type": "code",
   "execution_count": 119,
   "id": "competitive-brooks",
   "metadata": {},
   "outputs": [
    {
     "name": "stdout",
     "output_type": "stream",
     "text": [
      "The model's performance for the training set\n",
      "-------------------------------------------\n",
      "Training set's RMSE is 217714.01425207555\n",
      "Training set's R_2 score is 0.6528813544501639\n",
      "\n",
      "\n",
      "The model performance for the test set\n",
      "-------------------------------------------\n",
      "Testing set's RMSE is 214824.37136192547\n",
      "Testing set's R_2 score is 0.6495489329602582\n"
     ]
    }
   ],
   "source": [
    "# fit the polynomial regression model\n",
    "def create_polynomial_regression_model(degree):\n",
    "  \n",
    "  poly_features = PolynomialFeatures(degree=degree)\n",
    "  \n",
    "  # With this line of code, the previous's section model is transformed into higher features\n",
    "  X_train_poly = poly_features.fit_transform(X_train)\n",
    "  \n",
    "  # The transformed features are fitted to a polinomial regression\n",
    "  poly_model = LinearRegression()\n",
    "  poly_model.fit(X_train_poly, y_train)\n",
    "  \n",
    "  # A prediction on the training data set is conducted\n",
    "  y_train_predicted = poly_model.predict(X_train_poly)\n",
    "  \n",
    "  # A prediciton on the test data set is carried out\n",
    "  y_test_predict = poly_model.predict(poly_features.fit_transform(X_test))\n",
    "  \n",
    "  # The training dataset is evaluated\n",
    "  rmse_train = np.sqrt(mean_squared_error(y_train, y_train_predicted))\n",
    "  r2_train = r2_score(y_train, y_train_predicted)\n",
    "  \n",
    "  # Model'S evaluation on the test data set\n",
    "  rmse_test = np.sqrt(mean_squared_error(y_test, y_test_predict))\n",
    "  r2_test = r2_score(y_test, y_test_predict)\n",
    "  \n",
    "  print(\"The model's performance for the training set\")\n",
    "  print(\"-------------------------------------------\")\n",
    "  print(\"Training set's RMSE is {}\".format(rmse_train))\n",
    "  print(\"Training set's R_2 score is {}\".format(r2_train))\n",
    "  \n",
    "  print(\"\\n\")\n",
    "  \n",
    "  print(\"The model performance for the test set\")\n",
    "  print(\"-------------------------------------------\")\n",
    "  print(\"Testing set's RMSE is {}\".format(rmse_test))\n",
    "  print(\"Testing set's R_2 score is {}\".format(r2_test))  \n",
    "    \n",
    "create_polynomial_regression_model(1)"
   ]
  },
  {
   "cell_type": "markdown",
   "id": "conservative-spider",
   "metadata": {},
   "source": [
    "### The polynomial model performed even better with this new dataset\n",
    "\n",
    "Old Highscore: \n",
    "\n",
    "R2: 0.6293756496701295\n",
    "\n",
    "RSME: 212286.84856347472\n",
    "\n",
    "New Highscores: \n",
    "\n",
    "R_2: 0.6495489329602582\n",
    "\n",
    "RMSE: 214824.37136192547 (slightly worse)\n",
    "***\n"
   ]
  },
  {
   "cell_type": "markdown",
   "id": "compound-quilt",
   "metadata": {},
   "source": [
    "We are under the impression that we need to handle the unbalanced columns we dropped earlier to achievy higher accuracy of the model. I might try another run later"
   ]
  }
 ],
 "metadata": {
  "kernelspec": {
   "display_name": "Python 3",
   "language": "python",
   "name": "python3"
  },
  "language_info": {
   "codemirror_mode": {
    "name": "ipython",
    "version": 3
   },
   "file_extension": ".py",
   "mimetype": "text/x-python",
   "name": "python",
   "nbconvert_exporter": "python",
   "pygments_lexer": "ipython3",
   "version": "3.9.2"
  }
 },
 "nbformat": 4,
 "nbformat_minor": 5
}
